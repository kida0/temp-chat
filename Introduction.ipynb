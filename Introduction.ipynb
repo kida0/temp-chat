{
 "cells": [
  {
   "cell_type": "markdown",
   "metadata": {},
   "source": [
    "# WELCOME TO  LANGCHAIN"
   ]
  },
  {
   "cell_type": "code",
   "execution_count": 2,
   "metadata": {},
   "outputs": [
    {
     "data": {
      "text/plain": [
       "('\\n\\nThere are eight planets in our Solar System: Mercury, Venus, Earth, Mars, Jupiter, Saturn, Uranus, and Neptune.',\n",
       " 'As of now, there are eight confirmed planets in our solar system. These include Mercury, Venus, Earth, Mars, Jupiter, Saturn, Uranus, and Neptune. However, there is ongoing debate regarding the classification of Pluto as a planet, as it was reclassified as a \"dwarf planet\" in 2006 by the International Astronomical Union.')"
      ]
     },
     "execution_count": 2,
     "metadata": {},
     "output_type": "execute_result"
    }
   ],
   "source": [
    "from langchain.llms.openai import OpenAI\n",
    "from langchain.chat_models import ChatOpenAI\n",
    "\n",
    "llm = OpenAI()\n",
    "chat = ChatOpenAI()\n",
    "\n",
    "# text davinchi model \n",
    "a = llm.predict(\"How many planets are there?\")\n",
    "\n",
    "# chat-gpt-turbo\n",
    "b = chat.predict(\"How many planets are there?\")\n",
    "\n",
    "a, b"
   ]
  },
  {
   "cell_type": "code",
   "execution_count": 5,
   "metadata": {},
   "outputs": [],
   "source": [
    "chat = ChatOpenAI(\n",
    "    temperature=0.1, # 얼마나 창의점을 하는지(높을수록 더 창의적)\n",
    ")"
   ]
  },
  {
   "cell_type": "code",
   "execution_count": 7,
   "metadata": {},
   "outputs": [
    {
     "data": {
      "text/plain": [
       "AIMessage(content='Ciao! Il mio nome è Paolo. La distanza tra il Messico e la Thailandia è di circa 17.000 chilometri.')"
      ]
     },
     "execution_count": 7,
     "metadata": {},
     "output_type": "execute_result"
    }
   ],
   "source": [
    "from langchain.schema import HumanMessage, AIMessage, SystemMessage\n",
    "\n",
    "messages = [\n",
    "    SystemMessage(content=\"You are a geopraphy expert. And you only reply in Italian.\"),\n",
    "    AIMessage(content=\"Ciao, mi chiamo Paolo!\"),\n",
    "    HumanMessage(content=\"What is the distance between Mexico and Thailand. Also, what is your name?\")\n",
    "]\n",
    "\n",
    "chat.predict_messages(messages)"
   ]
  },
  {
   "cell_type": "code",
   "execution_count": 3,
   "metadata": {},
   "outputs": [],
   "source": [
    "# prompt template\n",
    "from langchain.chat_models import ChatOpenAI\n",
    "from langchain.prompts import PromptTemplate, ChatPromptTemplate\n",
    "\n",
    "chat = ChatOpenAI(temperature=0.1)\n",
    "\n",
    "template = PromptTemplate.from_template(\"What is the distance between {country_a} and {country_b}. Also, what is your name?\")\n",
    "prompt = template.format(country_a=\"Mexico\", country_b=\"Thailand\")\n",
    "\n",
    "chat.predict(prompt)"
   ]
  },
  {
   "cell_type": "code",
   "execution_count": 14,
   "metadata": {},
   "outputs": [
    {
     "data": {
      "text/plain": [
       "AIMessage(content='Γεια σου! Το όνομά μου είναι Σωκράτης. Η απόσταση μεταξύ του Μεξικού και της Ταϊλάνδης είναι περίπου 17.000 χιλιόμετρα.')"
      ]
     },
     "execution_count": 14,
     "metadata": {},
     "output_type": "execute_result"
    }
   ],
   "source": [
    "template = ChatPromptTemplate.from_messages(\n",
    "    [\n",
    "        (\"system\", \"You are a geopraphy expert. And you only reply in {language}.\"),\n",
    "        (\"ai\", \"Ciao, mi chiamo {name}!\"),\n",
    "        (\"human\", \"What is the distance between {country_a} and {country_b}. Also, what is your name?\"),\n",
    "    ]\n",
    ")\n",
    "\n",
    "# validate\n",
    "prompt = template.format_messages(\n",
    "    language=\"Greek\",\n",
    "    name=\"Socrates\",\n",
    "    country_a=\"Mexico\",\n",
    "    country_b=\"Thailand\",\n",
    ")\n",
    "\n",
    "chat.predict_messages(prompt)"
   ]
  },
  {
   "cell_type": "code",
   "execution_count": 17,
   "metadata": {},
   "outputs": [],
   "source": [
    "# output parser\n",
    "# langchain expression parser\n",
    "from langchain.schema import BaseOutputParser\n",
    "\n",
    "class CommanOutputParser(BaseOutputParser):\n",
    "    def parse(self, text):\n",
    "        items = text.strip().split(\",\") # strip: 앞 뒤 공백 제거\n",
    "        return list(map(str.strip, items))"
   ]
  },
  {
   "cell_type": "code",
   "execution_count": 22,
   "metadata": {},
   "outputs": [
    {
     "data": {
      "text/plain": [
       "['red',\n",
       " 'orange',\n",
       " 'yellow',\n",
       " 'green',\n",
       " 'blue',\n",
       " 'indigo',\n",
       " 'violet',\n",
       " 'black',\n",
       " 'white',\n",
       " 'gray']"
      ]
     },
     "execution_count": 22,
     "metadata": {},
     "output_type": "execute_result"
    }
   ],
   "source": [
    "from langchain.prompts import ChatPromptTemplate\n",
    "\n",
    "template = ChatPromptTemplate.from_messages([\n",
    "    (\"system\", \"You are a list generating machine. Everything you are asked will be answered with \\\n",
    "                a comma separated list of max {max_items} in lower case. Do NOT reply with anything else\"),\n",
    "    (\"human\", \"{question}\")\n",
    "])\n",
    "\n",
    "prompt = template.format_messages(\n",
    "    max_items=10,\n",
    "    # question=\"What are the planets?\"\n",
    "    question=\"What are the colors?\"\n",
    ")\n",
    "\n",
    "result = chat.predict_messages(prompt)\n",
    "\n",
    "p = CommanOutputParser()\n",
    "p.parse(result.content)"
   ]
  },
  {
   "cell_type": "code",
   "execution_count": 23,
   "metadata": {},
   "outputs": [
    {
     "data": {
      "text/plain": [
       "['pikachu', 'charizard', 'bulbasaur', 'squirtle', 'jigglypuff']"
      ]
     },
     "execution_count": 23,
     "metadata": {},
     "output_type": "execute_result"
    }
   ],
   "source": [
    "# |: super magical operator for langchane \n",
    "chain = template | chat | CommanOutputParser()\n",
    "chain.invoke({\n",
    "    \"max_items\": 5,\n",
    "    \"question\": \"What are the pokemons?\"\n",
    "})\n",
    "\n",
    "# all = chain_one | chain_two "
   ]
  },
  {
   "cell_type": "code",
   "execution_count": 35,
   "metadata": {},
   "outputs": [],
   "source": [
    "# chain component prompt, chatmodel, outputparser(already used) | retriever, tool\n",
    "from langchain.chat_models import ChatOpenAI\n",
    "from langchain.prompts import ChatPromptTemplate\n",
    "\n",
    "chat = ChatOpenAI(temperature=0.1)\n",
    "\n",
    "chef_prompt = ChatPromptTemplate.from_messages([\n",
    "    (\"system\", \"You are a world-class international chef. You create easy to follow recipies \\\n",
    "                for any type of cuisine with easy to find ingredients.\"),\n",
    "     \"human\", \"I want to cook {cuisine} food\",\n",
    "])\n",
    "\n",
    "chef_chain = chef_prompt | chat"
   ]
  },
  {
   "cell_type": "code",
   "execution_count": 36,
   "metadata": {},
   "outputs": [],
   "source": [
    "veg_chef_prompt = ChatPromptTemplate.from_messages([\n",
    "    (\"system\", \"You are a vegeterian chef specialized on making traditional recipies \\\n",
    "                vegetarian. You find alternative ingredients and explain their preparation. \\\n",
    "                You don't radically modify the recipe. If there is no alternative for a food \\\n",
    "                just say you don't know how to replace it\"),\n",
    "    (\"human\", \"{recipe}\")\n",
    "])\n",
    "\n",
    "veg_chain = veg_chef_prompt | chat"
   ]
  },
  {
   "cell_type": "code",
   "execution_count": 38,
   "metadata": {},
   "outputs": [
    {
     "data": {
      "text/plain": [
       "AIMessage(content=\"To make this Chicken Tikka Masala recipe vegetarian, you can replace the boneless chicken with a plant-based alternative such as tofu or tempeh. Here's how you can prepare the alternative ingredients:\\n\\nAlternative Ingredients:\\n- 500g firm tofu or tempeh, cut into bite-sized pieces\\n\\nInstructions:\\n1. If using tofu, drain the tofu and press it between paper towels or a clean kitchen towel to remove excess moisture. Cut the tofu into bite-sized pieces. If using tempeh, simply cut it into bite-sized pieces.\\n\\n2. In a bowl, combine the plain yogurt, lemon juice, 1 teaspoon of cumin, 1 teaspoon of coriander, turmeric, paprika, and chili powder. Add the tofu or tempeh pieces and mix well. Marinate for at least 1 hour, or overnight in the refrigerator for best results.\\n\\n3. Heat the vegetable oil in a large pan over medium heat. Add the chopped onion and cook until golden brown, stirring occasionally.\\n\\n4. Add the minced garlic and grated ginger to the pan. Cook for another 1-2 minutes until fragrant.\\n\\n5. Add the remaining cumin, coriander, garam masala, and tomato puree to the pan. Stir well to combine all the spices and cook for 2-3 minutes.\\n\\n6. Add the marinated tofu or tempeh pieces to the pan, along with any remaining marinade. Stir well to coat the tofu or tempeh with the sauce. Cook for about 10 minutes, or until the tofu or tempeh is heated through.\\n\\n7. Reduce the heat to low and pour in the heavy cream. Stir gently to combine and simmer for an additional 5 minutes. Season with salt to taste.\\n\\n8. Garnish with freshly chopped cilantro before serving. Serve hot with steamed rice or naan bread.\\n\\nEnjoy your homemade Vegetarian Tikka Masala!\")"
      ]
     },
     "execution_count": 38,
     "metadata": {},
     "output_type": "execute_result"
    }
   ],
   "source": [
    "# Langchain method: Runnable map \n",
    "final_chain = {\"recipe\": chef_chain} | veg_chain\n",
    "\n",
    "final_chain.invoke({\"cuisine\": \"indian\"})"
   ]
  },
  {
   "cell_type": "code",
   "execution_count": 40,
   "metadata": {},
   "outputs": [
    {
     "name": "stdout",
     "output_type": "stream",
     "text": [
      "Great! Indian cuisine is known for its rich flavors and aromatic spices. Here's a simple recipe for Chicken Tikka Masala, a popular Indian dish:\n",
      "\n",
      "Ingredients:\n",
      "- 500g boneless chicken, cut into bite-sized pieces\n",
      "- 1 cup plain yogurt\n",
      "- 2 tablespoons lemon juice\n",
      "- 2 tablespoons vegetable oil\n",
      "- 1 large onion, finely chopped\n",
      "- 3 cloves of garlic, minced\n",
      "- 1-inch piece of ginger, grated\n",
      "- 2 teaspoons ground cumin\n",
      "- 2 teaspoons ground coriander\n",
      "- 1 teaspoon turmeric powder\n",
      "- 1 teaspoon paprika\n",
      "- 1 teaspoon garam masala\n",
      "- 1 cup tomato puree\n",
      "- 1 cup heavy cream\n",
      "- Salt, to taste\n",
      "- Fresh cilantro, for garnish\n",
      "\n",
      "Instructions:\n",
      "1. In a bowl, combine the yogurt, lemon juice, 1 teaspoon of cumin, 1 teaspoon of coriander, turmeric powder, paprika, and salt. Mix well.\n",
      "2. Add the chicken pieces to the marinade, ensuring they are well coated. Cover and refrigerate for at least 1 hour, or overnight for best results.\n",
      "3. Preheat your grill or oven to medium-high heat. If using a grill, thread the marinated chicken onto skewers.\n",
      "4. Grill the chicken for about 10-12 minutes, turning occasionally, until cooked through and slightly charred. If using an oven, place the chicken on a baking sheet and bake at 400°F (200°C) for 15-20 minutes, or until cooked through.\n",
      "5. In a large skillet, heat the vegetable oil over medium heat. Add the chopped onion and cook until golden brown, stirring occasionally.\n",
      "6. Add the minced garlic and grated ginger to the skillet and cook for another minute.\n",
      "7. Stir in the remaining cumin, coriander, garam masala, and tomato puree. Cook for 2-3 minutes, allowing the flavors to meld together.\n",
      "8. Reduce the heat to low and add the heavy cream. Stir well and simmer for 5 minutes, until the sauce thickens slightly.\n",
      "9. Add the grilled chicken to the skillet and simmer for an additional 5 minutes, allowing the chicken to absorb the flavors of the sauce.\n",
      "10. Taste and adjust the seasoning with salt if needed.\n",
      "11. Garnish with fresh cilantro and serve hot with steamed rice or naan bread.\n",
      "\n",
      "Enjoy your homemade Chicken Tikka Masala!To make a vegetarian version of Chicken Tikka Masala, you can replace the chicken with a plant-based protein such as tofu or paneer. Here's how you can modify the recipe:\n",
      "\n",
      "Ingredients:\n",
      "- 500g tofu or paneer, cut into bite-sized pieces\n",
      "- 1 cup plain yogurt (use dairy-free yogurt if vegan)\n",
      "- 2 tablespoons lemon juice\n",
      "- 2 tablespoons vegetable oil\n",
      "- 1 large onion, finely chopped\n",
      "- 3 cloves of garlic, minced\n",
      "- 1-inch piece of ginger, grated\n",
      "- 2 teaspoons ground cumin\n",
      "- 2 teaspoons ground coriander\n",
      "- 1 teaspoon turmeric powder\n",
      "- 1 teaspoon paprika\n",
      "- 1 teaspoon garam masala\n",
      "- 1 cup tomato puree\n",
      "- 1 cup coconut cream (or dairy-free heavy cream)\n",
      "- Salt, to taste\n",
      "- Fresh cilantro, for garnish\n",
      "\n",
      "Instructions:\n",
      "1. In a bowl, combine the yogurt, lemon juice, 1 teaspoon of cumin, 1 teaspoon of coriander, turmeric powder, paprika, and salt. Mix well.\n",
      "2. Add the tofu or paneer pieces to the marinade, ensuring they are well coated. Cover and refrigerate for at least 1 hour, or overnight for best results.\n",
      "3. Preheat your grill or oven to medium-high heat. If using a grill, thread the marinated tofu or paneer onto skewers. If using an oven, place the tofu or paneer on a baking sheet.\n",
      "4. Grill or bake the tofu or paneer for about 10-12 minutes, turning occasionally, until slightly charred.\n",
      "5. In a large skillet, heat the vegetable oil over medium heat. Add the chopped onion and cook until golden brown, stirring occasionally.\n",
      "6. Add the minced garlic and grated ginger to the skillet and cook for another minute.\n",
      "7. Stir in the remaining cumin, coriander, garam masala, and tomato puree. Cook for 2-3 minutes, allowing the flavors to meld together.\n",
      "8. Reduce the heat to low and add the coconut cream. Stir well and simmer for 5 minutes, until the sauce thickens slightly.\n",
      "9. Add the grilled tofu or paneer to the skillet and simmer for an additional 5 minutes, allowing it to absorb the flavors of the sauce.\n",
      "10. Taste and adjust the seasoning with salt if needed.\n",
      "11. Garnish with fresh cilantro and serve hot with steamed rice or naan bread.\n",
      "\n",
      "Enjoy your homemade Vegetarian Tikka Masala!"
     ]
    },
    {
     "data": {
      "text/plain": [
       "AIMessageChunk(content=\"To make a vegetarian version of Chicken Tikka Masala, you can replace the chicken with a plant-based protein such as tofu or paneer. Here's how you can modify the recipe:\\n\\nIngredients:\\n- 500g tofu or paneer, cut into bite-sized pieces\\n- 1 cup plain yogurt (use dairy-free yogurt if vegan)\\n- 2 tablespoons lemon juice\\n- 2 tablespoons vegetable oil\\n- 1 large onion, finely chopped\\n- 3 cloves of garlic, minced\\n- 1-inch piece of ginger, grated\\n- 2 teaspoons ground cumin\\n- 2 teaspoons ground coriander\\n- 1 teaspoon turmeric powder\\n- 1 teaspoon paprika\\n- 1 teaspoon garam masala\\n- 1 cup tomato puree\\n- 1 cup coconut cream (or dairy-free heavy cream)\\n- Salt, to taste\\n- Fresh cilantro, for garnish\\n\\nInstructions:\\n1. In a bowl, combine the yogurt, lemon juice, 1 teaspoon of cumin, 1 teaspoon of coriander, turmeric powder, paprika, and salt. Mix well.\\n2. Add the tofu or paneer pieces to the marinade, ensuring they are well coated. Cover and refrigerate for at least 1 hour, or overnight for best results.\\n3. Preheat your grill or oven to medium-high heat. If using a grill, thread the marinated tofu or paneer onto skewers. If using an oven, place the tofu or paneer on a baking sheet.\\n4. Grill or bake the tofu or paneer for about 10-12 minutes, turning occasionally, until slightly charred.\\n5. In a large skillet, heat the vegetable oil over medium heat. Add the chopped onion and cook until golden brown, stirring occasionally.\\n6. Add the minced garlic and grated ginger to the skillet and cook for another minute.\\n7. Stir in the remaining cumin, coriander, garam masala, and tomato puree. Cook for 2-3 minutes, allowing the flavors to meld together.\\n8. Reduce the heat to low and add the coconut cream. Stir well and simmer for 5 minutes, until the sauce thickens slightly.\\n9. Add the grilled tofu or paneer to the skillet and simmer for an additional 5 minutes, allowing it to absorb the flavors of the sauce.\\n10. Taste and adjust the seasoning with salt if needed.\\n11. Garnish with fresh cilantro and serve hot with steamed rice or naan bread.\\n\\nEnjoy your homemade Vegetarian Tikka Masala!\")"
      ]
     },
     "execution_count": 40,
     "metadata": {},
     "output_type": "execute_result"
    }
   ],
   "source": [
    "# chain component prompt, chatmodel, outputparser(already used) | retriever, tool\n",
    "from langchain.chat_models import ChatOpenAI\n",
    "from langchain.prompts import ChatPromptTemplate\n",
    "from langchain.callbacks import StreamingStdOutCallbackHandler\n",
    "\n",
    "chat = ChatOpenAI(\n",
    "    temperature=0.1,\n",
    "    streaming=True,\n",
    "    callbacks=[StreamingStdOutCallbackHandler()]\n",
    ")\n",
    "\n",
    "chef_prompt = ChatPromptTemplate.from_messages([\n",
    "    (\"system\", \"You are a world-class international chef. You create easy to follow recipies \\\n",
    "                for any type of cuisine with easy to find ingredients.\"),\n",
    "     \"human\", \"I want to cook {cuisine} food\",\n",
    "])\n",
    "\n",
    "chef_chain = chef_prompt | chat\n",
    "\n",
    "veg_chef_prompt = ChatPromptTemplate.from_messages([\n",
    "    (\"system\", \"You are a vegeterian chef specialized on making traditional recipies \\\n",
    "                vegetarian. You find alternative ingredients and explain their preparation. \\\n",
    "                You don't radically modify the recipe. If there is no alternative for a food \\\n",
    "                just say you don't know how to replace it\"),\n",
    "    (\"human\", \"{recipe}\")\n",
    "])\n",
    "\n",
    "veg_chain = veg_chef_prompt | chat\n",
    "\n",
    "final_chain = {\"recipe\": chef_chain} | veg_chain\n",
    "final_chain.invoke({\"cuisine\": \"indian\"})"
   ]
  },
  {
   "cell_type": "markdown",
   "metadata": {},
   "source": [
    "# MODEL IO"
   ]
  },
  {
   "cell_type": "code",
   "execution_count": 45,
   "metadata": {},
   "outputs": [
    {
     "data": {
      "text/plain": [
       "'What is the capital of France'"
      ]
     },
     "execution_count": 45,
     "metadata": {},
     "output_type": "execute_result"
    }
   ],
   "source": [
    "from langchain.chat_models import ChatOpenAI\n",
    "from langchain.prompts import PromptTemplate\n",
    "from langchain.callbacks import StreamingStdOutCallbackHandler\n",
    "from langchain.prompts.few_shot import FewShotPromptTemplate\n",
    "\n",
    "chat = ChatOpenAI(\n",
    "    temperature=0.1,\n",
    "    streaming=True,\n",
    "    callbacks=[\n",
    "        StreamingStdOutCallbackHandler()\n",
    "    ]\n",
    ")\n",
    "\n",
    "# t = PromptTemplate.from_template(\"{country}의 수도가 어디야?\")\n",
    "t = PromptTemplate(\n",
    "    template=\"What is the capital of {country}\",\n",
    "    input_variables=[\"country\"],\n",
    ")\n",
    "\n",
    "t.format(country=\"France\")"
   ]
  },
  {
   "cell_type": "code",
   "execution_count": 49,
   "metadata": {},
   "outputs": [
    {
     "name": "stdout",
     "output_type": "stream",
     "text": [
      "AI: \n",
      "I know this:\n",
      "Capital: Berlin\n",
      "Language: German\n",
      "Food: Bratwurst and Sauerkraut\n",
      "Currency: Euro"
     ]
    },
    {
     "data": {
      "text/plain": [
       "AIMessageChunk(content='AI: \\nI know this:\\nCapital: Berlin\\nLanguage: German\\nFood: Bratwurst and Sauerkraut\\nCurrency: Euro')"
      ]
     },
     "execution_count": 49,
     "metadata": {},
     "output_type": "execute_result"
    }
   ],
   "source": [
    "# FewShotPromptTemplate\n",
    "examples = [\n",
    "    {\n",
    "        \"question\": \"What do you know about France\",\n",
    "        \"answer\": \"\"\"\n",
    "        Here is what I know:\n",
    "        Capital: Paris\n",
    "        Language: French\n",
    "        Food: Wine and Cheese\n",
    "        Currency: Euro\n",
    "        \"\"\",\n",
    "    },\n",
    "    {\n",
    "        \"question\": \"What do you know about Italy?\",\n",
    "        \"answer\": \"\"\"\n",
    "        I know this:\n",
    "        Capital: Rome\n",
    "        Language: Italian\n",
    "        Food: Pizza and Pasta\n",
    "        Currency: Euro\n",
    "        \"\"\"\n",
    "    },\n",
    "    {\n",
    "        \"question\": \"What do you know about Greece?\",\n",
    "        \"answer\": \"\"\"\n",
    "        I know this:\n",
    "        Capital: Athens\n",
    "        Language: Greek\n",
    "        Food: Souvlaki and Feta Cheese\n",
    "        Currency: Euro\n",
    "        \"\"\",   \n",
    "    },\n",
    "]\n",
    "\n",
    "example_template = \"\"\"\n",
    "    Huma: {question}\n",
    "    AI: {answer}\n",
    "\"\"\"\n",
    "\n",
    "exmaple_prompt = PromptTemplate.from_template(example_template)\n",
    "# exmaple_prompt = PromptTemplate.from_template(\"Human: {question}\\nAI:{answer}\")\n",
    "\n",
    "prompt = FewShotPromptTemplate(\n",
    "    example_prompt=exmaple_prompt,\n",
    "    examples=examples,\n",
    "    suffix=\"Human: What do you know about {country}\",\n",
    "    input_variables=[\"country\"],\n",
    ")\n",
    "\n",
    "prompt.format(country=\"Germany\")\n",
    "\n",
    "chain = prompt | chat\n",
    "\n",
    "chain.invoke({\"country\": \"Germany\"})"
   ]
  },
  {
   "cell_type": "code",
   "execution_count": 56,
   "metadata": {},
   "outputs": [
    {
     "name": "stdout",
     "output_type": "stream",
     "text": [
      "\n",
      "        I know this:\n",
      "        Capital: Berlin\n",
      "        Language: German\n",
      "        Food: Bratwurst and Sauerkraut\n",
      "        Currency: Euro\n",
      "        "
     ]
    },
    {
     "data": {
      "text/plain": [
       "AIMessageChunk(content='\\n        I know this:\\n        Capital: Berlin\\n        Language: German\\n        Food: Bratwurst and Sauerkraut\\n        Currency: Euro\\n        ')"
      ]
     },
     "execution_count": 56,
     "metadata": {},
     "output_type": "execute_result"
    }
   ],
   "source": [
    "# FewShotChaMessagePromptTemplate\n",
    "from langchain.chat_models import ChatOpenAI\n",
    "from langchain.prompts import ChatPromptTemplate\n",
    "from langchain.callbacks import StreamingStdOutCallbackHandler\n",
    "from langchain.prompts.few_shot import FewShotChatMessagePromptTemplate\n",
    "\n",
    "examples = [\n",
    "    {\n",
    "        \"country\": \"France\",\n",
    "        \"answer\": \"\"\"\n",
    "        Here is what I know:\n",
    "        Capital: Paris\n",
    "        Language: French\n",
    "        Food: Wine and Cheese\n",
    "        Currency: Euro\n",
    "        \"\"\",\n",
    "    },\n",
    "    {\n",
    "        \"country\": \"Italy\",\n",
    "        \"answer\": \"\"\"\n",
    "        I know this:\n",
    "        Capital: Rome\n",
    "        Language: Italian\n",
    "        Food: Pizza and Pasta\n",
    "        Currency: Euro\n",
    "        \"\"\"\n",
    "    },\n",
    "    {\n",
    "        \"country\": \"Greece\",\n",
    "        \"answer\": \"\"\"\n",
    "        I know this:\n",
    "        Capital: Athens\n",
    "        Language: Greek\n",
    "        Food: Souvlaki and Feta Cheese\n",
    "        Currency: Euro\n",
    "        \"\"\",   \n",
    "    },\n",
    "]\n",
    "\n",
    "example_prompt = ChatPromptTemplate.from_messages([\n",
    "    (\"human\", \"What do you know about {country}?\"),\n",
    "    (\"ai\", \"{answer}\")\n",
    "])\n",
    "\n",
    "example_prompt = FewShotChatMessagePromptTemplate(\n",
    "    example_prompt=example_prompt,\n",
    "    examples=examples,\n",
    ")\n",
    "\n",
    "final_prompt = ChatPromptTemplate.from_messages([\n",
    "    (\"system\", \"You are a geography expert, you git short answers.\"),\n",
    "    example_prompt,\n",
    "    (\"human\", \"What do you know about {country}?\")\n",
    "])\n",
    "\n",
    "chain = final_prompt | chat\n",
    "\n",
    "chain.invoke({\"country\": \"Germany\"})"
   ]
  },
  {
   "cell_type": "code",
   "execution_count": 4,
   "metadata": {},
   "outputs": [
    {
     "data": {
      "text/plain": [
       "'human: What do you know about France\\nai:\\n        Here is what I know:\\n        Capital: Paris\\n        Language: French\\n        Food: Wine and Cheese\\n        Currency: Euro\\n        \\n\\nhuman: What do you know about Italy?\\nai:\\n        I know this:\\n        Capital: Rome\\n        Language: Italian\\n        Food: Pizza and Pasta\\n        Currency: Euro\\n        \\n\\nhuman: what do you know abount Brazil?'"
      ]
     },
     "execution_count": 4,
     "metadata": {},
     "output_type": "execute_result"
    }
   ],
   "source": [
    "# LengthBasedExampleSelector\n",
    "from langchain.chat_models import ChatOpenAI\n",
    "from langchain.prompts.few_shot import FewShotPromptTemplate\n",
    "from langchain.callbacks import StreamingStdOutCallbackHandler\n",
    "from langchain.prompts import PromptTemplate\n",
    "from langchain.prompts.example_selector import LengthBasedExampleSelector\n",
    "\n",
    "chat = ChatOpenAI(\n",
    "    temperature=0.1,\n",
    "    streaming=True,\n",
    "    callbacks=[\n",
    "        StreamingStdOutCallbackHandler()\n",
    "    ]\n",
    ")\n",
    "\n",
    "examples = [\n",
    "    {\n",
    "        \"question\": \"What do you know about France\",\n",
    "        \"answer\": \"\"\"\n",
    "        Here is what I know:\n",
    "        Capital: Paris\n",
    "        Language: French\n",
    "        Food: Wine and Cheese\n",
    "        Currency: Euro\n",
    "        \"\"\",\n",
    "    },\n",
    "    {\n",
    "        \"question\": \"What do you know about Italy?\",\n",
    "        \"answer\": \"\"\"\n",
    "        I know this:\n",
    "        Capital: Rome\n",
    "        Language: Italian\n",
    "        Food: Pizza and Pasta\n",
    "        Currency: Euro\n",
    "        \"\"\"\n",
    "    },\n",
    "    {\n",
    "        \"question\": \"What do you know about Greece?\",\n",
    "        \"answer\": \"\"\"\n",
    "        I know this:\n",
    "        Capital: Athens\n",
    "        Language: Greek\n",
    "        Food: Souvlaki and Feta Cheese\n",
    "        Currency: Euro\n",
    "        \"\"\",   \n",
    "    },\n",
    "]\n",
    "\n",
    "example_prompt = PromptTemplate.from_template(\"human: {question}\\nai:{answer}\")\n",
    "\n",
    "example_selector = LengthBasedExampleSelector(\n",
    "    examples=examples,\n",
    "    example_prompt=example_prompt,\n",
    "    max_length=180,\n",
    ")\n",
    "\n",
    "prompt = FewShotPromptTemplate(\n",
    "    example_prompt=example_prompt,\n",
    "    example_selector=example_selector,\n",
    "    suffix=\"human: what do you know abount {country}?\",\n",
    "    input_variables=[\"country\"],\n",
    ")\n",
    "\n",
    "prompt.format(country=\"Brazil\")\n"
   ]
  },
  {
   "cell_type": "code",
   "execution_count": 7,
   "metadata": {},
   "outputs": [
    {
     "data": {
      "text/plain": [
       "'human: What do you know about Italy?\\nAI:\\n        I know this:\\n        Capital: Rome\\n        Language: Italian\\n        Food: Pizza and Pasta\\n        Currency: Euro\\n        \\n\\nhuman: What do you know about Brazil?'"
      ]
     },
     "execution_count": 7,
     "metadata": {},
     "output_type": "execute_result"
    }
   ],
   "source": [
    "# RnadomExampleSelector\n",
    "from typing import Any, Dict, List\n",
    "from langchain.prompts.example_selector.base import BaseExampleSelector\n",
    "\n",
    "class RandomExampleSelector(BaseExampleSelector):\n",
    "    def __init__(self, examples):\n",
    "        self.examples = examples\n",
    "        \n",
    "    def select_examples(self, input_variables):\n",
    "        from random import choice\n",
    "        return [choice(examples)]\n",
    "    \n",
    "    def add_example(self, example):\n",
    "        self.examples.append(example)\n",
    "    \n",
    "example_prompt = PromptTemplate.from_template(\"human: {question}\\nAI:{answer}\")\n",
    "example_selector = RandomExampleSelector(\n",
    "    examples= examples\n",
    ")\n",
    "\n",
    "prompt = FewShotPromptTemplate(\n",
    "    example_prompt=example_prompt,\n",
    "    example_selector=example_selector,\n",
    "    suffix=\"human: What do you know about {country}?\",\n",
    "    input_variables=[\"country\"],\n",
    ")\n",
    "\n",
    "prompt.format(country=\"Brazil\")"
   ]
  },
  {
   "cell_type": "code",
   "execution_count": 10,
   "metadata": {},
   "outputs": [
    {
     "data": {
      "text/plain": [
       "'What is the capital of Germany'"
      ]
     },
     "execution_count": 10,
     "metadata": {},
     "output_type": "execute_result"
    }
   ],
   "source": [
    "# load template from disk: 프롬프트를 가져다가 사용하기\n",
    "from langchain.chat_models import ChatOpenAI\n",
    "from langchain.callbacks import StreamingStdOutCallbackHandler\n",
    "from langchain.prompts.prompt import PromptTemplate\n",
    "from langchain.prompts import load_prompt\n",
    "\n",
    "# prompt = load_prompt(\"./prompt.json\")\n",
    "prompt = load_prompt(\"./prompt.yaml\")\n",
    "\n",
    "chat = ChatOpenAI(\n",
    "    temperature=0.1,\n",
    "    streaming=True,\n",
    "    callbacks=[\n",
    "        StreamingStdOutCallbackHandler()\n",
    "    ]\n",
    ") \n",
    "\n",
    "prompt.format(country=\"Germany\")\n"
   ]
  },
  {
   "cell_type": "code",
   "execution_count": 14,
   "metadata": {},
   "outputs": [
    {
     "data": {
      "text/plain": [
       "'\\n    \\n    You are a role playing assistant.\\n    And you are impersonating a Pirate\\n    \\n    \\n    \\n    This is an example of how you talk:\\n    \\n    human: What is you location?\\n    you: Arrrrg! That is a secret!! Arg Arg!!\\n    \\n    \\n    \\n    start now:\\n    \\n    human: What is your favorite food?\\n    you:\\n    \\n    '"
      ]
     },
     "execution_count": 14,
     "metadata": {},
     "output_type": "execute_result"
    }
   ],
   "source": [
    "# 프롬프트를 병합하여 사용하기\n",
    "from langchain.chat_models import ChatOpenAI\n",
    "from langchain.callbacks import StreamingStdOutCallbackHandler\n",
    "from langchain.prompts.pipeline import PipelinePromptTemplate\n",
    "\n",
    "chat = ChatOpenAI(\n",
    "    temperature=0.1,\n",
    "    streaming=True,\n",
    "    callbacks=[\n",
    "        StreamingStdOutCallbackHandler()\n",
    "    ]\n",
    ")\n",
    "\n",
    "intro = PromptTemplate.from_template(\n",
    "    \"\"\"\n",
    "    You are a role playing assistant.\n",
    "    And you are impersonating a {character}\n",
    "    \"\"\"\n",
    ")\n",
    "\n",
    "example = PromptTemplate.from_template(\n",
    "    \"\"\"\n",
    "    This is an example of how you talk:\n",
    "    \n",
    "    human: {example_question}\n",
    "    you: {example_answer}\n",
    "    \"\"\"\n",
    ")\n",
    "\n",
    "start = PromptTemplate.from_template(\n",
    "    \"\"\"\n",
    "    start now:\n",
    "    \n",
    "    human: {question}\n",
    "    you:\n",
    "    \"\"\"\n",
    ")\n",
    "\n",
    "final = PromptTemplate.from_template(\n",
    "    \"\"\"\n",
    "    {intro}\n",
    "    \n",
    "    {example}\n",
    "    \n",
    "    {start}\n",
    "    \"\"\"\n",
    ")\n",
    "\n",
    "prompts = [\n",
    "    (\"intro\", intro),\n",
    "    (\"example\", example),\n",
    "    (\"start\", start),\n",
    "]\n",
    "\n",
    "full_prompt = PipelinePromptTemplate(final_prompt=final, pipeline_prompts=prompts)\n",
    "full_prompt.format(character=\"Pirate\", example_question=\"What is you location?\", example_answer=\"Arrrrg! That is a secret!! Arg Arg!!\", question=\"What is your favorite food?\")"
   ]
  },
  {
   "cell_type": "code",
   "execution_count": 15,
   "metadata": {},
   "outputs": [
    {
     "name": "stdout",
     "output_type": "stream",
     "text": [
      "Arrrrg! Me favorite food be a good ol' plate o' fish 'n' chips! The taste o' crispy battered fish and salty chips be like a treasure for me taste buds! Arg Arg!!"
     ]
    },
    {
     "data": {
      "text/plain": [
       "AIMessageChunk(content=\"Arrrrg! Me favorite food be a good ol' plate o' fish 'n' chips! The taste o' crispy battered fish and salty chips be like a treasure for me taste buds! Arg Arg!!\")"
      ]
     },
     "execution_count": 15,
     "metadata": {},
     "output_type": "execute_result"
    }
   ],
   "source": [
    "chain = full_prompt | chat\n",
    "chain.invoke({\n",
    "    \"character\": \"Pirate\", \n",
    "    \"example_question\": \"What is you location?\", \n",
    "    \"example_answer\": \"Arrrrg! That is a secret!! Arg Arg!!\", \n",
    "    \"question\": \"What is your favorite food?\"\n",
    "})"
   ]
  },
  {
   "cell_type": "code",
   "execution_count": 18,
   "metadata": {},
   "outputs": [
    {
     "name": "stdout",
     "output_type": "stream",
     "text": [
      "\u001b[32;1m\u001b[1;3m[llm/start]\u001b[0m \u001b[1m[1:llm:ChatOpenAI] Entering LLM run with input:\n",
      "\u001b[0m{\n",
      "  \"prompts\": [\n",
      "    \"Human: How do you make italian pasta\"\n",
      "  ]\n",
      "}\n",
      "\u001b[36;1m\u001b[1;3m[llm/end]\u001b[0m \u001b[1m[1:llm:ChatOpenAI] [38.06s] Exiting LLM run with output:\n",
      "\u001b[0m{\n",
      "  \"generations\": [\n",
      "    [\n",
      "      {\n",
      "        \"text\": \"To make Italian pasta, you will need the following ingredients:\\n\\n- 2 cups of all-purpose flour\\n- 2 large eggs\\n- 1/2 teaspoon of salt\\n- Water (if needed)\\n\\nHere's a step-by-step guide to making Italian pasta:\\n\\n1. On a clean surface or in a large mixing bowl, pour the flour and create a well in the center.\\n2. Crack the eggs into the well and add the salt.\\n3. Using a fork or your fingers, gradually mix the eggs into the flour, incorporating a little bit at a time.\\n4. Once the dough starts to come together, knead it with your hands until it forms a smooth and elastic ball. If the dough feels too dry, you can add a little water, one tablespoon at a time, until it reaches the desired consistency.\\n5. Once the dough is formed, cover it with a clean kitchen towel and let it rest for about 30 minutes. This will allow the gluten to relax and make the dough easier to work with.\\n6. After resting, divide the dough into smaller portions. Take one portion and flatten it with your hands or a rolling pin until it is about 1/4 inch thick.\\n7. If you have a pasta machine, pass the dough through the machine, starting with the widest setting and gradually reducing the thickness until you reach the desired thickness for your pasta. If you don't have a pasta machine, you can use a rolling pin to roll out the dough as thin as possible.\\n8. Once the dough is rolled out, you can cut it into your desired pasta shape. For example, you can cut it into thin strips for spaghetti or wider strips for fettuccine. You can also use a pasta machine with specific attachments for different shapes.\\n9. As you cut the pasta, dust it with flour to prevent sticking. You can also hang the pasta on a drying rack or lay it flat on a clean surface until you're ready to cook it.\\n10. To cook the pasta, bring a large pot of salted water to a boil. Add the pasta and cook it until al dente, which means it should still have a slight bite to it. The cooking time will vary depending on the thickness of your pasta, so taste it occasionally to check for doneness.\\n11. Once the pasta is cooked, drain it and serve it with your favorite sauce or toppings.\\n\\nEnjoy your homemade Italian pasta!\",\n",
      "        \"generation_info\": {\n",
      "          \"finish_reason\": \"stop\"\n",
      "        },\n",
      "        \"type\": \"ChatGeneration\",\n",
      "        \"message\": {\n",
      "          \"lc\": 1,\n",
      "          \"type\": \"constructor\",\n",
      "          \"id\": [\n",
      "            \"langchain\",\n",
      "            \"schema\",\n",
      "            \"messages\",\n",
      "            \"AIMessage\"\n",
      "          ],\n",
      "          \"kwargs\": {\n",
      "            \"content\": \"To make Italian pasta, you will need the following ingredients:\\n\\n- 2 cups of all-purpose flour\\n- 2 large eggs\\n- 1/2 teaspoon of salt\\n- Water (if needed)\\n\\nHere's a step-by-step guide to making Italian pasta:\\n\\n1. On a clean surface or in a large mixing bowl, pour the flour and create a well in the center.\\n2. Crack the eggs into the well and add the salt.\\n3. Using a fork or your fingers, gradually mix the eggs into the flour, incorporating a little bit at a time.\\n4. Once the dough starts to come together, knead it with your hands until it forms a smooth and elastic ball. If the dough feels too dry, you can add a little water, one tablespoon at a time, until it reaches the desired consistency.\\n5. Once the dough is formed, cover it with a clean kitchen towel and let it rest for about 30 minutes. This will allow the gluten to relax and make the dough easier to work with.\\n6. After resting, divide the dough into smaller portions. Take one portion and flatten it with your hands or a rolling pin until it is about 1/4 inch thick.\\n7. If you have a pasta machine, pass the dough through the machine, starting with the widest setting and gradually reducing the thickness until you reach the desired thickness for your pasta. If you don't have a pasta machine, you can use a rolling pin to roll out the dough as thin as possible.\\n8. Once the dough is rolled out, you can cut it into your desired pasta shape. For example, you can cut it into thin strips for spaghetti or wider strips for fettuccine. You can also use a pasta machine with specific attachments for different shapes.\\n9. As you cut the pasta, dust it with flour to prevent sticking. You can also hang the pasta on a drying rack or lay it flat on a clean surface until you're ready to cook it.\\n10. To cook the pasta, bring a large pot of salted water to a boil. Add the pasta and cook it until al dente, which means it should still have a slight bite to it. The cooking time will vary depending on the thickness of your pasta, so taste it occasionally to check for doneness.\\n11. Once the pasta is cooked, drain it and serve it with your favorite sauce or toppings.\\n\\nEnjoy your homemade Italian pasta!\",\n",
      "            \"additional_kwargs\": {}\n",
      "          }\n",
      "        }\n",
      "      }\n",
      "    ]\n",
      "  ],\n",
      "  \"llm_output\": {\n",
      "    \"token_usage\": {\n",
      "      \"prompt_tokens\": 13,\n",
      "      \"completion_tokens\": 493,\n",
      "      \"total_tokens\": 506\n",
      "    },\n",
      "    \"model_name\": \"gpt-3.5-turbo\",\n",
      "    \"system_fingerprint\": null\n",
      "  },\n",
      "  \"run\": null\n",
      "}\n"
     ]
    },
    {
     "data": {
      "text/plain": [
       "\"To make Italian pasta, you will need the following ingredients:\\n\\n- 2 cups of all-purpose flour\\n- 2 large eggs\\n- 1/2 teaspoon of salt\\n- Water (if needed)\\n\\nHere's a step-by-step guide to making Italian pasta:\\n\\n1. On a clean surface or in a large mixing bowl, pour the flour and create a well in the center.\\n2. Crack the eggs into the well and add the salt.\\n3. Using a fork or your fingers, gradually mix the eggs into the flour, incorporating a little bit at a time.\\n4. Once the dough starts to come together, knead it with your hands until it forms a smooth and elastic ball. If the dough feels too dry, you can add a little water, one tablespoon at a time, until it reaches the desired consistency.\\n5. Once the dough is formed, cover it with a clean kitchen towel and let it rest for about 30 minutes. This will allow the gluten to relax and make the dough easier to work with.\\n6. After resting, divide the dough into smaller portions. Take one portion and flatten it with your hands or a rolling pin until it is about 1/4 inch thick.\\n7. If you have a pasta machine, pass the dough through the machine, starting with the widest setting and gradually reducing the thickness until you reach the desired thickness for your pasta. If you don't have a pasta machine, you can use a rolling pin to roll out the dough as thin as possible.\\n8. Once the dough is rolled out, you can cut it into your desired pasta shape. For example, you can cut it into thin strips for spaghetti or wider strips for fettuccine. You can also use a pasta machine with specific attachments for different shapes.\\n9. As you cut the pasta, dust it with flour to prevent sticking. You can also hang the pasta on a drying rack or lay it flat on a clean surface until you're ready to cook it.\\n10. To cook the pasta, bring a large pot of salted water to a boil. Add the pasta and cook it until al dente, which means it should still have a slight bite to it. The cooking time will vary depending on the thickness of your pasta, so taste it occasionally to check for doneness.\\n11. Once the pasta is cooked, drain it and serve it with your favorite sauce or toppings.\\n\\nEnjoy your homemade Italian pasta!\""
      ]
     },
     "execution_count": 18,
     "metadata": {},
     "output_type": "execute_result"
    }
   ],
   "source": [
    "from langchain.chat_models import ChatOpenAI\n",
    "from langchain.callbacks import StreamingStdOutCallbackHandler\n",
    "from langchain.globals import set_llm_cache, set_debug\n",
    "from langchain.cache import InMemoryCache, SQLiteCache\n",
    "\n",
    "# InMemoryCache는 노트북을 재시작하면 제거됨\n",
    "# set_llm_cache(InMemoryCache())\n",
    "\n",
    "# langchain의 integration 페이지에서 서드파티 확인 가능\n",
    "set_llm_cache(SQLiteCache(\"cache.db\"))\n",
    "set_debug(True)\n",
    "\n",
    "chat = ChatOpenAI(\n",
    "    temperature=0.1\n",
    ")\n",
    "\n",
    "chat.predict(\"How do you make italian pasta\")\n"
   ]
  },
  {
   "cell_type": "code",
   "execution_count": 20,
   "metadata": {},
   "outputs": [
    {
     "data": {
      "text/plain": [
       "\"To make Italian pasta, you will need the following ingredients:\\n\\n- 2 cups of all-purpose flour\\n- 2 large eggs\\n- 1/2 teaspoon of salt\\n- Water (if needed)\\n\\nHere's a step-by-step guide to making Italian pasta:\\n\\n1. On a clean surface or in a large mixing bowl, pour the flour and create a well in the center.\\n2. Crack the eggs into the well and add the salt.\\n3. Using a fork or your fingers, gradually mix the eggs into the flour, incorporating a little bit at a time.\\n4. Once the dough starts to come together, knead it with your hands until it forms a smooth and elastic ball. If the dough feels too dry, you can add a little water, one tablespoon at a time, until it reaches the desired consistency.\\n5. Once the dough is formed, cover it with a clean kitchen towel and let it rest for about 30 minutes. This will allow the gluten to relax and make the dough easier to work with.\\n6. After resting, divide the dough into smaller portions. Take one portion and flatten it with your hands or a rolling pin until it is about 1/4 inch thick.\\n7. If you have a pasta machine, pass the dough through the machine, starting with the widest setting and gradually reducing the thickness until you reach the desired thickness for your pasta. If you don't have a pasta machine, you can use a rolling pin to roll out the dough as thin as possible.\\n8. Once the dough is rolled out, you can cut it into your desired pasta shape. For example, you can cut it into thin strips for spaghetti or wider strips for fettuccine. You can also use a pasta machine with specific attachments for different shapes.\\n9. As you cut the pasta, dust it with flour to prevent sticking. You can also hang the pasta on a drying rack or lay it flat on a clean surface until you're ready to cook it.\\n10. To cook the pasta, bring a large pot of salted water to a boil. Add the pasta and cook it until al dente, which means it should still have a slight bite to it. The cooking time will vary depending on the thickness of your pasta, so taste it occasionally to check for doneness.\\n11. Once the pasta is cooked, drain it and serve it with your favorite sauce or toppings.\\n\\nEnjoy your homemade Italian pasta!\""
      ]
     },
     "execution_count": 20,
     "metadata": {},
     "output_type": "execute_result"
    }
   ],
   "source": [
    "set_debug(False)\n",
    "chat.predict(\"How do you make italian pasta\")"
   ]
  },
  {
   "cell_type": "code",
   "execution_count": 22,
   "metadata": {},
   "outputs": [
    {
     "name": "stdout",
     "output_type": "stream",
     "text": [
      "Here is a simple recipe for making soju at home:\n",
      "\n",
      "Ingredients:\n",
      "- 1.5 liters of water\n",
      "- 1 cup of rice\n",
      "- 1 tablespoon of yeast\n",
      "- 1 cup of sugar\n",
      "\n",
      "Instructions:\n",
      "1. Rinse the rice thoroughly until the water runs clear.\n",
      "2. In a large pot, add the rinsed rice and water. Bring it to a boil over medium heat.\n",
      "3. Once boiling, reduce the heat to low and let it simmer for about 20 minutes or until the rice is cooked and soft.\n",
      "4. Remove the pot from heat and let it cool down to room temperature.\n",
      "5. Once cooled, transfer the rice and water mixture to a large container or jar.\n",
      "6. Add the yeast and sugar to the container and mix well until the sugar is dissolved.\n",
      "7. Cover the container with a clean cloth or plastic wrap and let it sit at room temperature for about a week. This will allow fermentation to occur.\n",
      "8. After a week, strain the mixture through a cheesecloth or fine mesh strainer to remove any solids.\n",
      "9. Transfer the liquid to a clean bottle or bottles and seal them tightly.\n",
      "10. Let the soju age for at least another week in a cool, dark place before consuming.\n",
      "\n",
      "Note: This homemade soju recipe may not have the same alcohol content or taste as commercially produced soju. Please drink responsibly and in accordance with legal drinking age regulations in your area. Here is a basic recipe for making bread:\n",
      "\n",
      "Ingredients:\n",
      "- 4 cups all-purpose flour\n",
      "- 2 teaspoons active dry yeast\n",
      "- 2 teaspoons salt\n",
      "- 2 teaspoons sugar\n",
      "- 2 cups warm water (around 110°F/43°C)\n",
      "- 2 tablespoons olive oil (optional)\n",
      "\n",
      "Instructions:\n",
      "1. In a large mixing bowl, combine the flour, yeast, salt, and sugar. Mix well.\n",
      "2. Gradually add the warm water to the dry ingredients, stirring with a wooden spoon or your hands until a sticky dough forms.\n",
      "3. If desired, drizzle the olive oil over the dough and knead it for about 5 minutes until the dough becomes smooth and elastic.\n",
      "4. Cover the bowl with a clean kitchen towel or plastic wrap and let the dough rise in a warm place for about 1-2 hours, or until it doubles in size.\n",
      "5. Preheat your oven to 425°F (220°C) and place a baking stone or baking sheet inside to preheat as well.\n",
      "6. Once the dough has risen, gently punch it down to release any air bubbles. Transfer it to a lightly floured surface and shape it into a loaf or desired shape.\n",
      "7. Place the shaped dough onto the preheated baking stone or baking sheet. If desired, you can make a few shallow slashes on the top of the loaf with a sharp knife.\n",
      "8. Bake the bread for about 25-30 minutes, or until it turns golden brown and sounds hollow when tapped on the bottom.\n",
      "9. Remove the bread from the oven and let it cool on a wire rack before slicing and serving.\n",
      "\n",
      "Note: This is a basic bread recipe, and you can customize it by adding ingredients like herbs, cheese, or seeds to the dough for different flavors. \n",
      "\n",
      "Tokens Used: 377\n",
      "\tPrompt Tokens: 13\n",
      "\tCompletion Tokens: 364\n",
      "Successful Requests: 1\n",
      "Total Cost (USD): $0.0007475\n"
     ]
    }
   ],
   "source": [
    "# usage 사용량 알아보기\n",
    "from langchain.chat_models import ChatOpenAI\n",
    "from langchain.callbacks import get_openai_callback\n",
    "\n",
    "chat = ChatOpenAI(\n",
    "    temperature=0.1\n",
    ")\n",
    "\n",
    "with get_openai_callback() as usage:\n",
    "    a = chat.predict(\"What is the recipe for soju\")\n",
    "    b = chat.predict(\"What is the recipe for bread\")\n",
    "    print(a,b, \"\\n\")\n",
    "    print(usage)\n",
    "    # print(usage.total_cose)"
   ]
  },
  {
   "cell_type": "code",
   "execution_count": 23,
   "metadata": {},
   "outputs": [],
   "source": [
    "# 우리가 셋팅한 모델을 저장하는 방법\n",
    "from langchain.llms.openai import OpenAI\n",
    "from langchain.llms.loading import load_llm\n",
    "\n",
    "chat = OpenAI(\n",
    "    temperature=0.1,\n",
    "    max_tokens=450,\n",
    "    model=\"gpt-3.5-turbo-16k\"\n",
    ")\n",
    "\n",
    "chat.save(\"model.json\")\n",
    "chat.load_llm(\"model.json\")"
   ]
  },
  {
   "cell_type": "markdown",
   "metadata": {},
   "source": [
    "# Memory"
   ]
  },
  {
   "cell_type": "markdown",
   "metadata": {},
   "source": [
    "* langchain에는 5가지의 메모리 저장 방법이 있음\n",
    "* 챗봇에 메모리가 없으면 챗봇은 아무것도 기억할 수 없음\n",
    "\n",
    "---\n",
    "\n",
    "* **Conversation Buffer memory**\n",
    "    * 모든 대화를 저장, 대화 내용이 길어질수록 메모리도 계속 커져 비효율적\n",
    "    * text completion, 텍스트 자동 완성에 좋음\n",
    "\n",
    "\n",
    "* **Conversation Buffer Window memory**\n",
    "    * 최근 n개 대화만 저장(오래전 대화는 기억하지 못함)\n",
    "    * 메모리의 모든 대화 내용을 저장하지 않아 메모리를 일정하게 유지 가능\n",
    "\n",
    "\n",
    "* **Conversation Summary Memory**\n",
    "    * 대화 내용을 그대로 저장하는 것이 아니라, conversation의 요약을 자체적으로 수행 후 저장\n",
    "    * 특히 conversation이 긴 경우 유용\n",
    "    * llm을 통해 대화를 요약하기 때문에 저장에 추가적인 비용 발생\n",
    "\n",
    "\n",
    "* **Conversation Summary Buffer Memory**\n",
    "    * Summary와 Buffer 메모리의 결합\n",
    "    * 메모리에 보내온 메시지의 수 저장하고 limit에 다다르면 메세지 요약\n",
    "\n",
    "\n",
    "* **Conversation Knowledge Graph Memory**\n",
    "    * 대화 중의 엔티티의 knowledge graph를 만듬(요약본)\n",
    "\n",
    "\n",
    "* Documents에서 **Conversation Token Buffer Memory**, **Entity** 등 다양한 메모리 확인 가능"
   ]
  },
  {
   "cell_type": "code",
   "execution_count": 26,
   "metadata": {},
   "outputs": [
    {
     "data": {
      "text/plain": [
       "{'history': [HumanMessage(content='Hi!'), AIMessage(content='How are you?')]}"
      ]
     },
     "execution_count": 26,
     "metadata": {},
     "output_type": "execute_result"
    }
   ],
   "source": [
    "from langchain.memory import ConversationBufferMemory\n",
    "\n",
    "memory = ConversationBufferMemory(return_messages=True)\n",
    "\n",
    "memory.save_context({\"input\": \"Hi!\"}, {\"output\": \"How are you?\"})\n",
    "memory.load_memory_variables({})"
   ]
  },
  {
   "cell_type": "code",
   "execution_count": 31,
   "metadata": {},
   "outputs": [
    {
     "data": {
      "text/plain": [
       "{'history': [HumanMessage(content='2'),\n",
       "  AIMessage(content='2'),\n",
       "  HumanMessage(content='3'),\n",
       "  AIMessage(content='3'),\n",
       "  HumanMessage(content='4'),\n",
       "  AIMessage(content='4'),\n",
       "  HumanMessage(content='5'),\n",
       "  AIMessage(content='5')]}"
      ]
     },
     "execution_count": 31,
     "metadata": {},
     "output_type": "execute_result"
    }
   ],
   "source": [
    "from langchain.memory import ConversationBufferWindowMemory\n",
    "\n",
    "memory = ConversationBufferWindowMemory(\n",
    "    return_messages=True,\n",
    "    k=4,\n",
    ")\n",
    "\n",
    "def add_message(input, output):\n",
    "    memory.save_context({\"input\": input}, {\"output\": output})\n",
    "    \n",
    "add_message(1, 1)\n",
    "add_message(2, 2)\n",
    "add_message(3, 3)\n",
    "add_message(4, 4)\n",
    "\n",
    "memory.load_memory_variables({})\n",
    "\n",
    "add_message(5, 5)\n",
    "\n",
    "memory.load_memory_variables({})"
   ]
  },
  {
   "cell_type": "code",
   "execution_count": 32,
   "metadata": {},
   "outputs": [],
   "source": [
    "from langchain.memory import ConversationSummaryMemory\n",
    "from langchain.chat_models import ChatOpenAI\n",
    "\n",
    "llm = ChatOpenAI(temperature=0.1)\n",
    "\n",
    "memory = ConversationSummaryMemory(llm=llm)\n",
    "\n",
    "def add_message(input, output):\n",
    "    memory.save_context({\"input\": input}, {\"output\": output})\n",
    "\n",
    "def get_history():\n",
    "    return memory.load_memory_variables({})\n",
    "\n",
    "add_message(\"Hi I'm Kida, I live in South Korea\", \"Wow that is so coool!\")"
   ]
  },
  {
   "cell_type": "code",
   "execution_count": 33,
   "metadata": {},
   "outputs": [
    {
     "data": {
      "text/plain": [
       "{'history': 'The human introduces themselves as Kida and mentions that they live in South Korea. The AI responds by expressing excitement and finding it cool. The human mentions that South Korea is pretty, to which the AI responds by expressing a desire to go there.'}"
      ]
     },
     "execution_count": 33,
     "metadata": {},
     "output_type": "execute_result"
    }
   ],
   "source": [
    "add_message(\"South Korea is so pretty\", \"I wish I could go\")\n",
    "get_history()"
   ]
  },
  {
   "cell_type": "code",
   "execution_count": 3,
   "metadata": {},
   "outputs": [
    {
     "data": {
      "text/plain": [
       "{'history': [SystemMessage(content='The human introduces themselves as Kida and mentions that they live in South Korea. The AI responds with excitement, saying that it finds it cool.'),\n",
       "  HumanMessage(content='South Korea is so pretty'),\n",
       "  AIMessage(content='I wish I could go'),\n",
       "  HumanMessage(content='How far is Korea from Argentina?'),\n",
       "  AIMessage(content=\"I don't know! super far!\")]}"
      ]
     },
     "execution_count": 3,
     "metadata": {},
     "output_type": "execute_result"
    }
   ],
   "source": [
    "from langchain.memory import ConversationSummaryBufferMemory\n",
    "from langchain.chat_models import ChatOpenAI\n",
    "\n",
    "llm = ChatOpenAI(temperature=0.1)\n",
    "\n",
    "memory = ConversationSummaryBufferMemory(\n",
    "    llm=llm,\n",
    "    max_token_limit=50,\n",
    "    return_messages=True\n",
    ")\n",
    "\n",
    "def add_message(input, output):\n",
    "    memory.save_context({\"input\": input}, {\"output\": output})\n",
    "\n",
    "def get_history():\n",
    "    return memory.load_memory_variables({})\n",
    "\n",
    "add_message(\"Hi I'm Kida, I live in South Korea\", \"Wow that is so coool!\")\n",
    "add_message(\"South Korea is so pretty\", \"I wish I could go\")\n",
    "add_message(\"How far is Korea from Argentina?\", \"I don't know! super far!\")\n",
    "get_history()"
   ]
  },
  {
   "cell_type": "code",
   "execution_count": 5,
   "metadata": {},
   "outputs": [
    {
     "data": {
      "text/plain": [
       "{'history': [SystemMessage(content='On Kida: Kida lives in South Korea. Kida likes kimchi.')]}"
      ]
     },
     "execution_count": 5,
     "metadata": {},
     "output_type": "execute_result"
    }
   ],
   "source": [
    "from langchain.memory import ConversationKGMemory\n",
    "from langchain.chat_models import ChatOpenAI\n",
    "\n",
    "llm = ChatOpenAI(temperature=0.1)\n",
    "\n",
    "memory = ConversationKGMemory(\n",
    "    llm=llm, return_messages=True,\n",
    ")\n",
    "\n",
    "def add_message(input, output):\n",
    "    memory.save_context({\"input\": input}, {\"output\": output})\n",
    "\n",
    "def get_history():\n",
    "    return memory.load_memory_variables({})\n",
    "\n",
    "add_message(\"Hi I'm Kida, I live in South Korea\", \"Wow that is so coool!\")\n",
    "memory.load_memory_variables({\"input\": \"who is Kida\"})\n",
    "\n",
    "add_message(\"Kida likes kimchi\", \"Wow that is so cool\")\n",
    "memory.load_memory_variables({\"input\": \"what does kida like\"})"
   ]
  },
  {
   "cell_type": "code",
   "execution_count": 7,
   "metadata": {},
   "outputs": [
    {
     "name": "stdout",
     "output_type": "stream",
     "text": [
      "\n",
      "\n",
      "\u001b[1m> Entering new LLMChain chain...\u001b[0m\n",
      "Prompt after formatting:\n",
      "\u001b[32;1m\u001b[1;3mMy name is KIDA\u001b[0m\n",
      "\n",
      "\u001b[1m> Finished chain.\u001b[0m\n"
     ]
    },
    {
     "data": {
      "text/plain": [
       "'Hello KIDA! How can I assist you today?'"
      ]
     },
     "execution_count": 7,
     "metadata": {},
     "output_type": "execute_result"
    }
   ],
   "source": [
    "# llm-chain: off-the-shelf chain: 일반적인 목적을 가진 chain\n",
    "# 보통 customized chain을 많이 사용하는 것 같음?\n",
    "from langchain.memory import ConversationSummaryBufferMemory\n",
    "from langchain.chat_models import ChatOpenAI\n",
    "from langchain.chains import LLMChain\n",
    "from langchain.prompts import PromptTemplate\n",
    "\n",
    "llm = ChatOpenAI(temperature=0.1)\n",
    "\n",
    "memory = ConversationSummaryBufferMemory(\n",
    "    llm=llm,\n",
    "    max_token_limit=120,\n",
    ")\n",
    "\n",
    "template = \"\"\"\n",
    "    You are a helpful AI talking to a human.\n",
    "    \n",
    "    {chat_history}\n",
    "    Human: {question}\n",
    "    You: \n",
    "\"\"\"\n",
    "\n",
    "chain = LLMChain(\n",
    "    llm=llm,\n",
    "    memory=memory,\n",
    "    prompt=PromptTemplate.from_template(\"{question}\"),\n",
    "    verbose=True,\n",
    ")\n",
    "\n",
    "chain.predict(question=\"My name is KIDA\")"
   ]
  },
  {
   "cell_type": "code",
   "execution_count": 8,
   "metadata": {},
   "outputs": [
    {
     "name": "stdout",
     "output_type": "stream",
     "text": [
      "\n",
      "\n",
      "\u001b[1m> Entering new LLMChain chain...\u001b[0m\n",
      "Prompt after formatting:\n",
      "\u001b[32;1m\u001b[1;3mI live in Seoul\u001b[0m\n",
      "\n",
      "\u001b[1m> Finished chain.\u001b[0m\n"
     ]
    },
    {
     "data": {
      "text/plain": [
       "\"That's great! Seoul is the capital and largest city of South Korea. It is known for its vibrant culture, modern architecture, and delicious food. There are many attractions to explore in Seoul, such as Gyeongbokgung Palace, N Seoul Tower, Myeongdong shopping district, and the Han River. The city also offers a wide range of entertainment options, including K-pop concerts, traditional performances, and trendy nightlife. Enjoy your time in Seoul!\""
      ]
     },
     "execution_count": 8,
     "metadata": {},
     "output_type": "execute_result"
    }
   ],
   "source": [
    "chain.predict(question=\"I live in Seoul\")"
   ]
  },
  {
   "cell_type": "code",
   "execution_count": 9,
   "metadata": {},
   "outputs": [
    {
     "name": "stdout",
     "output_type": "stream",
     "text": [
      "\n",
      "\n",
      "\u001b[1m> Entering new LLMChain chain...\u001b[0m\n",
      "Prompt after formatting:\n",
      "\u001b[32;1m\u001b[1;3mWhat is my name?\u001b[0m\n",
      "\n",
      "\u001b[1m> Finished chain.\u001b[0m\n"
     ]
    },
    {
     "data": {
      "text/plain": [
       "\"I'm sorry, but I don't have access to personal information about individuals unless it has been shared with me in the course of our conversation.\""
      ]
     },
     "execution_count": 9,
     "metadata": {},
     "output_type": "execute_result"
    }
   ],
   "source": [
    "chain.predict(question=\"What is my name?\")"
   ]
  },
  {
   "cell_type": "code",
   "execution_count": 10,
   "metadata": {},
   "outputs": [
    {
     "data": {
      "text/plain": [
       "{'history': \"System: The human introduces themselves as KIDA and the AI greets KIDA, asking how it can assist them. KIDA mentions that they live in Seoul. The AI responds by providing information about Seoul, including its status as the capital and largest city of South Korea, its vibrant culture, modern architecture, and delicious food. The AI also mentions various attractions and entertainment options available in Seoul, such as Gyeongbokgung Palace, N Seoul Tower, Myeongdong shopping district, K-pop concerts, traditional performances, and trendy nightlife. The AI wishes KIDA an enjoyable time in Seoul.\\nHuman: What is my name?\\nAI: I'm sorry, but I don't have access to personal information about individuals unless it has been shared with me in the course of our conversation.\"}"
      ]
     },
     "execution_count": 10,
     "metadata": {},
     "output_type": "execute_result"
    }
   ],
   "source": [
    "memory.load_memory_variables({})"
   ]
  },
  {
   "cell_type": "code",
   "execution_count": 12,
   "metadata": {},
   "outputs": [
    {
     "name": "stdout",
     "output_type": "stream",
     "text": [
      "\n",
      "\n",
      "\u001b[1m> Entering new LLMChain chain...\u001b[0m\n",
      "Prompt after formatting:\n",
      "\u001b[32;1m\u001b[1;3m\n",
      "    You are a helpful AI talking to a human.\n",
      "    \n",
      "    \n",
      "    Human: My name is KIDA\n",
      "    You: \n",
      "\u001b[0m\n",
      "\n",
      "\u001b[1m> Finished chain.\u001b[0m\n"
     ]
    },
    {
     "data": {
      "text/plain": [
       "'Hello KIDA! How can I assist you today?'"
      ]
     },
     "execution_count": 12,
     "metadata": {},
     "output_type": "execute_result"
    }
   ],
   "source": [
    "memory = ConversationSummaryBufferMemory(\n",
    "    llm=llm,\n",
    "    max_token_limit=120,\n",
    "    memory_key=\"chat_history\"\n",
    ")\n",
    "\n",
    "template = \"\"\"\n",
    "    You are a helpful AI talking to a human.\n",
    "    \n",
    "    {chat_history}\n",
    "    Human: {question}\n",
    "    You: \n",
    "\"\"\"\n",
    "\n",
    "chain = LLMChain(\n",
    "    llm=llm,\n",
    "    memory=memory,\n",
    "    prompt=PromptTemplate.from_template(template),\n",
    "    verbose=True,\n",
    ")\n",
    "\n",
    "chain.predict(question=\"My name is KIDA\")"
   ]
  },
  {
   "cell_type": "code",
   "execution_count": 13,
   "metadata": {},
   "outputs": [
    {
     "name": "stdout",
     "output_type": "stream",
     "text": [
      "\n",
      "\n",
      "\u001b[1m> Entering new LLMChain chain...\u001b[0m\n",
      "Prompt after formatting:\n",
      "\u001b[32;1m\u001b[1;3m\n",
      "    You are a helpful AI talking to a human.\n",
      "    \n",
      "    Human: My name is KIDA\n",
      "AI: Hello KIDA! How can I assist you today?\n",
      "    Human: I live in Seoul\n",
      "    You: \n",
      "\u001b[0m\n",
      "\n",
      "\u001b[1m> Finished chain.\u001b[0m\n",
      "\n",
      "\n",
      "\u001b[1m> Entering new LLMChain chain...\u001b[0m\n",
      "Prompt after formatting:\n",
      "\u001b[32;1m\u001b[1;3m\n",
      "    You are a helpful AI talking to a human.\n",
      "    \n",
      "    Human: My name is KIDA\n",
      "AI: Hello KIDA! How can I assist you today?\n",
      "Human: I live in Seoul\n",
      "AI: That's great! Seoul is a vibrant and bustling city. Is there anything specific you would like to know or discuss about Seoul?\n",
      "    Human: What is my name?\n",
      "    You: \n",
      "\u001b[0m\n",
      "\n",
      "\u001b[1m> Finished chain.\u001b[0m\n"
     ]
    },
    {
     "data": {
      "text/plain": [
       "'Your name is KIDA.'"
      ]
     },
     "execution_count": 13,
     "metadata": {},
     "output_type": "execute_result"
    }
   ],
   "source": [
    "chain.predict(question=\"I live in Seoul\")\n",
    "chain.predict(question=\"What is my name?\")"
   ]
  },
  {
   "cell_type": "code",
   "execution_count": 15,
   "metadata": {},
   "outputs": [
    {
     "name": "stdout",
     "output_type": "stream",
     "text": [
      "\n",
      "\n",
      "\u001b[1m> Entering new LLMChain chain...\u001b[0m\n",
      "Prompt after formatting:\n",
      "\u001b[32;1m\u001b[1;3mSystem: You are a helpful AI talking to a human\n",
      "Human: My name is KIDA\u001b[0m\n",
      "\n",
      "\u001b[1m> Finished chain.\u001b[0m\n"
     ]
    },
    {
     "data": {
      "text/plain": [
       "'Hello KIDA! How can I assist you today?'"
      ]
     },
     "execution_count": 15,
     "metadata": {},
     "output_type": "execute_result"
    }
   ],
   "source": [
    "from langchain.memory import ConversationSummaryBufferMemory\n",
    "from langchain.chat_models import ChatOpenAI\n",
    "from langchain.chains import LLMChain\n",
    "from langchain.prompts import PromptTemplate, ChatPromptTemplate, MessagesPlaceholder\n",
    "\n",
    "llm = ChatOpenAI(temperature=0.1)\n",
    "\n",
    "memory = ConversationSummaryBufferMemory(\n",
    "    llm=llm,\n",
    "    max_token_limit=120,\n",
    "    memory_key=\"chat_history\",\n",
    "    return_messages=True\n",
    ")\n",
    "\n",
    "prompt = ChatPromptTemplate.from_messages([\n",
    "    (\"system\", \"You are a helpful AI talking to a human\"),\n",
    "    MessagesPlaceholder(variable_name=\"chat_history\"),\n",
    "    (\"human\", \"{question}\"),\n",
    "])\n",
    "\n",
    "chain = LLMChain(\n",
    "    llm=llm,\n",
    "    memory=memory,\n",
    "    prompt=prompt,   \n",
    "    verbose=True\n",
    ")\n",
    "\n",
    "chain.predict(question=\"My name is KIDA\")"
   ]
  },
  {
   "cell_type": "markdown",
   "metadata": {},
   "source": []
  },
  {
   "cell_type": "code",
   "execution_count": 18,
   "metadata": {},
   "outputs": [
    {
     "name": "stdout",
     "output_type": "stream",
     "text": [
      "{'question': 'My name is Kida'}\n",
      "content='Hello Kida! How can I assist you today?'\n"
     ]
    }
   ],
   "source": [
    "# Custom Chain 사용 방법\n",
    "from langchain.memory import ConversationSummaryBufferMemory\n",
    "from langchain.chat_models import ChatOpenAI\n",
    "from langchain.schema.runnable import RunnablePassthrough\n",
    "from langchain.prompts import ChatPromptTemplate, MessagesPlaceholder\n",
    "\n",
    "llm = ChatOpenAI(temperature=0.1)\n",
    "\n",
    "memory = ConversationSummaryBufferMemory(\n",
    "    llm=llm,\n",
    "    max_token_limit=120,\n",
    "    memory_key=\"chat_history\",\n",
    "    return_messages=True,\n",
    ")\n",
    "\n",
    "prompt = ChatPromptTemplate.from_messages([\n",
    "    (\"system\", \"You are a helpful AI talking to a human\"),\n",
    "    MessagesPlaceholder(variable_name=\"chat_history\"),\n",
    "    (\"human\", \"{question}\"),\n",
    "])\n",
    "\n",
    "def load_memory(input):\n",
    "    print(input)  # input을 넣는 것은 규칙\n",
    "    return memory.load_memory_variables({})[\"chat_history\"]\n",
    "\n",
    "chain = RunnablePassthrough.assign(chat_history=load_memory) | prompt | llm\n",
    "\n",
    "def invoke_chain(question):\n",
    "    result = chain.invoke({\n",
    "        # \"chat_history\": load_memory(),  # 해당 역할을 RunnablePassthrough가 수행\n",
    "        \"question\": \"My name is Kida\"\n",
    "    })\n",
    "    memory.save_context({\"input\": question}, {\"output\": result.content})\n",
    "    print(result)\n",
    "\n",
    "invoke_chain(\"Hi, my name is Kida\")"
   ]
  },
  {
   "cell_type": "markdown",
   "metadata": {},
   "source": [
    "# RAG(Retrieval Augmented Generation)"
   ]
  },
  {
   "cell_type": "code",
   "execution_count": 25,
   "metadata": {},
   "outputs": [
    {
     "data": {
      "text/plain": [
       "[Document(page_content='태초의 세상은 혼돈이었다. 하지만 규칙이 만들어지면서, 혼돈이었던 세상은 질서의 세계와 무질서의 세계로 갈라진다.\\n\\n질서의 신 루페온은 불완전함 속에 자리잡은 자신의 세계에 여러 가지 규칙들을 만들어내기 시작했다. 루페온은 대우주 오르페우스를 창 조하고 공간을 메울 별을 만든 뒤, 절대 꺼지지 않을 태초의 빛 아크를 이용해 태양을 띄웠다. 그러나 무한한 태양과는 달리 별은 유한하여 생성되고 소멸되길 반복했다. 질서는 생명을 창조하였으나 죽음이란 그림자 또한 만들어 버린 것이다. 불완전한 질서의 세계를 관망하던 혼돈의 신 이그하람은 무한한 생명을 가진 아크에 흥미를 가지기 시작했다. 소멸하지 않는 아크야말로 혼돈의 결정체라 생각했던 이그하 람의 시선은 아주 오랜 시간을 거쳐 서서히 탐욕으로 변하게 되었다.\\n\\n로스트아크 태초의 빛 <아크> 태초의 빛 <아크>\\n\\n한편, 질서의 신 루페온은 대우주 오르페우스에 별과 행성을 창조해냈다. 셀 수도 없이 많은 탄생과 죽음이 반복된 끝에 응축된 생명의 힘 은 스스로 생명을 창조할 수 있는 별 ‘아크라시아(Arkrasia)’[1]를 탄생시켰다. 루페온은 대우주 오르페우스에서 유일하게 창조의 힘을 가 지고 태어난 별 아크라시아를 관리하기 위해 신을 만들었다. 루페온에 의해 탄생한 일곱 신들은 아크라시아에 수많은 생명의 원천을 흩뿌 린 뒤, 태어난 생명들의 순환 고리를 만들어 내었다. 이로 인해 대우주 오르페우스의 질서에 따라 아크라시아에도 삶과 죽음이 공존하게 되 었다.\\n\\n로스트아크 아크라시아&페트라니...\\n\\n아크라시아와 페트라니아\\n\\n같은 시기, 혼돈의 세계에도 하나의 질서가 만들어졌다. 질서의 세계에서 무한한 생명의 힘 아크가 탄생했던 것처럼, 혼돈의 세계에서도 질 서를 가진 어둠의 생명이 탄생했다. 이 어둠의 생명은 혼돈의 신 이그하람의 의지와는 달리 스스로를 분열시켜 어둠의 생명을 창조했고, 어 둠의 별 페트라니아를 만들어내기에 이른다. 이렇게 만들어진 두 세계는 각자의 방식으로 변화해 나갔다. 혼돈에서 탄생한 힘은 아크라시 아의 응축된 힘, 아크와 공명하기 시작했다. 그러나 섞일 수 없었던 두 힘은 서서히 차원간의 균열을 만들어 가고 있었다.\\n\\n2.2. 일곱 신과 종족의 탄생[편집]\\n\\n아크라시아가 태동한 초기, 최고신 루페온과 일곱 신들은 별에서 살아갈 여러 종족들을 만들어 내었다.\\n\\n로스트아크 초기 중간계\\n\\n여러 대륙으로 갈라진 중간계\\n\\n루페온이 만든 일곱 신 중 조화의 신 기에나가 생명의 원천인 바다를 창조한 이후, 하나의 대륙은 여러 개로 쪼개져 각기 다른 모습을 지니 게 되었다. 초기에 루페온은 각 대륙에 자리잡은 아크라시아의 종족들을 위해 아크의 힘을 나누어 주었고, 종족들은 빠르게 발전해 나갔다. 그러나 아크의 힘으로 인해 아크라시아의 종족들은 교만해졌으며, 타락하여 신의 질서에 대항하기에 이른다. 이에 분노한 루페온은 종족 들로부터 아크의 힘을 다시 빼앗아 일곱 개의 조각으로 분리해 신들에게 나누어 주었다. 그리고 일곱 신에게 새로운 종족들을 창조할 것을 명했다.\\n\\n루페온의 명을 받은 일곱 신들은 아크라시아에 새로운 종족들을 창조했다. 명예의 신 프로키온은 루페온과 가장 닮아 있는 종족 라제니스 를 탄생시켰고, 지혜의 신 크라테르는 마법을 자유자재로 다루는 종족 실린을 만들었다. 또한 생명의 신 알데바란은 다양한 형태로 분화 가 능한 정령들을, 대지의 신 아크투르스는 문명을 창조해 나갈 수 있는 능력을 지닌 우마르 종족과 거인족을 탄생시켰다. 불의 신 안타레스는 강력한 전투력과 지략을 지닌 할족을, 시리우스는 빙결의 종족 타베르를 만들었다. 조화의 신 기에나는 대지의 모든 생명들과 소통이 가능 한 요즈족, 그리고 바다 속에서도 살아갈 수 있는 포시타족을 만들었고, 마지막으로 시리우스와 힘을 합쳐 스스로 성장해 나가는 힘을 가진 ‘인간’을 만들었다.\\n\\n로스트아크 일곱종족\\n\\n일곱 신들이 창조한 종족들[2][3]\\n\\n일곱 신들이 태초에 만들어낸 종족 중 라제니스, 할, 실린은 특히 많은 능력을 부여 받은 종족이었다. 이들 중 라제니스는 하늘을 날 수 있 는 유일한 종족이었기 때문에 세상을 관찰하며 다스리는 임무를 맡았다. 할은 지략과 전투 능력이 뛰어난 종족이었으며, 실린은 마법이라 는 신비한 힘을 다룰 수 있는 지혜로운 종족이었다. 힘의 균형을 이룬 이 세 종족을 중심으로 아크라시아의 수많은 종족들은 함께 발전해 나갔다.\\n\\n로스트아크 아크를탐낸죄\\n\\n아크를 탐낸 죄로 벌을 받은 종족들\\n\\n하지만 힘의 균형은 할에 의해 곧 깨어져 버리고 말았다. 할이 불의 신 안타레스를 속여 아크의 힘을 갖게 된 것이다. [4] 실린과 라제니스가 힘을 합쳐 할을 막아내려 했지만, 아크의 힘을 가진 할을 막아내기에는 역부족이었다. 이를 저지하기 위해 라제니스 종족은, 신계로 숨어 들어가 프로키온의 아크를 훔쳐 할에 대항했다. 아크의 힘 덕분에 실린과 라제니스는 전쟁에서 승리했지만 최고신 루페온의 노여움을 사 게 되었다. 안타레스는 할에게 아크를 넘겨준 죄로 신계에서 추방되었고, 아크를 제대로 관리하지 못한 프로키온은 언어를 빼앗겼다. 전쟁 의 원흉이었던 할은 신을 기만한 죄로 소멸의 형벌을 받았다. [5] 마지막으로 프로키온의 아크를 훔친 라제니스 종족은 날개를 퇴화시켜 더 이상 날 수 없게 만들었다. 그리고 신들이 사는 세계 밑에 \\'엘가시아\\'라는 대륙을 만들어, 천 년에 한 번 거대한 날개를 펼 수 있는 자가 나타 나면 차원의 틈 \\'트리시온\\'[6] 에서 아크라시아의 미래를 내다보도록 했다. 그것은 라제니스를 아꼈던 루페온의 신뢰이자 벌이었다.\\n\\n2.3. 최초의 전쟁 그리고 가디언의 탄생[편집]\\n\\n대륙에서 일어난 전쟁으로 아크의 힘이 증폭되면서 그 동안 공명해 오던 두 세계의 힘이 어그러졌고, 차원에 거대한 균열이 발생했다. 로스트아크 균열\\n\\n균열이 일어난 두 세계\\n\\n오랜 시간 아크의 힘을 탐냈던 이그하람은 이 때를 놓치지 않았다. 그는 페트라니아에서 자라난 어둠의 생명체, 그리고 ‘태초부터 존재한 자들’과 함께 질서의 세계 아크라시아를 침공했다. 신들과 아크라시아의 종족들은 이들에 맞서 싸웠다. 하지만 전쟁의 여파는 전혀 예상치 못한 결과를 불러들였다. 태초의 힘이 부딪히자 두 세계의 균열이 더욱 커지면서 대우주 오르페우스가 페트라니아를 집어 삼키기 시작한 것이다. 모든 세계가 무(無)로 돌아가며 혼돈마저 잠식하기 시작하자 이그하람은 전쟁을 중단했다. 균열을 막기 위해 아크라시아의 일곱 신들은 각자의 아크를 루페온에게 바쳤고, 루페온은 아크의 힘을 개방했다. 이 태초의 힘은 이그하람이 가진 혼돈과 결합하여 ‘가디언’을 만들어냈다. 이렇게 탄생한 최초의 가디언 \\'에버그레이스\\'는 아크의 빛과 혼돈의 어둠이 결합되어 절대적 힘을 지니고 탄생한 생명체였다. 로스트아크 에버그레이스\\n\\n가디언들은 빠르게 균열의 팽창을 막아 나갔다. 최초의 가디언인 ‘에버그레이스’는 자신의 힘을 나누어 더 많은 가디언들을 탄생시켰고, 가 디언들의 힘을 결집시켜 균열을 닫는데 성공했다. 이 사건 이후, 이그하람의 군단은 혼돈의 세계로 돌아갔으며 임무를 다한 가디언들은 긴 잠에 들었다. 차원간의 거대한 전쟁이 끝나고 아크라시아의 여명은 비로소 막을 내리게 되었다.\\n\\n로스트아크 가디언들\\n\\n별의 수호자 <가디언>들\\n\\n질서와 혼돈이 만들어낸 차원간의 첫 전쟁 이후 루페온은 아크라시아에 신들이 개입되는 것을 원치 않았고, 아크를 가진 일곱 신들은 아크 라시아 대륙을 떠나 신계를 만들어 그들을 지켜보았다. 이후 그 어떤 종족도 신들의 권위에 대항하지 않았고, 다시 질서가 찾아온 아크라시 아는 신들의 축복과 함께 더욱 더 풍요롭게 발전해 나갔다. 그렇게 위대했던 아크의 힘은 잊혀지는 듯 했다.\\n\\n3. 어둠의 왕좌[편집]\\n\\n3.1. 이그하람의 죽음[편집]\\n\\n질서와 혼돈이 만들어낸 차원간의 거대한 전쟁 이후, 더 이상의 균열은 발생하지 않았다.\\n\\n풍요와 번영의 시기를 맞이한 아크라시아와는 달리, 페트라니아는 암흑과 혼란의 시기를 보냈다. 혼돈의 힘을 흡수해 탄생한 페트라니아 의 생명체들은 아무런 규칙도, 제약도 없이 다양한 형태로 진화해 나갔다. 그들은 생존을 위해 서로를 공격하기 시작했고, 페트라니아는 끔 찍한 파괴의 전장이 되어가고 있었다. 하지만 이 혼란은 심연으로부터 등장한 카제로스에 의해 사그라들기 시작한다. 스스로를 심연의 군 주라 칭한 카제로스는 악마들을 창조하며 순식간에 혼돈의 세계를 평정했다. 이그하람은 혼돈의 세계에서 질서를 만들기 시작한 카제로스 로 인해 자신이 가지고 있던 혼돈의 힘이 점차 소멸되는 것을 느꼈다. 이에, 이그하람은 태초부터 존재한 자들과 함께 카제로스가 있는 ‘심 연의 공간’으로 향했다.\\n\\n이그하람은 카제로스와 그가 만들어낸 악마들을 다시 혼돈으로 되돌리기 위해 ‘태초의 어둠’을 사용했다. 그러나 태초부터 존재한 자들은 이그하람을 배신했고, 카제로스 편에 서서 이그하람에 맞서기 시작했다. 심연의 세계에 익숙했던 그들은 마침내 혼돈의 진정한 주인이었 던 이그하람을 소멸시키는데 성공한다. 그렇게 심연의 불꽃을 다루는 카제로스는 어둠의 주인이 되었다. 혼돈의 세계에 질서를 만든 그는, 페트라니아에 문명을 만들어가기 시작했다.\\n\\n로스트아크 이그하람의죽음\\n\\n이그하람의 죽음과 함께 흩어진 두 개의 혼돈\\n\\n죽음의 순간, 이그하람에게서 빠져 나온 두 개의 혼돈이 페트라니아 어딘가로 날아갔다. 혼돈의 세계를 지배하게 된 것에 만족한 카제로스 는 이그하람의 조각이 남아있다는 사실을 눈치채지 못했다. 이그하람의 조각은 두 개로 나뉘어져 하나는 검은 산 바위자락으로 떨어지고 또 하나는 태초의 혼돈 깊숙한 곳으로 떨어졌다.\\n\\n3.2. 붉은 달[편집]\\n\\n이그하람의 소멸 이후, 카제로스는 태초부터 존재한 자들과 함께 혼돈의 세계를 지배했다.\\n\\n또한, 어둠의 생명체들을 페트라니아에서 쫓아버리고 자신이 창조한 악마들이 그곳을 지배하도록 만들었다. 이그하람의 지배 시기부터 존 재했던 어둠의 생명체들은 하나 둘씩 사라졌고, 그렇게 혼돈의 세계 페트라니아에는 질서가 생겨나기 시작했다. 카제로스는 태초부터 존 재한 자들을 어둠의 신으로 임명하고 페트라니아에 문명을 만들도록 명령했다. 태초부터 존재한 자들은 혼돈의 힘을 바탕으로 암흑의 별, 심연의 바다, 검은 불꽃, 그리고 붉은 달을 만들어 내었다. 붉은 달은 태초부터 존재한 자들이 태양을 모방해 만들다가 실패한 힘의 결정체 였다. 하지만 태초부터 존재한 자들은 물론, 카제로스 조차도 무한한 에너지원인 \\'태양\\'을 만들어낼 수는 없었다. 붉은 달은 카제로스가 다 루는 심연의 불꽃을 더욱 강하게 만들어 주었지만, 그 힘은 영원하지 못했다. 아크의 힘으로 만들어진 태양과 달리 붉은 달은 조금씩 그 빛 을 잃어가고 있었다.\\n\\n로스트아크 붉은달 페트라니아를 비추는 붉은 달\\n\\n본디 카제로스는 심연에서 태어난 존재였다. 그는 어둠에 침식된 심연을 증오하여 대우주 오르페우스와 페트라니아, 두 차원을 하나로 통 합하기를 원했지만 오르페우스로 넘어가는 차원의 균열을 만들어낼 방법을 알지 못했다. 혼돈의 생명체가 모두 페트라니아에서 소멸되어 가던 어느 날, 그곳에 남아있던 마지막 생존자가 카제로스를 찾아왔다. 그는 카제로스에게 “붉은 달이 꺼질 때, 차원이 뒤틀릴 것이다.”라는 예언을 남기고 사라졌다. 이후, 페트라니아를 완전히 지배하는데 성공한 카제로스는 그가 들려주었던 예언대로 붉은 달이 검게 물들기를 기다렸다. 시간이 지날수록 결코 가질 수 없는 태양에 대한 갈망, 아크에 대한 카제로스의 탐욕은 점차 커지고 있었다.\\n\\n그리고 카제로스의 악마군단이 지배하게 된 페트라니아에서 혼돈의 생명체는 모두 소멸했다.\\n\\n3.3. 군단의 탄생[편집]\\n\\n카제로스는 혼돈에서 태어난 새로운 종족들을 오랜 시간 동안 관찰해 두각을 나타내는 악마들을 군단장으로 임명했다. 로스트아크 6인의악마군단장\\n\\n카제로스를 섬기는 6인의 악마군단장\\n\\n카제로스가 가장 먼저 만들어낸 것은 몽환군단이었다. 그는 가장 냉정하고 잔인한 페트라니아 제일의 지략가이자 강대한 마법의 힘을 지 닌 ‘아브렐슈드’를 몽환군단장으로 임명했다. 아브렐슈드는 카제로스의 명령에 따라 악마들을 움직여 전 페트라니아를 뒤흔들었던 인물이 었다.\\n\\n로스트아크 아브렐슈드\\n\\n몽환군단장 아브렐슈드\\n\\n질병의 힘을 가진 악마들을 통치하는 질병군단장의 자리는 ‘일리아칸’에게로 돌아갔다. 일리아칸은 불완전한 몸을 가지고 태어나 다른 악 마들이 가진 살덩이와 피를 흡수해 계속해서 생명을 유지하고 힘을 강화해가는 악마였다. 죽음과 생명의 경계에 있었던 그는 모든 것을 부 패시킬 수 있는 권능을 얻었고, 스스로 질병의 생명체들을 만들어내는 창조주이자 부패의 군주가 되었다.\\n\\n로스트아크 일리아칸\\n\\n질병군단장 일리아칸\\n\\n한편, 페트라니아의 중심부에서는 오랫동안 마수들간의 치열한 전쟁이 벌어지고 있었다. 그 모든 마수들을 물리치고 지배한 것은 바로 ‘발 탄’이라는 이름의 악마였다. 검은 산을 일격에 무너뜨릴 수 있는 막강한 힘을 가진 발탄의 능력을 높이 산 카제로스는 그를 마수들을 이끄 는 군단장으로 임명했다.\\n\\n로스트아크 발탄\\n\\n마수군단장 발탄\\n\\n욕망군단장으로는 몽마들의 여왕으로 군림했던 에키드나가 임명되었다. 그녀는 악마들의 마음을 빼앗아 원하는 것을 얻어내는 욕망의 군 주였다. 그러나 군단장의 일원이 된 에키드나는 자신의 자리에 만족하지 않았고, 카제로스가 가장 아끼는 악마 아브렐슈드의 위치를 탐내 기에 이른다. 그녀는 자신의 수하 비아키스를 이용해 아브렐슈드와 카제로스 사이를 이간질하려 했다. 그러나 비아키스는 오히려 이 계획 을 아브렐슈드에게 밀고한 뒤 에키드나를 암살한다. 이후 아브렐슈드는 공석이 된 욕망군단장 자리에 비아키스를 추천했고, 비아키스는 새로운 욕망군단장으로 임명된다. 하지만 비아키스 역시 자신의 욕망과 질투로 인해 아브렐슈드와 대립하게 된다.\\n\\n로스트아크 비아키스 욕망군단장 비아키스\\n\\n쿠크세이튼은 페트라니아에서 아무런 두각을 나타내지 못했던 악마였다. 하지만 어느 날, 쿠크세이튼은 카제로스를 찾아가 다섯 번째 군 단장의 자리를 요구했다. 페트라니아의 지배자 앞에서도 쉴 새 없이 떠들어 대는 쿠크세이튼을 본 카제로스는 그를 다섯 번째 군단장으로 임명했다. 광기군단을 이끌게 된 쿠크세이튼은 다른 군단장들과는 달리 대량의 하급 악마들을 자신의 수하로 두었다. 그의 군단에 들어간 하급 악마들은 군단장에 대한 맹목적인 믿음을 바탕으로 광기의 힘을 얻게 되었고, 이후 광기군단은 그 어떤 악마도 무시할 수 없는 강력한 군단으로 성장해 나갔다. [7]\\n\\n로스트아크 쿠크세이튼 광기군단장 쿠크세이튼\\n\\n한편, 페트라니아 깊숙한 곳에서 나타나 홀로 대륙의 절반을 평정했던 어둠의 검사가 있었다. 태초부터 존재한 자들은 그에게서 수상한 기 운이 느껴진다며 카제로스에게 보고 했으나, 카제로스는 검사 ‘카멘’의 힘에 매료되어 그를 어둠군단장으로 임명하기에 이른다. 카멘은 다 른 군단장들과는 다르게 소수 정예로 군단을 구성했다. 하지만 그렇게 만들어진 악마의 기사들은 카멘의 통솔력을 바탕으로 카제로스의 군단 중에서도 가장 강력한 군단이 되었다.\\n\\n로스트아크 카멘 어둠군단장 카멘\\n\\n카멘을 마지막으로 마침내 여섯 개의 군단이 모두 완성되었다. 카제로스는 예언자가 이야기했던 차원의 균열이 열릴 때가 다가오고 있음 을 직감했다. 검게 물들기 시작한 붉은 달이 그 빛을 거의 잃어가고 있었기 때문이다.\\n\\n4. 깨어난 가디언[편집]\\n\\n4.1. 대주교의 국가 \\'세이크리아\\'의 타락[편집]\\n\\n세이크리아에는 성기사단과 비밀조직 새벽의 사제들이 존재했다.\\n\\n대외적으로는 성기사단의 활약을 내세웠지만, 사실 세이크리아의 가장 강력한 힘은 소수로 구성된 비밀 조직 \\'새벽의 사제\\'들이었다. 로스트아크 세이크리아\\n\\n신성제국 <세이크리아>\\n\\n아크라시아 대륙에서 가장 번영한 종족 인간은 빛의 신 루페온을 섬겼다. 그들은 성지 세이크리아를 만들고 ‘신의 대리인’이라는 위명 아래 다른 대륙들의 인간들을 통치해 왔다. 종교를 강요해 타 종족과 분쟁을 일으키던 세이크리아의 사제들은 신을 증명하고 자신들의 정의를 실현시키기 위해 아크라시아에서 사라져버린 태초의 힘 ‘아크’에 관심을 갖게 된다.\\n\\n세이크리아의 대주교 테르메르 2세는 오랫동안 성지 라사모아에 있는 신전에 아크로 추정되는 고대의 결정체를 보관하고 있었다. 그 신비 한 힘을 탐닉하던 테르메르 2세는 더 큰 힘을 갈망하게 되었고, 마침내 세이크리아의 성기사단을 파견해 아크의 행적을 조사하기에 이른 다.\\n\\n로스트아크 중간계\\n\\n일곱 아크가 뿔뿔이 흩어진 중간계 대륙들\\n\\n테르메르 2세는 죽을 때까지 그의 오랜 숙원이었던 나머지 아크의 단서를 찾아내지 못했다. 하지만 그의 후계자 테르메르 3세는 그의 아 버지보다 훨씬 교활하고 탐욕스러운 인물이었다. 아크를 위해서라면 기사단의 희생도, 다른 대륙의 파괴도 거리낄 것이 없었다. 테르메르 3세는 수많은 성기사들을 희생시켰고 마침내 여섯 대륙에 아크가 숨겨져 있다는 것을 알아냈고, 신의 뜻이라는 미명아래, 아르테미스 연방 의 왕과 슈샤이어 대륙의 지도자로부터 평화적으로 아크를 인도 받았다. 또한 루페온을 섬기던 해저 종족 포시타의 도시 ‘포르파지’에서 바 다 깊숙이 잠겨 있던 아크를 찾아 내었다.\\n\\n나머지 세 개의 아크는 로헨델에 자리한 여왕의 정원, 쿠르잔의 안타레스 산꼭대기, 그리고 거인 도메메크의 몸 속에 보관되어 있었다. 아 크의 힘에 눈이 먼 테르메르 3세는 거인 도메메크를 파괴하여 그의 몸 속에 있는 아크를 입수했고, 안타레스 산꼭대기의 아크를 얻기 위해 수많은 성기사단을 희생시켰다. 아크가 사라지자 용암을 분출시키기 시작한 안타레스 산은 쿠르잔의 모든 생명을 녹여버렸다. 이후 쿠르 잔은 그 어떤 생명도 살 수 없는 저주의 땅이 되어 버렸다.\\n\\n로스트아크 아제나\\n\\n로헨델의 여왕 아제나와 그녀의 몸에 공존하는 이난나[8]\\n\\n테르메르 3세의 야욕은 곧 실현될 것 같았지만 로헨델에서 아크를 얻는 일은 그의 생각만큼 쉽지 않았다. 신이 만든 가장 강한 세 종족 중 하나로, 지혜의 신 크라테르로부터 막강한 마법의 힘을 부여 받은 실린들은 이난나, 아제나 두 여왕의 통치아래 폐쇄적이나 강대한 국가를 형성하고 있었기 때문이다.\\n\\n실린 역사상 가장 두각을 나타내었던 쌍둥이 자매 이난나, 아제나는 로헨델의 마력핵이 붕괴되는 순간 자신들을 희생해 위기를 막아냈다. 이 사건으로 동생 이난나의 육체가 소멸되자 신목 엘조윈은 이난나의 영혼을 아제나의 육체에 전승시켜 하나의 몸에 두 명의 인격이 공존 할 수 있게 했다. 엘조윈으로부터 불멸의 힘을 얻게 된 실린여왕은 다른 종족들과의 교류를 차단한 뒤 실린과 정령들을 위한 나라를 만들어 다스렸다.\\n\\n로스트아크 로헨델\\n\\n실린 종족의 마법 강국 <로헨델>에 뿌려진 불화의 씨앗\\n\\n테르메르 3세는 로헨델과 전쟁을 일으키면 세이크리아도 온전치 못할 것이라는 사실을 알고 있었다. 이때, 세이크리아의 사제들이 한가지 묘책을 떠올렸다. 실린여왕 아제나와 거인 도메메크의 친분을 이용하기로 한 것이다. 테르메르 3세는 생명을 다한 도메메크가 세이크리아 근방에서 죽음을 맞이했으며 그 심장을 오랜 친구였던 실린여왕에게 인도한다는 명목으로 로헨델에 칙사를 파견했다. 그리고 거인 도메메 크를 파괴하고 입수했던 심장을 아제나에게 전달한다. 아제나는 친구의 심장을 가져와 준 세이크리아의 칙사들에게 호의를 베풀며 도메메 크의 영혼을 기리는 의식을 치르기까지 며칠간 여왕의 정원에서 머무는 것을 허락했다. 영혼 의식이 있던 날, 세이크리아의 비밀조직 ‘새벽 의 사제’들은 여왕의 정원에 잠입해 아크를 훔치는 데 성공한다. 하지만 예기치 못한 문제가 발생했다. 아크를 훔치던 중 발각된 새벽의 사 제들이 일곱 명의 실린들을 살해하고 만 것이다. 그 누구도 이것이 거대한 전쟁의 방아쇠가 되리라고는 생각하지 못했다.\\n\\n4.2. 전쟁의 시작[편집]\\n\\n아크를 지키고 있던 실린들이 살해당하고 거인 도메메크의 죽음마저 세이크리아의 소행이었다는 사실을 알게 된 아제나는 분노했다.\\n\\n육체에 함께 공존하고 있던 이난나의 만류조차 통하지 않았던 아제나는 세이크리아에 전쟁을 선포하기에 이른다. 거인족, 우마르족과 정 령들이 로헨델의 편에 섰고, 세이크리아 역시 대주교를 따르는 전 대륙의 왕에게 로헨델과의 전쟁에 참여할 것을 요구했다. 대주교의 세력 권에 있었던 아르테미스, 기옌, 포르파지는 세이크리아를 지원했고, 중립을 유지하던 슈샤이어는 ‘꺼지지 않는 불꽃’을 주겠다는 제안에 설 득 당해 뒤늦게 합류하게 된다.\\n\\n로스트아크 슈샤이어1\\n\\n로스트아크 슈샤이어2\\n\\n혹한의 땅에 위치한 워리어의 본산 <슈샤이어>\\n\\n슈샤이어 대륙은 이그하람과의 전쟁이 시작된 때 불의 악마들을 처치하기 위해 빙결의 신 시리우스가 악마들과 함께 대지를 얼려버리면서 영원히 얼어붙은 땅이 되어버렸다. 그런 이유로 혹독한 환경에서 살아가야 하는 그들에게 있어 ‘꺼지지 않는 불꽃’은 거부할 수 없는 제안 이었다. 슈샤이어의 참전 결정으로 세이크리아는 로헨델에 충분히 맞설 연합군을 구축, 지체하지 않고 로헨델로 출격했다. 그리하여 오랜 시간 평화를 유지해온 아크라시아의 대륙에서 유래 없는 대 전쟁이 발발했다. 이것은 포튼쿨[9] 전쟁이라고 명명된, 아무것도 얻은 것이 없 는 공허하고 비극적인 전쟁의 시작이었다.\\n\\n세이크리아는 막강하고 거대한 병력을 움직였으나 실린이 지닌 마법의 힘은 그들의 예상을 훨씬 뛰어넘는 것이었다. 최전방에 선 실린여 왕 아제나의 지휘 아래, 세이크리아의 연합군은 하나, 둘 괴멸되어 갔다. 아크라시아 대륙에 불의 비가 쏟아지더니 거대한 해일과 함께 회 색 폭풍이 불어 닥쳤다. 실린들의 마법은 세이크리아 연합을 산산조각 내버렸다.\\n\\n소수 정예로 구성된 실린의 군사들도 거대한 세력들에 밀리지 않았다. 로헨델을 돕던 거인, 우마르, 정령들의 힘도 엄청나게 강력하여 세이 크리아를 압박했다. 로헨델과 그 연합의 예상을 훨씬 뛰어넘는 힘에 테르메르 3세는 당황할 수밖에 없었고, 아크의 힘을 개방하는 것만이 이 전쟁에서 연합군이 승리하는 유일한 길이라 믿었다.\\n\\n4.3. 깨어난 가디언[편집]\\n\\n아크라시아에서 벌어진 전쟁은 시간이 지나갈수록 더 많은 종족과 세력을 끌어들였다.\\n\\n대륙이 파괴되고 분노한 바다가 거인들의 섬을 집어 삼켰다. 수많은 종족들이 희생되었으며, 흘러간 피로 인해 세계수가 시들어 갔다. 하지 만 아크에 눈이 멀어버린 세이크리아는 전쟁을 멈추지 않았다. 대지의 울부짖음 끝에 쿠르잔에서 용암이 분출되었고, 흘러나온 용암과 재 로 뒤덮인 아크라시아는 마치 혼돈의 땅 페트라니아를 보는 것 같았다. 루페온이 창조한 생명의 별 아크라시아는 다시 한 번 전쟁으로 인해 파멸의 위기에 몰리고 있었다.\\n\\n로스트아크 깨어난가디언 다시 깨어난 가디언들\\n\\n길어진 포튼쿨 전쟁으로 아크라시아의 생명이 위태로워지자 최초의 균열을 막기 위해 만들어졌던 혼돈과 빛의 생명체 가디언들이 깨어났 다. 가장 먼저 눈을 뜬 것은 가디언들의 수장 에버그레이스였다. 그를 필두로 가디언들이 하나, 둘 잠에서 깨어나기 시작했다. 가디언들의 목표는 명확했다. 생명의 별 아크라시아를 파괴하는 자를 벌하는 것이었다. 비록 그 대상이 신과 악마라고 할지라도 가디언들의 사명은 별 을 지켜내는 것이었다. 가디언들은 그들이 가진 사명을 다하기 위해 별을 파괴하는 모든 이들을 공격했다. 이로 인해 포튼쿨 전쟁은 새로 운 국면을 맞이하게 된다. 세이크리아를 침공한 에버그레이스는 수도 라사모아를 파괴하고 테르메르 3세를 죽인 뒤 루페온 신전에 있던 아크를 가져갔다. 이후 에버그레이스는 아르테미스 대륙 동쪽 바다 어딘가에 더 이상 인간들이 아크에 접근하지 못하도록 자신의 둥지를 만들어 아크를 보관했다. 수도는 물론 대주교 테르메르 3세를 잃은 세이크리아, 그리고 가디언으로부터 신목 엘조윈을 공격받은 로헨델은 결국 종전을 선택할 수밖에 없었다. 모든 것이 이대로 끝난 것처럼 보였지만 이는 가장 치열한 전쟁의 서막에 불과했다. 포튼쿨 전쟁과 잠 에서 깨어난 가디언들의 움직임으로 인해 아크라시아에 차원의 균열이 생겨나기 시작했던 것이다.\\n\\n4.4. 가디언 슬레이어의 등장[편집]\\n\\n세이크리아와 로헨델은 종전을 선택했지만 가디언은 침공을 멈추지 않았다. 로스트아크 베히모스\\n\\n카단에게 죽임을 당한 베히모스\\n\\n종전 이후, 에버그레이스는 아크라시아 종족들의 심판을 두고 고민에 빠졌다. 수 많은 가디언들은 별을 수호하겠다는 본능에 의해서 움직 였지만 가디언 바르칸과 가디언 루는 달랐다. 이들은 에버그레이스가 창조한 가디언 중 유일하게 스스로의 의지를 가지고 행동할 수 있는 가디언이었으며, 언어를 구사할 수 있는 지혜를 가진 가디언이었다. 의지를 가진 세 가디언은 약간의 의견차이를 보였다. 가디언 루는 종족 들을 믿고 가디언들이 다시 잠들어야 한다고 주장했지만 가디언 바르칸은 이미 탐욕스러워진 종족들을 소멸시켜 아크라시아를 정화시켜 야 한다고 주장한다. 바르칸과 루의 주장 사이에서 고심하던 에버그레이스는 한 번 더 종족들에게 기회를 주기로 결심한다. 바르칸도 가디 언의 신인 에버그레이스의 의견을 존중했으며 종족들을 벌하고 있는 모든 가디언들을 불러들여 다시 한 번 잠들 준비를 시작한다. 하지만 이 과정에서 문제가 발생했다.\\n\\n로스트아크 카단\\n\\n최초의 가디언 슬레이어 카단\\n\\n바르칸 휘하의 가디언 베히모스가 고작 한 명의 인간에게 죽임을 당한 것이다. 이것은 가디언이 아크라시아의 종족에게 살해당한 첫 번째 사건이었다. 분노한 바르칸에게 에버그레이스는 평정을 요구했으나 바르칸은 처음으로 그의 명령에 불응한다. 바르칸은 복수를 위해 ‘가 디언 슬레이어’라 불리게 된 남자를 찾아갔다. 바르칸은 화염을 내뿜으며 그를 소멸시키려 했지만 예상 외의 일이 벌어지고 말았다. 남자는 바르칸과 호각으로 전투를 벌였고, 열흘이 지나도록 싸움은 끝날 기미가 보이지 않았다. 그때였다. 지각 변동이 일어나고 하늘에 검은 구름 이 드리워지더니 차원에 균열이 생겨나기 시작했다. 균열로부터 페트라니아의 악마들이 쏟아져 나오기 시작한 것을 본 바르칸과 가디언 슬레이어는 전투를 중단했다. 아크라시아에 위기가 찾아온 것을 느낀 바르칸은 에버그레이스에게로 향하기 전, 자신과 싸웠던 남자에게\\n\\n이름을 물었다. “카단.” 남자는 혼잣말을 하듯 자신의 이름을 읊조리고는 대륙을 떠났다.\\n\\n5. 사슬 전쟁[편집]\\n\\n5.1. 사슬 전쟁의 발발[편집]\\n\\n사슬 전쟁. 긴 사슬처럼... 오랜 기간, 꼬리에 꼬리를 물고 발생한 이 참혹한 전쟁을 사람들은 그렇게 불렀다.\\n\\n차원의 균열이 열리자 어둠군단의 악마들이 가장 먼저 쏟아져 나왔다. 어둠군단장 카멘은 엄청난 속도로 어둠군단을 지휘하며 순식간에 아크라시아를 파괴해 나가기 시작했다. 아크라시아로 건너온 카제로스는 한참 동안 대우주 오르페우스에 떠 있는 태양을 바라보았다. 그 가 갈망했던 거대한 태초의 힘이 그곳에 있었다. 아르테미스 대륙 동부에 도착한 카제로스는 악마 군단을 결집시키고 전 세계로 군단을 내 보내기 시작했다. 각 대륙의 종족들은 악마들의 힘에 속수무책으로 당할 수 밖에 없었다.\\n\\n로스트아크 사슬전쟁\\n\\n악마와 중간계 종족 사이에 벌어진 <사슬 전쟁>\\n\\n인간들은 신에게 기도했다. 종족들 모두가 신을 찾으며 울부짖었다. 하지만 하늘을 두드리는 비명소리를 신은 외면했다. 그 어느 곳에서도 신들은 나타나지 않았다. 모든 희망이 잿빛으로 변하고 아르테미스의 대륙에 멸망의 그림자가 드리워질 때쯤 뜻밖에도 재앙이라 불리던 가디언이 나타나 악마군단과 격돌했다. 에버그레이스가 카제로스의 진격을 저지했고 바르칸이 어둠군단장 카멘을 막아 섰다. 다른 악마군 단들도 별의 수호자인 가디언의 습격에 기세가 꺾이고 말았다. 그야말로 팽팽한 대결이 오랜 시간 동안 지속되었다. 하지만 악마들을 막는 것에만 열중했던 가디언들과는 달리 카제로스는 페트라니아에서 넘어온 \\'태초부터 존재한 자\\'들의 존재를 숨기고 있었다. 그리고 악마군단 이 가디언과 전투를 지속하는 동안 카제로스는 태초부터 존재했던 자들과 함께 아크라시아 대륙에 \\'붉은 달\\'을 만들어냈다. 아크라시아의 하늘에 두 개의 달이 떠올랐다. 자고라스 산 밑 평야에 결집한 악마들은 붉은 달이 뜨자 더욱 난폭해졌다.\\n\\n붉은 달은 카제로스가 가진 심연의 불꽃을 더욱 강하게 만들었고, 가디언들은 수세에 몰렸다. 본디 혼돈의 힘에 더 가까웠던 바르칸은 심연 의 불꽃을 사용하는 카제로스의 힘에 매료되어 악마군단의 편에 서기로 결심한다. 바르칸과 그를 따르던 일부 가디언들이 에버그레이스를 배신하자 상황은 급격히 악화된다. 바르칸이 막아 섰던 어둠 군단장 카멘이 카제로스를 도와 에버그레이스를 공격하기 시작했던 것이다. 거대한 힘을 가지고 있던 에버그레이스였으나 카제로스와 카멘의 협공을 이겨내지 못했고, 결국 큰 부상을 입게 되었다. 기세를 몰아 악마 군단은 아크라시아 정복을 눈앞에 두고 있었다. 하지만 절체절명의 순간, 아크라시아 대륙의 마지막 희망이 빛나기 시작했다. 루테란이라 는 인간 기사가 전장에 나타난 것이다.\\n\\n5.2. 에스더와 악마군단장의 격돌[편집]\\n\\n루테란이 등장했을 때는 가디언 바르칸의 배신으로 인해 전세가 역전된 상황이었다. 로스트아크 루테란(도시)\\n\\n훗날 루테란이 세운 기사의 도시 \\'루테란\\'\\n\\n아크라시아가 절망적인 상황에 놓일 무렵 루테란과 에스더들이 등장했다. 루테란을 필두로 카단, 아제나, 시엔, 갈라투르, 샨디, 니나브가 전장에 도착했다. 훗날 찬란한 별이라는 뜻의 영웅, ‘에스더’라 불리게 된 이들은 갈라투르가 만든 무기와 방어구를 차고 전쟁에 뛰어 들었 다. 에버그레이스의 가디언들과 대륙의 종족들도 이들을 도와 총력전을 준비했다. 더는 물러설 수 없는 최후의 격전이 이제 막 시작되려 하고 있었다.\\n\\n아크라시아의 종족들은 악마들을 상대로 물러서지 않았다. 루테란과 에스더는 이 치열한 전장을 지휘했다. 가디언들이 태초부터 존재한 자들을 막아내는 동안, 에스더들은 군단장을 상대로 호각의 전투를 벌였다. 사슬전쟁에서 가장 치열한 전투를 벌인 것은 카단과 카멘이었 다. 격돌한 두 힘은 지각변동을 일으킬 정도로 거대해 아크라시아의 종족들도, 페트라니아의 악마들도 둘의 대결에 끼어들 수 없었다.\\n\\n수많은 악마들을 소멸시키던 아제나의 앞에 몽환군단장 아브렐슈드가 등장했다. 두 명의 강력한 마법이 서로 부딪히자 아크라시아 대륙 곳곳에 거대한 폭발이 일어났다. 그 폭발로 인해 주변은 잿더미가 되어 버렸다. 차분하게 대응하는 아브렐슈드와, 반대로 강한 분노를 표출 하며 악마들을 가루로 만들어버린 아제나의 모습은 누가 악마인지 잊게 만들 정도였다.\\n\\n루테란은 에버그레이스를 도와 카제로스에 맞섰지만 역부족이었다. 갈라투르가 만들어 준 최강의 무기인 패자의 검은 카제로스의 일격에 부러져 버렸고, 도울 틈을 보던 카단은 카멘을 상대하기에도 벅찬 상황이었다. 에버그레이스는 루테란의 앞으로 나서며, 전장에서 이탈하 라고 말했다. 이후 에버그레이스는 가디언 ‘미스틱’과의 교신을 통해 자신의 둥지에 숨겨놓은 일곱 개의 아크를 가져올 것을 명했다. 스스 로의 몸을 안개로 바꿀 수 있었던 미스틱은 전장에서 빠져나가 에스더들이 악마군단장들과 치열한 격전을 벌이는 동안 일곱 개의 아크를 운반했다.\\n\\n갈라투르와 마수군단장 발탄의 싸움 또한 치열하게 진행되고 있었다. 하지만 오랜 싸움으로 체력이 고갈된 갈라투르가 위기에 몰리기 시 작했다. 더 이상 버틸 힘이 없는 갈라투르가 발탄에게 최후의 일격을 당하려는 순간 전장에서 이탈했던 루테란이 발탄의 앞을 막아 섰다. 그는 카제로스와 싸우다 부러진 패자의 검으로 발탄에게 맞섰다. 패자의 검은 갈라투르가 만든 것으로 사용자의 의지를 통해 진정한 힘을 발휘하는 검이었고 그 검을 가리켜 \\'투지의 검\\'이라고 부르기도 했다. 루테란은 부러진 패자의 검에 의지를 담아 투기의 날을 만들어 마수 군단장 발탄에게 큰 상처를 남긴다.\\n\\n로스트아크 미스틱\\n\\n위기의 순간 7개의 아크를 가지고 전장에 복귀한 가디언 \\'미스틱\\'\\n\\n하지만 지친 것은 갈라투르만이 아니었다. 가디언들과 협력해 비아키스를 궁지에 몰아넣었던 니나브, 교활한 쿠크세이튼을 상대로 흔들림 없이 대적한 샨디, 질병의 힘을 가진 일리아칸을 상대로 물러서지 않고 맞선 시엔까지. 모두 선전했지만 전투가 길어지자 힘의 균형은 급격 히 무너지기 시작했다. 전투를 이끌던 에버그레이스도 더 이상 상처 입은 몸으로 버티기엔 역부족이었다. 모두가 절망에 빠지기 직전, 에스 더들을 구한 것은 아크를 가지고 돌아온 가디언 미스틱이었다.\\n\\n5.3. 막을 내린 사슬 전쟁[편집]\\n\\n가디언 미스틱은 에버그레이스가 숨겨두었던 아크를 모두 루테란에게 전달했다.\\n\\n루테란은 전달받은 7개의 아크의 힘을 개방하고 태초의 빛 아크의 힘은 카제로스에 대항할 무기가 되어 에스더들에게 전해졌다. [10]\\n\\n루테란이 발동시킨 아크의 힘을 얻은 에스더들은 혼돈의 존재들을 밀어붙이기 시작했다. 에스더들의 위세에 악마들이 주춤한 사이, 가디 언들이 가세했고 그들의 도움을 받은 에스더들은 아크의 힘으로 카제로스를 봉인하기 시작했다. 여러 갈래로 나눠진 빛들이 거대하고 성 스러운 기둥으로 변하며 신의 창처럼 지상으로 내려와 꽂혔다. 이 기둥들이 결계를 만들어 악마들을 소멸시켰고 카제로스를 옥죄기 시작 했다. 그리고 결계 안의 모든 악마들을 소멸시켰다.\\n\\n태초의 빛으로부터 생성된 루페온의 긴 사슬들로 인해 카제로스의 육체가 봉인되기 시작하자, 아크라시아와 페트라니아 두 세계에 공명하 고 있었던 카오스게이트 또한 서서히 닫히기 시작했다. 봉인을 막을 수 없었던 카제로스는 영혼을 분리하여 태초부터 존재한 자들, 악마군 단장들과 함께 페트라니아로 돌아갈 수 밖에 없었고, 에스더들은 마침내 카제로스의 육체를 봉인해내는데 성공한다. 이후 에스더들은 봉 인한 카제로스의 육체를 아무도 접근할 수 없는 안타레스 산의 심장부에 가두어 두기로 한다. 아크라시아에 열렸던 모든 카오스게이트가 닫히자 붉은 달은 빛을 잃어가기 시작했다.\\n\\n로스트아크 봉인된카제로스\\n\\n카제로스 육체의 봉인과 함께 막을 내린 <사슬 전쟁>\\n\\n이후, 일곱 개의 아크는 다시 빛을 잃고 지상으로 떨어졌다. 루테란은 이 일곱 개의 아크를 에스더들에게 나누어 주며, 시련을 통과하는 자 만이 아크를 모을 수 있도록 전 세계에 아크를 나눠 숨기자고 제안했다. 탐욕에 물든 자가 아크를 차지하지 않게 하기 위해서였다. 에스더 들은 루테란의 의견에 찬성했고, 전쟁이 끝난 후 대륙 곳곳에 아크를 숨겼다.\\n\\n로스트아크 일곱개의아크\\n\\n중간계 곳곳에 다시 흩어진 일곱 조각의 아크[11]\\n\\n그렇게 사슬전쟁은 막을 내렸다. 하지만, 이는 카제로스와의 첫 번째 조우였을 뿐이었다. 쿠르잔의 들끓는 용암 속에서도 카제로스의 육신 은 소멸하지 않았고, 페트라니아에 돌아간 카제로스의 영혼은 봉인이 풀려나는 날만을 기다리고 있었다.\\n\\n5.4. 잠든 가디언들, 새로운 시작[편집]\\n\\n사슬전쟁이 끝난 후, 아크라시아는 많은 변화를 맞이하게 되었다.\\n\\n가디언들은 에버그레이스를 따르는 자들과 바르칸을 따르는 자들로 나뉘어졌는데, 바르칸을 따르는 자들은 차원의 균열이 닫힐 때 악마들 을 따라 페트라니아로 향했다. 에버그레이스는 파괴된 대륙을 복구시키는 것은 이곳 종족들의 몫이라는 말을 남긴 채, 가디언의 숙명에 따 라 아크라시아 대륙 어딘가로 사라졌다. 이에, 에버그레이스를 따르던 가디언들도 긴 잠에 들었다. 가디언들이 물러가던 시기, 가디언 ‘루’만은 세상에 남아 인간들 곁에서 그들이 다시 일어서는 것을 지켜보겠다고 에버그레이스에게 간청했다. 에버그레이스는 루의 뜻을 존 중하여 그가 인간들 곁에 머무는 것을 허락했다.\\n\\n한편, 인간들은 악마들과의 전쟁을 종식시킨 가디언들을 재앙이 아닌 \\'신의 성물\\'로 기록했고 일곱 명의 영웅들을 \\'에스더\\'라 칭송하며 그들 의 업적을 기렸다. 각 종족들은 대륙을 정비하기 시작했고 그 과정에서 새로운 국가들이 건국되기 시작했다.\\n\\n@. 개척의 500년[편집]\\n\\n6.1. 풍류의 정원, 애니츠[편집]\\n\\n사슬전쟁 이후, 에스더 시엔은 자신을 따르던 사람들과 함께 아크라시아의 동쪽으로 향했다.\\n\\n긴 여정 끝에 벚꽃이 만개한 아름답고 풍요로운 땅을 발견한 사람들. 하지만 그곳엔 사슬전쟁으로 다친 몸을 회복중인 가디언 루가 있었 다. 전쟁에서 루와 만난 적이 있었던 시엔은 그를 찾아가 자신을 포함한 사람들이 그곳에 정착해도 되는지를 물었다. 처음에 루는, 페트라 니아의 악마들로 인해 오염된 자신의 몸이 사람들을 해칠 것을 걱정해 떠나라고 했다. 하지만 다시 한 번 시엔이 찾아가자 한 가지 조건을 걸고 정착을 허락했다. 그것은 바로, 에스더 시엔에게 인정 받은 자가 아니면 인간을 자신의 성역에 들이지 말라는 것이었다. 시엔은 조건 을 받아들였다. 이후, 풍요의 대지에 정착한 사람들은 대륙을 ‘애니츠’라 명명하고 자신들만의 독특한 문화를 발전시켜 나갔다. 로스트아크 중간계지도(사슬전쟁...\\n\\n동쪽에 새로 생긴 나라 <애니츠>\\n\\n사슬전쟁으로 악마들에게 입은 상처가 컸던 가디언 루는 스며든 어둠을 견뎌내며 서서히 몸을 회복해 갔다. 그러던 어느 날, 에스더 시엔이 자신의 몸 속에 있던 힘을 제어하지 못하는 상황이 발생했다. 시엔이 힘에 먹힐 위험에 처하게 되자 루는 자신이 나서 사태를 진정시키려 했다. 하지만 힘을 사용함과 동시에 억제되어 있던 어둠이 상처를 통해 분출되었고, 이는 애니츠 곳곳에 스며들었다. 땅에 스며든 어둠의 영향으로 애니츠 대륙의 사람들은 서로 다투기 시작했다. 다툼은 전쟁을 만들었고, 전쟁은 희생을 낳았다. 전장에 흐른 피는 알 수 없는 틈 의 경계까지 흘러갔고, 얼마 지나지 않아 페트라니아로 돌아가지 못한 악마들이 피 냄새를 맡고 몰려들기 시작했다.\\n\\n로스트아크 애니츠1\\n\\n로스트아크 애니츠2\\n\\n격투가 클래스의 시작 마을이기도 한 동방 대륙 <애니츠>\\n\\n시엔은 애니츠의 무투가들과 함께 대륙을 뒤덮은 악마들을 하나, 둘 처리해 나갔다. 수 개월 간의 격전 끝에 악마들이 모두 사라지자 애니 츠 대륙엔 다시 평화가 찾아왔다. 스스로의 불안정함을 경계한 시엔은 자신과 함께 싸웠던 무투가들에게 애니츠를 맡긴 뒤, 루가 있는 거울 계곡으로 자취를 감췄다. 시엔의 뜻을 받든 적운과 연이삭이라는 무투가는 ‘대사부 시험’을 통해, 모두의 의견에 귀를 기울여 줄 지혜로운 자를 구해 정치를 맡겼다. 이후 사백 년 동안 애니츠는 천혜의 자연환경, 풍부한 자원을 바탕으로 문화와 무역을 발전시켜 현재의 모습으로 발전했다.\\n\\n6.2. 데런 학살과 페이튼[편집]\\n\\n사슬전쟁이 아크라시아 대륙에 남긴 것은 파괴된 문명과 악마들에 대한 공포심만이 아니었다.\\n\\n전쟁이 끝나고 어느 정도 시간이 흐른 뒤에 악마와 인간이 반으로 섞인 종족이 생겨났다. 그들의 육체는 흡사 악마와 같았고 악마와 비슷한 힘을 지니게 되었는데 사슬전쟁으로 인해 악마에 대한 공포가 남아있던 아크라시아의 종족들은 이러한 자들에게 강한 적대심을 드러냈다. 가장 큰 반감을 보인 것은 대주교의 국가 세이크리아였다.\\n\\n로스트아크 폭발한붉은달\\n\\n데런은 붉은 달이 부서지면서 생긴 가루에 노출된 인간이 변화한 종족이라는 설이 유력하다.\\n\\n세이크리아는 악마의 씨앗을 아크라시아에서 축출해야 한다며 \\'신의 뜻\\'이라는 명목아래 대규모 학살을 감행했다. 악마의 모습을 가진 것 외에는 어떠한 문제도 일으키지 않았던 종족들에게 말이다. 타국은 이를 방관했고, 이들은 악마의 힘을 가지고도 저항하지 않았는데, 겨우 살아남아 도망친 이들은 대륙을 떠돌 수밖에 없었다. 그들은 스스로를 고대어로 ‘버려진 것’이라는 뜻의 데런이라 칭하고, 살아남기 위해 저주받은 땅 페이튼으로 향한다. 사슬전쟁의 상처만이 남은 버려진 땅 페이튼. 그곳에서 유일하게 생명이 자라는 곳에 정착한 데런들은 최 소한의 자원으로 생명을 연명해갔다. 살아있을지언정 그들 앞에 놓인 선택지는 많지 않았다. 자멸하거나, 살해당하는 것. 그것도 아니면 스 스로 생존하는 것이 전부였다. 삶과 죽음 앞에서 생존을 선택할 수 밖에 없었던 데런들은, 수련을 통해 악마의 힘을 제어하려 노력했다. 수 백 년간의 시행착오 끝에 스스로에게 내재된 악마성은 숨길 수 있게 되면서 평소에는 인간의 모습을 하고 살아갈 수 있었다. 스스로를 통제 하지 못하게 되면 악마화가 진행되었지만 페이튼의 데런들은 그 힘마저도 언젠가 악마들과의 전쟁이 시작되면 필요해 질 날이 올 것으로 믿었고, 그 힘은 \\'어떤 의미\\'를 가지고 신들이 자신들에게 부여한 것이라고 굳게 믿었다.\\n\\n로스트아크 아만의눈물 사제 \\'아만\\'도 데런 종족이다.\\n\\n하지만 데런들 중 일부는 자신들을 악마로 몰아간 세이크리아를 저주했고 악마의 힘 또한 숨기려 하지 않았다. 악마의 힘을 극대화하려는 그들의 시도는 빈번히 다른 데런들과 충돌했다. 이념적 갈등은 점점 더 깊어졌고, 데런은 결국 두 세력으로 분화했다.\\n\\n이후, 분화된 데런들은 각자의 이유로 카제로스의 부활을 기다렸다. 어떤 데런들은 세상에 복수할 더욱 강한 힘을 얻기 위해서, 또 다른 데 런들은 이 모든 일의 원흉인 카제로스를 자신들의 손으로 처단하기 위해서.....\\n\\n6.3. 분열된 로헨델과 베른의 탄생[편집]\\n\\n사슬전쟁 시기, 실린들이 가진 마법의 힘을 경계했던 몽환군단장 아브렐슈드는 감시가 소홀한 틈을 타 로헨델에 잠입했다.\\n\\n몽환군단장 아브렐슈드는 실린들의 힘을 약화시키기 위해 아제나를 섬기는 제나일의 실린들에게 접근했다. 제나일로 침투한 아브렐슈드 는 마법에 대한 열망을 이용해 실린들을 조종하기 시작했다. 환혹된 실린들은 거대한 마법을 도시 내에서 폭발시켜 버렸고, 아제나가 다급 히 도착했을 때 이미 제나일은 붕괴되어 폐허만이 남아있을 뿐이었다. 전쟁이 끝난 후, 환혹에서 깨어난 제나일의 실린들은 실린여왕에게 용서를 구하지만 아제나는 제나일을 붕괴시킨 그들을 이름없는 땅으로 추방하기로 결정한다. 마법의 두려움을 알게 된 실린들이 제나일의 실린들을 배척할까 염려해서였다. 아제나의 뜻을 알고 있었던 이난나는 조용히 그들의 이주를 돕는다.\\n\\n로스트아크 베른1\\n\\n로스트아크 베른2\\n\\n조화와 창조, 발전의 땅 <베른>\\n\\n아제나는 떠나간 제나일의 실린들이 새로이 정착하게 될 땅의 이름을 ‘베른’이라 지어주었다. 베른으로 건너간 실린들은 제나일을 이끌었 던 ‘에아달린’을 여왕으로 옹립했다. 여왕이 된 에아달린은 소통과 화합을 위해 이 땅에 살고 있던 다른 종족들. 오크, 트롤, 고블린 들을 찾 아가 손을 내밀었다.\\n\\n결국 현재까지도 세 종족과의 화합은 이루어지지 못했지만 에아달린은 조화와 창조, 발전을 중시하는 제나일의 가르침을 잊지 않고 실천 해 나갔다. 그것이 진보된 성향의 실린들과 함께 베른을 건국한 이념이었기 때문이다. 그렇게 베른으로 이주한 실린들은 다양한 종족과 그 들의 문화양식을 받아들여 세계의 중심 세력으로 자리 잡을 수 있었다.\\n\\n6.4. 케나인의 탄생[편집]\\n\\n사슬전쟁 이후, 세이크리아는 새로운 대주교 체제하에 문명을 발전시켜 나가기 시작했다.\\n\\n대주교 ‘다리우스’는 아크에 눈이 멀어 포튼쿨 전쟁을 일으킨 테르메르 가문을 세이크리아에서 파문했고, 그들의 칼과 방패 역할을 했던 성 기사단도 해체시켰다. 이 급진적인 개혁은 세이크리아를 오랜 세월 동안 지켜온 새벽의 사제와 상아탑에서 의학과 마법, 과학을 연구하던 학자들에게까지 영향을 미쳤다. 다리우스는 학자들의 이러한 연구가 주신 루페온의 의지에 반하는 것이라고 주장했다. 그는 상아탑을 이 단으로 규정하고 탄압하기 시작한다. 그러나 상아탑 학자들은 연구에 대한 뜻을 굽히지 않았고, 결국 세이크리아 대륙으로부터 추방되기 에 이른다. 추방당한 학자들은 자신들의 연구를 완성시킬 환경을 찾아 세계를 떠돌던 중 붉은 사막을 발견하게 된다. 아무것도 자라지 않 는 메마른 사막. 그러나 그 안에 막대한 양의 자원이 내재되어 있다는 것을 알게 된 이들은, 대륙의 이름을 아르데타인으로 명명하고 그 위 에 수도 토트리치를 세워 국가를 건설한다.\\n\\n로스트아크 아르데타인1\\n\\n로스트아크 아르데타인2 기계 문명 <아르데타인>\\n\\n하지만 메마른 땅 위에서 국가를 발전시켜 가는 길은 순탄치 않았다. 여러 길을 모색하던 아르데타인의 사람들은, 척박한 땅을 개간하기 위 해 만들었던 기계를 점차 인간의 신체를 대신하는 용도로까지 고려하게 되었다. 뼈대를 대체하는 것에서 시작한 신체 실험은 결국 종의 성 질을 바꾸는 경지에까지 도달하게 되었고, 마침내 신이 주신 붉은 피가 아닌 스스로 만든 푸른 피가 흐르는 종족으로 진화하게 되었다. 이 들은 진화된 자신들을 새로운 종족으로 분류하여 ‘케나인’이라 명명했다. 그리고 대도시 슈테른을 건설, 수도를 옮기고 더 큰 발전과 진화 의 방향을 모색하기 시작했다.\\n\\n6.5. 아크라시움과 혼돈의 조각[편집]\\n\\n아크가 남긴 또 하나의 유산, 아크라시움. 아크가 남긴 빛이 분산되면서 대륙 곳곳에 반짝이는 빛의 가루들이 흩뿌려졌다.\\n\\n빛이 분산되면서 흩뿌려진 가루들은 지상에 내려와 \\'아크라시움\\'이라 불리는 신비한 광물이 되었다. 더불어 붉은 달이 소멸되면서 생성된 \\'혼돈의 조각\\'도 아크라시아 대륙 일부로 흩어졌다. 아크와 붉은 달의 파편들은 이후 세상을 크게 변화시킨다.\\n\\n로스트아크 아크라시움\\n\\n중간계 문명에 큰 영향을 끼친 광물 \\'아크라시움\\'\\n\\n아크라시움의 발견으로 인해 인류는 비약적인 발전을 이루게 되었다. 초기 아크라시움은 전사들의 무기와 방어구를 강화하는 용도에 그쳤 으나, 이후 기술의 발달로 욘의 ‘고대 용광로’, 아르데타인의 이동수단 ‘블리츠’와 같이 여러 용도에 활용되었다. 하지만 유한한 자원이었던 아크라시움의 가치는 시간이 지날수록 급격히 상승했고 결국 전쟁을 대비하기 위한 무기와 방어구 제작에 비율이 높아지면서 아크라시움 으로 제작된 물건들은 특수한 계층에게만 돌아가게 되었다. 이는 계층간의 힘의 격차를 더욱 극명하게 갈라놓았으며 대륙간의 힘의 균형 을 조금씩 변화시키는 계기가 되었다. 아크라시움이 가장 많이 생산되는 지역은 욘이었다. 욘은 로헨델과 베른간의 균형 잡힌 무역을 통해 서 부를 축적했으며 베른은 단기간에 나라의 위상을 끌어올릴 수가 있게 되었다. 게다가 수많은 아크라시움을 욘으로부터 대량으로 구매 한 베른은 이를 무기나 방어구로 가공하여 주변 국가와의 무역 수단으로 활용하기도 했다. 그렇게 아크라시움은 대륙에서 가장 중요한 물 질이 되었다.\\n\\n혼돈의 조각은 아크라시움 만큼 널리 알려져 있지 않고 발견하기도 힘든 물질이었다. 혼돈의 조각에는 작지만 태초의 혼돈이 가지고 있던 에너지가 있어 이를 감당하지 못하게 되면 파편의 소유자를 미치게 하거나 파멸하게 만든다고 전해졌다.\\n\\n6.6. 루테란, 영광의 시대와 몰락[편집]\\n\\n대악마 카제로스를 봉인한 뒤, 에스더 루테란은 마지막 전투가 벌어졌던 격전의 평야에서 종전을 선언한다.\\n\\n로스트아크 루테란(도시)2 명예로운 기사의 나라 <루테란>\\n\\n이후, 루테란은 자신의 나라로 돌아와 나라를 보살폈다. 루테란은 아르테미스의 연방국가들과 우호 조약을 체결하고 신생국인 베른, 아르 데타인을 포함해 교류가 적었던 욘, 로헨델과도 평화적인 관계를 맺었다. 사슬전쟁 당시 에스더라는 이름으로 여러 종족들을 통합했던 루 테란 왕의 이러한 행보는, 아크라시아 전역에 영향을 미쳤다. 루테란 왕의 서거 이후, 국가 루테란은 사백 년 동안 영광의 시대를 맞이하게 된다.\\n\\n로스트아크 실리안\\n\\n전설적인 인간 기사 \\'루테란\\'의 후손, 실리안 왕자\\n\\n그러나 오랜 시간이 흐른 뒤 국가 루테란은 조금씩 흔들리기 시작했다. 부유한 귀족들이 왕의 권위를 위협하게 된 것이다. 라이오넬 왕에 이르러 격화된 이 갈등의 중심에는 동부의 공작 슈헤리트가 있었다. 유약한 동생이 왕의 자리에 오른 것에 불만을 가졌던 슈헤리트는 동생 을 독살하고, 그의 아들 실리안을 대신해 섭정의 자리에 오른다. 이후, 성인이 된 실리안이 왕의 자격을 증명하지 못하는 것을 빌미로 유폐 시킨 뒤 암살을 시도한다. 도망친 실리안은 자신을 따르는 귀족들과 함께 대항군을 결성, 섭정 슈헤리트에 대항하기에 이른다.\\n\\n7. 의지를 계승하는 자[편집]\\n\\n7.1. 잊혀진 아크, 다가온 재앙[편집]\\n\\n사슬전쟁 이후, 대륙의 국가들은 빠르게 발전하며 전쟁의 상처를 치유해가기 시작했다.\\n\\n새로운 대주교 아래 세이크리아는 종교의 성지이자 대륙의 중심으로서의 권위를 회복해갔다. 아름다운 음악이 울려 퍼지는 플레체에서는 예술이 발전하였고, 여인국 파푸니카에서는 탐스러운 과실이 여물고 축제가 끊이지 않았다. 또한, 우마르족은 아크라시움을 바탕으로 무 기와 방어구를 제작해 부를 축적했다. 이렇듯 번성하기 시작한 아크라시아의 종족들은 그 어느 때보다 풍요한 시대를 영위해 나가고 있었 다. 오백 년간 이어진 긴 평화로 인해 아크라시아의 종족들에게서 악마들과의 전쟁은 잊혀져갔고 아크의 존재 역시 완전히 잊혀졌다.\\n\\n아크라시아의 종족들이 잊은 것은 비단 전쟁뿐만이 아니었다. 사람들은 아크를 동화책에서나 나오는 이야기라고 생각했으며 그렇게 태초 의 힘인 아크의 존재는 아크라시아의 종족들에게서 점차 지워져 갔다. 하지만 오랜 세월을 거치며 카제로스의 육체가 봉인되어 있는 쿠르 잔의 화산이 다시 분화하기 시작했고, 육체를 봉인했던 루페온의 사슬들도 조금씩 느슨해지기 시작했다. 페트라니아에 자리한 영혼과 공 명하기 시작한 그의 육체로 인해, 다시 아크라시아에 크고 작은 카오스게이트가 열리기 시작했다. 하지만 오래된 평화로 인해 아크라시아 의 종족들은 다가오는 재앙을 눈치채지 못했다.\\n\\n황혼이 지는 어느 저녁, 해무리 언덕 광장에서 한 음유시인은 과거를 노래했다. 토토이크라는 거인이 난쟁이를 만들었다는 내용이었다. 이 를 들은 사람들은 허무맹랑한 이야기라며 노인을 조롱했다. 노인은 개의치 않은 듯 일어나 사람들에게 말했다.\\n\\n\"세상엔 믿지 못할 전설들이 많지 않은가? 그 옛날 악마를 물리쳤던 힘. 아크처럼 말이지...\"\\n\\n그렇게 아크는 종족들의 기억에서 사라져 갔다. 사람들은 모두 그 존재를 잊어버렸다. 요정의 숲에 사는 아이들도, 기계국가를 건설한 공학 자들도, 풍류의 정원으로 떠난 신선들도, 영광의 시대를 열었던 기사들마저도 아크를 잊어버렸다.', metadata={'source': './files/chapter_one.txt'})]"
      ]
     },
     "execution_count": 25,
     "metadata": {},
     "output_type": "execute_result"
    }
   ],
   "source": [
    "from langchain.chat_models import ChatOpenAI\n",
    "# from langchain.document_loaders import TextLoader\n",
    "from langchain.document_loaders import UnstructuredFileLoader\n",
    "\n",
    "# loader = TextLoader(\"./data/chapter_one.txt\")\n",
    "# loader.load()\n",
    "\n",
    "# 확장자에 상관 없이 데이터 추출 가능\n",
    "loader = UnstructuredFileLoader(\"./files/chapter_one.txt\")\n",
    "loader.load()"
   ]
  },
  {
   "cell_type": "code",
   "execution_count": 31,
   "metadata": {},
   "outputs": [
    {
     "data": {
      "text/plain": [
       "[Document(page_content='태초의 세상은 혼돈이었다. 하지만 규칙이 만들어지면서, 혼돈이었던 세상은 질서의 세계와 무질서의 세계로 갈라진다.', metadata={'source': './files/chapter_one.txt'}),\n",
       " Document(page_content='질서의 신 루페온은 불완전함 속에 자리잡은 자신의 세계에 여러 가지 규칙들을 만들어내기 시작했다. 루페온은 대우주 오르페우스를 창 조하고 공간을 메울 별을 만든 뒤, 절대 꺼지지 않을 태초의 빛 아크를 이용해 태양을 띄웠다. 그러나 무한한 태양과는 달리 별은 유한하여 생성되고 소멸되길 반복했다. 질서는 생명을 창조하였으나 죽음이란 그림자 또한 만들어 버린', metadata={'source': './files/chapter_one.txt'}),\n",
       " Document(page_content='생성되고 소멸되길 반복했다. 질서는 생명을 창조하였으나 죽음이란 그림자 또한 만들어 버린 것이다. 불완전한 질서의 세계를 관망하던 혼돈의 신 이그하람은 무한한 생명을 가진 아크에 흥미를 가지기 시작했다. 소멸하지 않는 아크야말로 혼돈의 결정체라 생각했던 이그하 람의 시선은 아주 오랜 시간을 거쳐 서서히 탐욕으로 변하게 되었다.', metadata={'source': './files/chapter_one.txt'}),\n",
       " Document(page_content='로스트아크 태초의 빛 <아크> 태초의 빛 <아크>', metadata={'source': './files/chapter_one.txt'}),\n",
       " Document(page_content='한편, 질서의 신 루페온은 대우주 오르페우스에 별과 행성을 창조해냈다. 셀 수도 없이 많은 탄생과 죽음이 반복된 끝에 응축된 생명의 힘 은 스스로 생명을 창조할 수 있는 별 ‘아크라시아(Arkrasia)’[1]를 탄생시켰다. 루페온은 대우주 오르페우스에서 유일하게 창조의 힘을 가 지고 태어난 별 아크라시아를 관리하기 위해 신을 만들었다. 루페온에 의해', metadata={'source': './files/chapter_one.txt'}),\n",
       " Document(page_content='창조의 힘을 가 지고 태어난 별 아크라시아를 관리하기 위해 신을 만들었다. 루페온에 의해 탄생한 일곱 신들은 아크라시아에 수많은 생명의 원천을 흩뿌 린 뒤, 태어난 생명들의 순환 고리를 만들어 내었다. 이로 인해 대우주 오르페우스의 질서에 따라 아크라시아에도 삶과 죽음이 공존하게 되 었다.', metadata={'source': './files/chapter_one.txt'}),\n",
       " Document(page_content='로스트아크 아크라시아&페트라니...\\n\\n아크라시아와 페트라니아', metadata={'source': './files/chapter_one.txt'}),\n",
       " Document(page_content='같은 시기, 혼돈의 세계에도 하나의 질서가 만들어졌다. 질서의 세계에서 무한한 생명의 힘 아크가 탄생했던 것처럼, 혼돈의 세계에서도 질 서를 가진 어둠의 생명이 탄생했다. 이 어둠의 생명은 혼돈의 신 이그하람의 의지와는 달리 스스로를 분열시켜 어둠의 생명을 창조했고, 어 둠의 별 페트라니아를 만들어내기에 이른다. 이렇게 만들어진 두 세계는 각자의 방식으로', metadata={'source': './files/chapter_one.txt'}),\n",
       " Document(page_content='어 둠의 별 페트라니아를 만들어내기에 이른다. 이렇게 만들어진 두 세계는 각자의 방식으로 변화해 나갔다. 혼돈에서 탄생한 힘은 아크라시 아의 응축된 힘, 아크와 공명하기 시작했다. 그러나 섞일 수 없었던 두 힘은 서서히 차원간의 균열을 만들어 가고 있었다.', metadata={'source': './files/chapter_one.txt'}),\n",
       " Document(page_content='2.2. 일곱 신과 종족의 탄생[편집]\\n\\n아크라시아가 태동한 초기, 최고신 루페온과 일곱 신들은 별에서 살아갈 여러 종족들을 만들어 내었다.\\n\\n로스트아크 초기 중간계\\n\\n여러 대륙으로 갈라진 중간계', metadata={'source': './files/chapter_one.txt'}),\n",
       " Document(page_content='루페온이 만든 일곱 신 중 조화의 신 기에나가 생명의 원천인 바다를 창조한 이후, 하나의 대륙은 여러 개로 쪼개져 각기 다른 모습을 지니 게 되었다. 초기에 루페온은 각 대륙에 자리잡은 아크라시아의 종족들을 위해 아크의 힘을 나누어 주었고, 종족들은 빠르게 발전해 나갔다. 그러나 아크의 힘으로 인해 아크라시아의 종족들은 교만해졌으며, 타락하여 신의 질서에', metadata={'source': './files/chapter_one.txt'}),\n",
       " Document(page_content='그러나 아크의 힘으로 인해 아크라시아의 종족들은 교만해졌으며, 타락하여 신의 질서에 대항하기에 이른다. 이에 분노한 루페온은 종족 들로부터 아크의 힘을 다시 빼앗아 일곱 개의 조각으로 분리해 신들에게 나누어 주었다. 그리고 일곱 신에게 새로운 종족들을 창조할 것을 명했다.', metadata={'source': './files/chapter_one.txt'}),\n",
       " Document(page_content='루페온의 명을 받은 일곱 신들은 아크라시아에 새로운 종족들을 창조했다. 명예의 신 프로키온은 루페온과 가장 닮아 있는 종족 라제니스 를 탄생시켰고, 지혜의 신 크라테르는 마법을 자유자재로 다루는 종족 실린을 만들었다. 또한 생명의 신 알데바란은 다양한 형태로 분화 가 능한 정령들을, 대지의 신 아크투르스는 문명을 창조해 나갈 수 있는 능력을 지닌 우마르', metadata={'source': './files/chapter_one.txt'}),\n",
       " Document(page_content='능한 정령들을, 대지의 신 아크투르스는 문명을 창조해 나갈 수 있는 능력을 지닌 우마르 종족과 거인족을 탄생시켰다. 불의 신 안타레스는 강력한 전투력과 지략을 지닌 할족을, 시리우스는 빙결의 종족 타베르를 만들었다. 조화의 신 기에나는 대지의 모든 생명들과 소통이 가능 한 요즈족, 그리고 바다 속에서도 살아갈 수 있는 포시타족을 만들었고, 마지막으로', metadata={'source': './files/chapter_one.txt'}),\n",
       " Document(page_content='가능 한 요즈족, 그리고 바다 속에서도 살아갈 수 있는 포시타족을 만들었고, 마지막으로 시리우스와 힘을 합쳐 스스로 성장해 나가는 힘을 가진 ‘인간’을 만들었다.', metadata={'source': './files/chapter_one.txt'}),\n",
       " Document(page_content='로스트아크 일곱종족\\n\\n일곱 신들이 창조한 종족들[2][3]', metadata={'source': './files/chapter_one.txt'}),\n",
       " Document(page_content='일곱 신들이 태초에 만들어낸 종족 중 라제니스, 할, 실린은 특히 많은 능력을 부여 받은 종족이었다. 이들 중 라제니스는 하늘을 날 수 있 는 유일한 종족이었기 때문에 세상을 관찰하며 다스리는 임무를 맡았다. 할은 지략과 전투 능력이 뛰어난 종족이었으며, 실린은 마법이라 는 신비한 힘을 다룰 수 있는 지혜로운 종족이었다. 힘의 균형을 이룬 이 세 종족을', metadata={'source': './files/chapter_one.txt'}),\n",
       " Document(page_content='는 신비한 힘을 다룰 수 있는 지혜로운 종족이었다. 힘의 균형을 이룬 이 세 종족을 중심으로 아크라시아의 수많은 종족들은 함께 발전해 나갔다.', metadata={'source': './files/chapter_one.txt'}),\n",
       " Document(page_content='로스트아크 아크를탐낸죄\\n\\n아크를 탐낸 죄로 벌을 받은 종족들', metadata={'source': './files/chapter_one.txt'}),\n",
       " Document(page_content='하지만 힘의 균형은 할에 의해 곧 깨어져 버리고 말았다. 할이 불의 신 안타레스를 속여 아크의 힘을 갖게 된 것이다. [4] 실린과 라제니스가 힘을 합쳐 할을 막아내려 했지만, 아크의 힘을 가진 할을 막아내기에는 역부족이었다. 이를 저지하기 위해 라제니스 종족은, 신계로 숨어 들어가 프로키온의 아크를 훔쳐 할에 대항했다. 아크의 힘 덕분에 실린과', metadata={'source': './files/chapter_one.txt'}),\n",
       " Document(page_content='신계로 숨어 들어가 프로키온의 아크를 훔쳐 할에 대항했다. 아크의 힘 덕분에 실린과 라제니스는 전쟁에서 승리했지만 최고신 루페온의 노여움을 사 게 되었다. 안타레스는 할에게 아크를 넘겨준 죄로 신계에서 추방되었고, 아크를 제대로 관리하지 못한 프로키온은 언어를 빼앗겼다. 전쟁 의 원흉이었던 할은 신을 기만한 죄로 소멸의 형벌을 받았다. [5] 마지막으로', metadata={'source': './files/chapter_one.txt'}),\n",
       " Document(page_content=\"전쟁 의 원흉이었던 할은 신을 기만한 죄로 소멸의 형벌을 받았다. [5] 마지막으로 프로키온의 아크를 훔친 라제니스 종족은 날개를 퇴화시켜 더 이상 날 수 없게 만들었다. 그리고 신들이 사는 세계 밑에 '엘가시아'라는 대륙을 만들어, 천 년에 한 번 거대한 날개를 펼 수 있는 자가 나타 나면 차원의 틈 '트리시온'[6] 에서 아크라시아의 미래를 내다보도록\", metadata={'source': './files/chapter_one.txt'}),\n",
       " Document(page_content=\"수 있는 자가 나타 나면 차원의 틈 '트리시온'[6] 에서 아크라시아의 미래를 내다보도록 했다. 그것은 라제니스를 아꼈던 루페온의 신뢰이자 벌이었다.\", metadata={'source': './files/chapter_one.txt'}),\n",
       " Document(page_content='2.3. 최초의 전쟁 그리고 가디언의 탄생[편집]\\n\\n대륙에서 일어난 전쟁으로 아크의 힘이 증폭되면서 그 동안 공명해 오던 두 세계의 힘이 어그러졌고, 차원에 거대한 균열이 발생했다. 로스트아크 균열\\n\\n균열이 일어난 두 세계', metadata={'source': './files/chapter_one.txt'}),\n",
       " Document(page_content='오랜 시간 아크의 힘을 탐냈던 이그하람은 이 때를 놓치지 않았다. 그는 페트라니아에서 자라난 어둠의 생명체, 그리고 ‘태초부터 존재한 자들’과 함께 질서의 세계 아크라시아를 침공했다. 신들과 아크라시아의 종족들은 이들에 맞서 싸웠다. 하지만 전쟁의 여파는 전혀 예상치 못한 결과를 불러들였다. 태초의 힘이 부딪히자 두 세계의 균열이 더욱 커지면서 대우주', metadata={'source': './files/chapter_one.txt'}),\n",
       " Document(page_content='못한 결과를 불러들였다. 태초의 힘이 부딪히자 두 세계의 균열이 더욱 커지면서 대우주 오르페우스가 페트라니아를 집어 삼키기 시작한 것이다. 모든 세계가 무(無)로 돌아가며 혼돈마저 잠식하기 시작하자 이그하람은 전쟁을 중단했다. 균열을 막기 위해 아크라시아의 일곱 신들은 각자의 아크를 루페온에게 바쳤고, 루페온은 아크의 힘을 개방했다. 이 태초의 힘은', metadata={'source': './files/chapter_one.txt'}),\n",
       " Document(page_content=\"신들은 각자의 아크를 루페온에게 바쳤고, 루페온은 아크의 힘을 개방했다. 이 태초의 힘은 이그하람이 가진 혼돈과 결합하여 ‘가디언’을 만들어냈다. 이렇게 탄생한 최초의 가디언 '에버그레이스'는 아크의 빛과 혼돈의 어둠이 결합되어 절대적 힘을 지니고 탄생한 생명체였다. 로스트아크 에버그레이스\", metadata={'source': './files/chapter_one.txt'}),\n",
       " Document(page_content='가디언들은 빠르게 균열의 팽창을 막아 나갔다. 최초의 가디언인 ‘에버그레이스’는 자신의 힘을 나누어 더 많은 가디언들을 탄생시켰고, 가 디언들의 힘을 결집시켜 균열을 닫는데 성공했다. 이 사건 이후, 이그하람의 군단은 혼돈의 세계로 돌아갔으며 임무를 다한 가디언들은 긴 잠에 들었다. 차원간의 거대한 전쟁이 끝나고 아크라시아의 여명은 비로소 막을 내리게', metadata={'source': './files/chapter_one.txt'}),\n",
       " Document(page_content='긴 잠에 들었다. 차원간의 거대한 전쟁이 끝나고 아크라시아의 여명은 비로소 막을 내리게 되었다.', metadata={'source': './files/chapter_one.txt'}),\n",
       " Document(page_content='로스트아크 가디언들\\n\\n별의 수호자 <가디언>들', metadata={'source': './files/chapter_one.txt'}),\n",
       " Document(page_content='질서와 혼돈이 만들어낸 차원간의 첫 전쟁 이후 루페온은 아크라시아에 신들이 개입되는 것을 원치 않았고, 아크를 가진 일곱 신들은 아크 라시아 대륙을 떠나 신계를 만들어 그들을 지켜보았다. 이후 그 어떤 종족도 신들의 권위에 대항하지 않았고, 다시 질서가 찾아온 아크라시 아는 신들의 축복과 함께 더욱 더 풍요롭게 발전해 나갔다. 그렇게 위대했던 아크의 힘은', metadata={'source': './files/chapter_one.txt'}),\n",
       " Document(page_content='아는 신들의 축복과 함께 더욱 더 풍요롭게 발전해 나갔다. 그렇게 위대했던 아크의 힘은 잊혀지는 듯 했다.', metadata={'source': './files/chapter_one.txt'}),\n",
       " Document(page_content='3. 어둠의 왕좌[편집]\\n\\n3.1. 이그하람의 죽음[편집]\\n\\n질서와 혼돈이 만들어낸 차원간의 거대한 전쟁 이후, 더 이상의 균열은 발생하지 않았다.', metadata={'source': './files/chapter_one.txt'}),\n",
       " Document(page_content='풍요와 번영의 시기를 맞이한 아크라시아와는 달리, 페트라니아는 암흑과 혼란의 시기를 보냈다. 혼돈의 힘을 흡수해 탄생한 페트라니아 의 생명체들은 아무런 규칙도, 제약도 없이 다양한 형태로 진화해 나갔다. 그들은 생존을 위해 서로를 공격하기 시작했고, 페트라니아는 끔 찍한 파괴의 전장이 되어가고 있었다. 하지만 이 혼란은 심연으로부터 등장한 카제로스에 의해', metadata={'source': './files/chapter_one.txt'}),\n",
       " Document(page_content='파괴의 전장이 되어가고 있었다. 하지만 이 혼란은 심연으로부터 등장한 카제로스에 의해 사그라들기 시작한다. 스스로를 심연의 군 주라 칭한 카제로스는 악마들을 창조하며 순식간에 혼돈의 세계를 평정했다. 이그하람은 혼돈의 세계에서 질서를 만들기 시작한 카제로스 로 인해 자신이 가지고 있던 혼돈의 힘이 점차 소멸되는 것을 느꼈다. 이에, 이그하람은 태초부터', metadata={'source': './files/chapter_one.txt'}),\n",
       " Document(page_content='자신이 가지고 있던 혼돈의 힘이 점차 소멸되는 것을 느꼈다. 이에, 이그하람은 태초부터 존재한 자들과 함께 카제로스가 있는 ‘심 연의 공간’으로 향했다.', metadata={'source': './files/chapter_one.txt'}),\n",
       " Document(page_content='이그하람은 카제로스와 그가 만들어낸 악마들을 다시 혼돈으로 되돌리기 위해 ‘태초의 어둠’을 사용했다. 그러나 태초부터 존재한 자들은 이그하람을 배신했고, 카제로스 편에 서서 이그하람에 맞서기 시작했다. 심연의 세계에 익숙했던 그들은 마침내 혼돈의 진정한 주인이었 던 이그하람을 소멸시키는데 성공한다. 그렇게 심연의 불꽃을 다루는 카제로스는 어둠의 주인이', metadata={'source': './files/chapter_one.txt'}),\n",
       " Document(page_content='이그하람을 소멸시키는데 성공한다. 그렇게 심연의 불꽃을 다루는 카제로스는 어둠의 주인이 되었다. 혼돈의 세계에 질서를 만든 그는, 페트라니아에 문명을 만들어가기 시작했다.', metadata={'source': './files/chapter_one.txt'}),\n",
       " Document(page_content='로스트아크 이그하람의죽음\\n\\n이그하람의 죽음과 함께 흩어진 두 개의 혼돈', metadata={'source': './files/chapter_one.txt'}),\n",
       " Document(page_content='죽음의 순간, 이그하람에게서 빠져 나온 두 개의 혼돈이 페트라니아 어딘가로 날아갔다. 혼돈의 세계를 지배하게 된 것에 만족한 카제로스 는 이그하람의 조각이 남아있다는 사실을 눈치채지 못했다. 이그하람의 조각은 두 개로 나뉘어져 하나는 검은 산 바위자락으로 떨어지고 또 하나는 태초의 혼돈 깊숙한 곳으로 떨어졌다.\\n\\n3.2. 붉은 달[편집]', metadata={'source': './files/chapter_one.txt'}),\n",
       " Document(page_content='3.2. 붉은 달[편집]\\n\\n이그하람의 소멸 이후, 카제로스는 태초부터 존재한 자들과 함께 혼돈의 세계를 지배했다.', metadata={'source': './files/chapter_one.txt'}),\n",
       " Document(page_content='또한, 어둠의 생명체들을 페트라니아에서 쫓아버리고 자신이 창조한 악마들이 그곳을 지배하도록 만들었다. 이그하람의 지배 시기부터 존 재했던 어둠의 생명체들은 하나 둘씩 사라졌고, 그렇게 혼돈의 세계 페트라니아에는 질서가 생겨나기 시작했다. 카제로스는 태초부터 존 재한 자들을 어둠의 신으로 임명하고 페트라니아에 문명을 만들도록 명령했다. 태초부터 존재한', metadata={'source': './files/chapter_one.txt'}),\n",
       " Document(page_content=\"자들을 어둠의 신으로 임명하고 페트라니아에 문명을 만들도록 명령했다. 태초부터 존재한 자들은 혼돈의 힘을 바탕으로 암흑의 별, 심연의 바다, 검은 불꽃, 그리고 붉은 달을 만들어 내었다. 붉은 달은 태초부터 존재한 자들이 태양을 모방해 만들다가 실패한 힘의 결정체 였다. 하지만 태초부터 존재한 자들은 물론, 카제로스 조차도 무한한 에너지원인 '태양'을\", metadata={'source': './files/chapter_one.txt'}),\n",
       " Document(page_content=\"였다. 하지만 태초부터 존재한 자들은 물론, 카제로스 조차도 무한한 에너지원인 '태양'을 만들어낼 수는 없었다. 붉은 달은 카제로스가 다 루는 심연의 불꽃을 더욱 강하게 만들어 주었지만, 그 힘은 영원하지 못했다. 아크의 힘으로 만들어진 태양과 달리 붉은 달은 조금씩 그 빛 을 잃어가고 있었다.\", metadata={'source': './files/chapter_one.txt'}),\n",
       " Document(page_content='로스트아크 붉은달 페트라니아를 비추는 붉은 달', metadata={'source': './files/chapter_one.txt'}),\n",
       " Document(page_content='본디 카제로스는 심연에서 태어난 존재였다. 그는 어둠에 침식된 심연을 증오하여 대우주 오르페우스와 페트라니아, 두 차원을 하나로 통 합하기를 원했지만 오르페우스로 넘어가는 차원의 균열을 만들어낼 방법을 알지 못했다. 혼돈의 생명체가 모두 페트라니아에서 소멸되어 가던 어느 날, 그곳에 남아있던 마지막 생존자가 카제로스를 찾아왔다. 그는 카제로스에게 “붉은', metadata={'source': './files/chapter_one.txt'}),\n",
       " Document(page_content='어느 날, 그곳에 남아있던 마지막 생존자가 카제로스를 찾아왔다. 그는 카제로스에게 “붉은 달이 꺼질 때, 차원이 뒤틀릴 것이다.”라는 예언을 남기고 사라졌다. 이후, 페트라니아를 완전히 지배하는데 성공한 카제로스는 그가 들려주었던 예언대로 붉은 달이 검게 물들기를 기다렸다. 시간이 지날수록 결코 가질 수 없는 태양에 대한 갈망, 아크에 대한 카제로스의', metadata={'source': './files/chapter_one.txt'}),\n",
       " Document(page_content='기다렸다. 시간이 지날수록 결코 가질 수 없는 태양에 대한 갈망, 아크에 대한 카제로스의 탐욕은 점차 커지고 있었다.', metadata={'source': './files/chapter_one.txt'}),\n",
       " Document(page_content='그리고 카제로스의 악마군단이 지배하게 된 페트라니아에서 혼돈의 생명체는 모두 소멸했다.\\n\\n3.3. 군단의 탄생[편집]\\n\\n카제로스는 혼돈에서 태어난 새로운 종족들을 오랜 시간 동안 관찰해 두각을 나타내는 악마들을 군단장으로 임명했다. 로스트아크 6인의악마군단장\\n\\n카제로스를 섬기는 6인의 악마군단장', metadata={'source': './files/chapter_one.txt'}),\n",
       " Document(page_content='카제로스를 섬기는 6인의 악마군단장\\n\\n카제로스가 가장 먼저 만들어낸 것은 몽환군단이었다. 그는 가장 냉정하고 잔인한 페트라니아 제일의 지략가이자 강대한 마법의 힘을 지 닌 ‘아브렐슈드’를 몽환군단장으로 임명했다. 아브렐슈드는 카제로스의 명령에 따라 악마들을 움직여 전 페트라니아를 뒤흔들었던 인물이 었다.\\n\\n로스트아크 아브렐슈드\\n\\n몽환군단장 아브렐슈드', metadata={'source': './files/chapter_one.txt'}),\n",
       " Document(page_content='질병의 힘을 가진 악마들을 통치하는 질병군단장의 자리는 ‘일리아칸’에게로 돌아갔다. 일리아칸은 불완전한 몸을 가지고 태어나 다른 악 마들이 가진 살덩이와 피를 흡수해 계속해서 생명을 유지하고 힘을 강화해가는 악마였다. 죽음과 생명의 경계에 있었던 그는 모든 것을 부 패시킬 수 있는 권능을 얻었고, 스스로 질병의 생명체들을 만들어내는 창조주이자 부패의', metadata={'source': './files/chapter_one.txt'}),\n",
       " Document(page_content='부 패시킬 수 있는 권능을 얻었고, 스스로 질병의 생명체들을 만들어내는 창조주이자 부패의 군주가 되었다.', metadata={'source': './files/chapter_one.txt'}),\n",
       " Document(page_content='로스트아크 일리아칸\\n\\n질병군단장 일리아칸\\n\\n한편, 페트라니아의 중심부에서는 오랫동안 마수들간의 치열한 전쟁이 벌어지고 있었다. 그 모든 마수들을 물리치고 지배한 것은 바로 ‘발 탄’이라는 이름의 악마였다. 검은 산을 일격에 무너뜨릴 수 있는 막강한 힘을 가진 발탄의 능력을 높이 산 카제로스는 그를 마수들을 이끄 는 군단장으로 임명했다.\\n\\n로스트아크 발탄', metadata={'source': './files/chapter_one.txt'}),\n",
       " Document(page_content='로스트아크 발탄\\n\\n마수군단장 발탄', metadata={'source': './files/chapter_one.txt'}),\n",
       " Document(page_content='욕망군단장으로는 몽마들의 여왕으로 군림했던 에키드나가 임명되었다. 그녀는 악마들의 마음을 빼앗아 원하는 것을 얻어내는 욕망의 군 주였다. 그러나 군단장의 일원이 된 에키드나는 자신의 자리에 만족하지 않았고, 카제로스가 가장 아끼는 악마 아브렐슈드의 위치를 탐내 기에 이른다. 그녀는 자신의 수하 비아키스를 이용해 아브렐슈드와 카제로스 사이를 이간질하려', metadata={'source': './files/chapter_one.txt'}),\n",
       " Document(page_content='이른다. 그녀는 자신의 수하 비아키스를 이용해 아브렐슈드와 카제로스 사이를 이간질하려 했다. 그러나 비아키스는 오히려 이 계획 을 아브렐슈드에게 밀고한 뒤 에키드나를 암살한다. 이후 아브렐슈드는 공석이 된 욕망군단장 자리에 비아키스를 추천했고, 비아키스는 새로운 욕망군단장으로 임명된다. 하지만 비아키스 역시 자신의 욕망과 질투로 인해 아브렐슈드와 대립하게', metadata={'source': './files/chapter_one.txt'}),\n",
       " Document(page_content='임명된다. 하지만 비아키스 역시 자신의 욕망과 질투로 인해 아브렐슈드와 대립하게 된다.', metadata={'source': './files/chapter_one.txt'}),\n",
       " Document(page_content='로스트아크 비아키스 욕망군단장 비아키스', metadata={'source': './files/chapter_one.txt'}),\n",
       " Document(page_content='쿠크세이튼은 페트라니아에서 아무런 두각을 나타내지 못했던 악마였다. 하지만 어느 날, 쿠크세이튼은 카제로스를 찾아가 다섯 번째 군 단장의 자리를 요구했다. 페트라니아의 지배자 앞에서도 쉴 새 없이 떠들어 대는 쿠크세이튼을 본 카제로스는 그를 다섯 번째 군단장으로 임명했다. 광기군단을 이끌게 된 쿠크세이튼은 다른 군단장들과는 달리 대량의 하급 악마들을', metadata={'source': './files/chapter_one.txt'}),\n",
       " Document(page_content='임명했다. 광기군단을 이끌게 된 쿠크세이튼은 다른 군단장들과는 달리 대량의 하급 악마들을 자신의 수하로 두었다. 그의 군단에 들어간 하급 악마들은 군단장에 대한 맹목적인 믿음을 바탕으로 광기의 힘을 얻게 되었고, 이후 광기군단은 그 어떤 악마도 무시할 수 없는 강력한 군단으로 성장해 나갔다. [7]', metadata={'source': './files/chapter_one.txt'}),\n",
       " Document(page_content='로스트아크 쿠크세이튼 광기군단장 쿠크세이튼', metadata={'source': './files/chapter_one.txt'}),\n",
       " Document(page_content='한편, 페트라니아 깊숙한 곳에서 나타나 홀로 대륙의 절반을 평정했던 어둠의 검사가 있었다. 태초부터 존재한 자들은 그에게서 수상한 기 운이 느껴진다며 카제로스에게 보고 했으나, 카제로스는 검사 ‘카멘’의 힘에 매료되어 그를 어둠군단장으로 임명하기에 이른다. 카멘은 다 른 군단장들과는 다르게 소수 정예로 군단을 구성했다. 하지만 그렇게 만들어진 악마의', metadata={'source': './files/chapter_one.txt'}),\n",
       " Document(page_content='다 른 군단장들과는 다르게 소수 정예로 군단을 구성했다. 하지만 그렇게 만들어진 악마의 기사들은 카멘의 통솔력을 바탕으로 카제로스의 군단 중에서도 가장 강력한 군단이 되었다.', metadata={'source': './files/chapter_one.txt'}),\n",
       " Document(page_content=\"로스트아크 카멘 어둠군단장 카멘\\n\\n카멘을 마지막으로 마침내 여섯 개의 군단이 모두 완성되었다. 카제로스는 예언자가 이야기했던 차원의 균열이 열릴 때가 다가오고 있음 을 직감했다. 검게 물들기 시작한 붉은 달이 그 빛을 거의 잃어가고 있었기 때문이다.\\n\\n4. 깨어난 가디언[편집]\\n\\n4.1. 대주교의 국가 '세이크리아'의 타락[편집]\", metadata={'source': './files/chapter_one.txt'}),\n",
       " Document(page_content=\"4. 깨어난 가디언[편집]\\n\\n4.1. 대주교의 국가 '세이크리아'의 타락[편집]\\n\\n세이크리아에는 성기사단과 비밀조직 새벽의 사제들이 존재했다.\\n\\n대외적으로는 성기사단의 활약을 내세웠지만, 사실 세이크리아의 가장 강력한 힘은 소수로 구성된 비밀 조직 '새벽의 사제'들이었다. 로스트아크 세이크리아\\n\\n신성제국 <세이크리아>\", metadata={'source': './files/chapter_one.txt'}),\n",
       " Document(page_content='아크라시아 대륙에서 가장 번영한 종족 인간은 빛의 신 루페온을 섬겼다. 그들은 성지 세이크리아를 만들고 ‘신의 대리인’이라는 위명 아래 다른 대륙들의 인간들을 통치해 왔다. 종교를 강요해 타 종족과 분쟁을 일으키던 세이크리아의 사제들은 신을 증명하고 자신들의 정의를 실현시키기 위해 아크라시아에서 사라져버린 태초의 힘 ‘아크’에 관심을 갖게 된다.', metadata={'source': './files/chapter_one.txt'}),\n",
       " Document(page_content='세이크리아의 대주교 테르메르 2세는 오랫동안 성지 라사모아에 있는 신전에 아크로 추정되는 고대의 결정체를 보관하고 있었다. 그 신비 한 힘을 탐닉하던 테르메르 2세는 더 큰 힘을 갈망하게 되었고, 마침내 세이크리아의 성기사단을 파견해 아크의 행적을 조사하기에 이른 다.\\n\\n로스트아크 중간계\\n\\n일곱 아크가 뿔뿔이 흩어진 중간계 대륙들', metadata={'source': './files/chapter_one.txt'}),\n",
       " Document(page_content='테르메르 2세는 죽을 때까지 그의 오랜 숙원이었던 나머지 아크의 단서를 찾아내지 못했다. 하지만 그의 후계자 테르메르 3세는 그의 아 버지보다 훨씬 교활하고 탐욕스러운 인물이었다. 아크를 위해서라면 기사단의 희생도, 다른 대륙의 파괴도 거리낄 것이 없었다. 테르메르 3세는 수많은 성기사들을 희생시켰고 마침내 여섯 대륙에 아크가 숨겨져 있다는 것을', metadata={'source': './files/chapter_one.txt'}),\n",
       " Document(page_content='3세는 수많은 성기사들을 희생시켰고 마침내 여섯 대륙에 아크가 숨겨져 있다는 것을 알아냈고, 신의 뜻이라는 미명아래, 아르테미스 연방 의 왕과 슈샤이어 대륙의 지도자로부터 평화적으로 아크를 인도 받았다. 또한 루페온을 섬기던 해저 종족 포시타의 도시 ‘포르파지’에서 바 다 깊숙이 잠겨 있던 아크를 찾아 내었다.', metadata={'source': './files/chapter_one.txt'}),\n",
       " Document(page_content='나머지 세 개의 아크는 로헨델에 자리한 여왕의 정원, 쿠르잔의 안타레스 산꼭대기, 그리고 거인 도메메크의 몸 속에 보관되어 있었다. 아 크의 힘에 눈이 먼 테르메르 3세는 거인 도메메크를 파괴하여 그의 몸 속에 있는 아크를 입수했고, 안타레스 산꼭대기의 아크를 얻기 위해 수많은 성기사단을 희생시켰다. 아크가 사라지자 용암을 분출시키기 시작한 안타레스 산은', metadata={'source': './files/chapter_one.txt'}),\n",
       " Document(page_content='수많은 성기사단을 희생시켰다. 아크가 사라지자 용암을 분출시키기 시작한 안타레스 산은 쿠르잔의 모든 생명을 녹여버렸다. 이후 쿠르 잔은 그 어떤 생명도 살 수 없는 저주의 땅이 되어 버렸다.', metadata={'source': './files/chapter_one.txt'}),\n",
       " Document(page_content='로스트아크 아제나\\n\\n로헨델의 여왕 아제나와 그녀의 몸에 공존하는 이난나[8]', metadata={'source': './files/chapter_one.txt'}),\n",
       " Document(page_content='테르메르 3세의 야욕은 곧 실현될 것 같았지만 로헨델에서 아크를 얻는 일은 그의 생각만큼 쉽지 않았다. 신이 만든 가장 강한 세 종족 중 하나로, 지혜의 신 크라테르로부터 막강한 마법의 힘을 부여 받은 실린들은 이난나, 아제나 두 여왕의 통치아래 폐쇄적이나 강대한 국가를 형성하고 있었기 때문이다.', metadata={'source': './files/chapter_one.txt'}),\n",
       " Document(page_content='실린 역사상 가장 두각을 나타내었던 쌍둥이 자매 이난나, 아제나는 로헨델의 마력핵이 붕괴되는 순간 자신들을 희생해 위기를 막아냈다. 이 사건으로 동생 이난나의 육체가 소멸되자 신목 엘조윈은 이난나의 영혼을 아제나의 육체에 전승시켜 하나의 몸에 두 명의 인격이 공존 할 수 있게 했다. 엘조윈으로부터 불멸의 힘을 얻게 된 실린여왕은 다른 종족들과의 교류를', metadata={'source': './files/chapter_one.txt'}),\n",
       " Document(page_content='할 수 있게 했다. 엘조윈으로부터 불멸의 힘을 얻게 된 실린여왕은 다른 종족들과의 교류를 차단한 뒤 실린과 정령들을 위한 나라를 만들어 다스렸다.', metadata={'source': './files/chapter_one.txt'}),\n",
       " Document(page_content='로스트아크 로헨델\\n\\n실린 종족의 마법 강국 <로헨델>에 뿌려진 불화의 씨앗', metadata={'source': './files/chapter_one.txt'}),\n",
       " Document(page_content='테르메르 3세는 로헨델과 전쟁을 일으키면 세이크리아도 온전치 못할 것이라는 사실을 알고 있었다. 이때, 세이크리아의 사제들이 한가지 묘책을 떠올렸다. 실린여왕 아제나와 거인 도메메크의 친분을 이용하기로 한 것이다. 테르메르 3세는 생명을 다한 도메메크가 세이크리아 근방에서 죽음을 맞이했으며 그 심장을 오랜 친구였던 실린여왕에게 인도한다는 명목으로 로헨델에', metadata={'source': './files/chapter_one.txt'}),\n",
       " Document(page_content='죽음을 맞이했으며 그 심장을 오랜 친구였던 실린여왕에게 인도한다는 명목으로 로헨델에 칙사를 파견했다. 그리고 거인 도메메 크를 파괴하고 입수했던 심장을 아제나에게 전달한다. 아제나는 친구의 심장을 가져와 준 세이크리아의 칙사들에게 호의를 베풀며 도메메 크의 영혼을 기리는 의식을 치르기까지 며칠간 여왕의 정원에서 머무는 것을 허락했다. 영혼 의식이 있던', metadata={'source': './files/chapter_one.txt'}),\n",
       " Document(page_content='기리는 의식을 치르기까지 며칠간 여왕의 정원에서 머무는 것을 허락했다. 영혼 의식이 있던 날, 세이크리아의 비밀조직 ‘새벽 의 사제’들은 여왕의 정원에 잠입해 아크를 훔치는 데 성공한다. 하지만 예기치 못한 문제가 발생했다. 아크를 훔치던 중 발각된 새벽의 사 제들이 일곱 명의 실린들을 살해하고 만 것이다. 그 누구도 이것이 거대한 전쟁의 방아쇠가', metadata={'source': './files/chapter_one.txt'}),\n",
       " Document(page_content='제들이 일곱 명의 실린들을 살해하고 만 것이다. 그 누구도 이것이 거대한 전쟁의 방아쇠가 되리라고는 생각하지 못했다.', metadata={'source': './files/chapter_one.txt'}),\n",
       " Document(page_content='4.2. 전쟁의 시작[편집]\\n\\n아크를 지키고 있던 실린들이 살해당하고 거인 도메메크의 죽음마저 세이크리아의 소행이었다는 사실을 알게 된 아제나는 분노했다.', metadata={'source': './files/chapter_one.txt'}),\n",
       " Document(page_content='육체에 함께 공존하고 있던 이난나의 만류조차 통하지 않았던 아제나는 세이크리아에 전쟁을 선포하기에 이른다. 거인족, 우마르족과 정 령들이 로헨델의 편에 섰고, 세이크리아 역시 대주교를 따르는 전 대륙의 왕에게 로헨델과의 전쟁에 참여할 것을 요구했다. 대주교의 세력 권에 있었던 아르테미스, 기옌, 포르파지는 세이크리아를 지원했고, 중립을 유지하던 슈샤이어는', metadata={'source': './files/chapter_one.txt'}),\n",
       " Document(page_content='있었던 아르테미스, 기옌, 포르파지는 세이크리아를 지원했고, 중립을 유지하던 슈샤이어는 ‘꺼지지 않는 불꽃’을 주겠다는 제안에 설 득 당해 뒤늦게 합류하게 된다.', metadata={'source': './files/chapter_one.txt'}),\n",
       " Document(page_content='로스트아크 슈샤이어1\\n\\n로스트아크 슈샤이어2\\n\\n혹한의 땅에 위치한 워리어의 본산 <슈샤이어>', metadata={'source': './files/chapter_one.txt'}),\n",
       " Document(page_content='슈샤이어 대륙은 이그하람과의 전쟁이 시작된 때 불의 악마들을 처치하기 위해 빙결의 신 시리우스가 악마들과 함께 대지를 얼려버리면서 영원히 얼어붙은 땅이 되어버렸다. 그런 이유로 혹독한 환경에서 살아가야 하는 그들에게 있어 ‘꺼지지 않는 불꽃’은 거부할 수 없는 제안 이었다. 슈샤이어의 참전 결정으로 세이크리아는 로헨델에 충분히 맞설 연합군을 구축,', metadata={'source': './files/chapter_one.txt'}),\n",
       " Document(page_content='제안 이었다. 슈샤이어의 참전 결정으로 세이크리아는 로헨델에 충분히 맞설 연합군을 구축, 지체하지 않고 로헨델로 출격했다. 그리하여 오랜 시간 평화를 유지해온 아크라시아의 대륙에서 유래 없는 대 전쟁이 발발했다. 이것은 포튼쿨[9] 전쟁이라고 명명된, 아무것도 얻은 것이 없 는 공허하고 비극적인 전쟁의 시작이었다.', metadata={'source': './files/chapter_one.txt'}),\n",
       " Document(page_content='세이크리아는 막강하고 거대한 병력을 움직였으나 실린이 지닌 마법의 힘은 그들의 예상을 훨씬 뛰어넘는 것이었다. 최전방에 선 실린여 왕 아제나의 지휘 아래, 세이크리아의 연합군은 하나, 둘 괴멸되어 갔다. 아크라시아 대륙에 불의 비가 쏟아지더니 거대한 해일과 함께 회 색 폭풍이 불어 닥쳤다. 실린들의 마법은 세이크리아 연합을 산산조각 내버렸다.', metadata={'source': './files/chapter_one.txt'}),\n",
       " Document(page_content='소수 정예로 구성된 실린의 군사들도 거대한 세력들에 밀리지 않았다. 로헨델을 돕던 거인, 우마르, 정령들의 힘도 엄청나게 강력하여 세이 크리아를 압박했다. 로헨델과 그 연합의 예상을 훨씬 뛰어넘는 힘에 테르메르 3세는 당황할 수밖에 없었고, 아크의 힘을 개방하는 것만이 이 전쟁에서 연합군이 승리하는 유일한 길이라 믿었다.\\n\\n4.3. 깨어난 가디언[편집]', metadata={'source': './files/chapter_one.txt'}),\n",
       " Document(page_content='4.3. 깨어난 가디언[편집]\\n\\n아크라시아에서 벌어진 전쟁은 시간이 지나갈수록 더 많은 종족과 세력을 끌어들였다.', metadata={'source': './files/chapter_one.txt'}),\n",
       " Document(page_content='대륙이 파괴되고 분노한 바다가 거인들의 섬을 집어 삼켰다. 수많은 종족들이 희생되었으며, 흘러간 피로 인해 세계수가 시들어 갔다. 하지 만 아크에 눈이 멀어버린 세이크리아는 전쟁을 멈추지 않았다. 대지의 울부짖음 끝에 쿠르잔에서 용암이 분출되었고, 흘러나온 용암과 재 로 뒤덮인 아크라시아는 마치 혼돈의 땅 페트라니아를 보는 것 같았다. 루페온이 창조한', metadata={'source': './files/chapter_one.txt'}),\n",
       " Document(page_content='재 로 뒤덮인 아크라시아는 마치 혼돈의 땅 페트라니아를 보는 것 같았다. 루페온이 창조한 생명의 별 아크라시아는 다시 한 번 전쟁으로 인해 파멸의 위기에 몰리고 있었다.', metadata={'source': './files/chapter_one.txt'}),\n",
       " Document(page_content='로스트아크 깨어난가디언 다시 깨어난 가디언들', metadata={'source': './files/chapter_one.txt'}),\n",
       " Document(page_content='길어진 포튼쿨 전쟁으로 아크라시아의 생명이 위태로워지자 최초의 균열을 막기 위해 만들어졌던 혼돈과 빛의 생명체 가디언들이 깨어났 다. 가장 먼저 눈을 뜬 것은 가디언들의 수장 에버그레이스였다. 그를 필두로 가디언들이 하나, 둘 잠에서 깨어나기 시작했다. 가디언들의 목표는 명확했다. 생명의 별 아크라시아를 파괴하는 자를 벌하는 것이었다. 비록 그 대상이', metadata={'source': './files/chapter_one.txt'}),\n",
       " Document(page_content='목표는 명확했다. 생명의 별 아크라시아를 파괴하는 자를 벌하는 것이었다. 비록 그 대상이 신과 악마라고 할지라도 가디언들의 사명은 별 을 지켜내는 것이었다. 가디언들은 그들이 가진 사명을 다하기 위해 별을 파괴하는 모든 이들을 공격했다. 이로 인해 포튼쿨 전쟁은 새로 운 국면을 맞이하게 된다. 세이크리아를 침공한 에버그레이스는 수도 라사모아를 파괴하고', metadata={'source': './files/chapter_one.txt'}),\n",
       " Document(page_content='운 국면을 맞이하게 된다. 세이크리아를 침공한 에버그레이스는 수도 라사모아를 파괴하고 테르메르 3세를 죽인 뒤 루페온 신전에 있던 아크를 가져갔다. 이후 에버그레이스는 아르테미스 대륙 동쪽 바다 어딘가에 더 이상 인간들이 아크에 접근하지 못하도록 자신의 둥지를 만들어 아크를 보관했다. 수도는 물론 대주교 테르메르 3세를 잃은 세이크리아, 그리고', metadata={'source': './files/chapter_one.txt'}),\n",
       " Document(page_content='만들어 아크를 보관했다. 수도는 물론 대주교 테르메르 3세를 잃은 세이크리아, 그리고 가디언으로부터 신목 엘조윈을 공격받은 로헨델은 결국 종전을 선택할 수밖에 없었다. 모든 것이 이대로 끝난 것처럼 보였지만 이는 가장 치열한 전쟁의 서막에 불과했다. 포튼쿨 전쟁과 잠 에서 깨어난 가디언들의 움직임으로 인해 아크라시아에 차원의 균열이 생겨나기 시작했던', metadata={'source': './files/chapter_one.txt'}),\n",
       " Document(page_content='잠 에서 깨어난 가디언들의 움직임으로 인해 아크라시아에 차원의 균열이 생겨나기 시작했던 것이다.', metadata={'source': './files/chapter_one.txt'}),\n",
       " Document(page_content='4.4. 가디언 슬레이어의 등장[편집]\\n\\n세이크리아와 로헨델은 종전을 선택했지만 가디언은 침공을 멈추지 않았다. 로스트아크 베히모스\\n\\n카단에게 죽임을 당한 베히모스', metadata={'source': './files/chapter_one.txt'}),\n",
       " Document(page_content='종전 이후, 에버그레이스는 아크라시아 종족들의 심판을 두고 고민에 빠졌다. 수 많은 가디언들은 별을 수호하겠다는 본능에 의해서 움직 였지만 가디언 바르칸과 가디언 루는 달랐다. 이들은 에버그레이스가 창조한 가디언 중 유일하게 스스로의 의지를 가지고 행동할 수 있는 가디언이었으며, 언어를 구사할 수 있는 지혜를 가진 가디언이었다. 의지를 가진 세 가디언은', metadata={'source': './files/chapter_one.txt'}),\n",
       " Document(page_content='언어를 구사할 수 있는 지혜를 가진 가디언이었다. 의지를 가진 세 가디언은 약간의 의견차이를 보였다. 가디언 루는 종족 들을 믿고 가디언들이 다시 잠들어야 한다고 주장했지만 가디언 바르칸은 이미 탐욕스러워진 종족들을 소멸시켜 아크라시아를 정화시켜 야 한다고 주장한다. 바르칸과 루의 주장 사이에서 고심하던 에버그레이스는 한 번 더 종족들에게 기회를 주기로', metadata={'source': './files/chapter_one.txt'}),\n",
       " Document(page_content='바르칸과 루의 주장 사이에서 고심하던 에버그레이스는 한 번 더 종족들에게 기회를 주기로 결심한다. 바르칸도 가디 언의 신인 에버그레이스의 의견을 존중했으며 종족들을 벌하고 있는 모든 가디언들을 불러들여 다시 한 번 잠들 준비를 시작한다. 하지만 이 과정에서 문제가 발생했다.', metadata={'source': './files/chapter_one.txt'}),\n",
       " Document(page_content='로스트아크 카단\\n\\n최초의 가디언 슬레이어 카단', metadata={'source': './files/chapter_one.txt'}),\n",
       " Document(page_content='바르칸 휘하의 가디언 베히모스가 고작 한 명의 인간에게 죽임을 당한 것이다. 이것은 가디언이 아크라시아의 종족에게 살해당한 첫 번째 사건이었다. 분노한 바르칸에게 에버그레이스는 평정을 요구했으나 바르칸은 처음으로 그의 명령에 불응한다. 바르칸은 복수를 위해 ‘가 디언 슬레이어’라 불리게 된 남자를 찾아갔다. 바르칸은 화염을 내뿜으며 그를 소멸시키려 했지만', metadata={'source': './files/chapter_one.txt'}),\n",
       " Document(page_content='슬레이어’라 불리게 된 남자를 찾아갔다. 바르칸은 화염을 내뿜으며 그를 소멸시키려 했지만 예상 외의 일이 벌어지고 말았다. 남자는 바르칸과 호각으로 전투를 벌였고, 열흘이 지나도록 싸움은 끝날 기미가 보이지 않았다. 그때였다. 지각 변동이 일어나고 하늘에 검은 구름 이 드리워지더니 차원에 균열이 생겨나기 시작했다. 균열로부터 페트라니아의 악마들이 쏟아져', metadata={'source': './files/chapter_one.txt'}),\n",
       " Document(page_content='이 드리워지더니 차원에 균열이 생겨나기 시작했다. 균열로부터 페트라니아의 악마들이 쏟아져 나오기 시작한 것을 본 바르칸과 가디언 슬레이어는 전투를 중단했다. 아크라시아에 위기가 찾아온 것을 느낀 바르칸은 에버그레이스에게로 향하기 전, 자신과 싸웠던 남자에게', metadata={'source': './files/chapter_one.txt'}),\n",
       " Document(page_content='이름을 물었다. “카단.” 남자는 혼잣말을 하듯 자신의 이름을 읊조리고는 대륙을 떠났다.\\n\\n5. 사슬 전쟁[편집]\\n\\n5.1. 사슬 전쟁의 발발[편집]\\n\\n사슬 전쟁. 긴 사슬처럼... 오랜 기간, 꼬리에 꼬리를 물고 발생한 이 참혹한 전쟁을 사람들은 그렇게 불렀다.', metadata={'source': './files/chapter_one.txt'}),\n",
       " Document(page_content='차원의 균열이 열리자 어둠군단의 악마들이 가장 먼저 쏟아져 나왔다. 어둠군단장 카멘은 엄청난 속도로 어둠군단을 지휘하며 순식간에 아크라시아를 파괴해 나가기 시작했다. 아크라시아로 건너온 카제로스는 한참 동안 대우주 오르페우스에 떠 있는 태양을 바라보았다. 그 가 갈망했던 거대한 태초의 힘이 그곳에 있었다. 아르테미스 대륙 동부에 도착한 카제로스는 악마', metadata={'source': './files/chapter_one.txt'}),\n",
       " Document(page_content='거대한 태초의 힘이 그곳에 있었다. 아르테미스 대륙 동부에 도착한 카제로스는 악마 군단을 결집시키고 전 세계로 군단을 내 보내기 시작했다. 각 대륙의 종족들은 악마들의 힘에 속수무책으로 당할 수 밖에 없었다.', metadata={'source': './files/chapter_one.txt'}),\n",
       " Document(page_content='로스트아크 사슬전쟁\\n\\n악마와 중간계 종족 사이에 벌어진 <사슬 전쟁>', metadata={'source': './files/chapter_one.txt'}),\n",
       " Document(page_content='인간들은 신에게 기도했다. 종족들 모두가 신을 찾으며 울부짖었다. 하지만 하늘을 두드리는 비명소리를 신은 외면했다. 그 어느 곳에서도 신들은 나타나지 않았다. 모든 희망이 잿빛으로 변하고 아르테미스의 대륙에 멸망의 그림자가 드리워질 때쯤 뜻밖에도 재앙이라 불리던 가디언이 나타나 악마군단과 격돌했다. 에버그레이스가 카제로스의 진격을 저지했고 바르칸이', metadata={'source': './files/chapter_one.txt'}),\n",
       " Document(page_content=\"가디언이 나타나 악마군단과 격돌했다. 에버그레이스가 카제로스의 진격을 저지했고 바르칸이 어둠군단장 카멘을 막아 섰다. 다른 악마군 단들도 별의 수호자인 가디언의 습격에 기세가 꺾이고 말았다. 그야말로 팽팽한 대결이 오랜 시간 동안 지속되었다. 하지만 악마들을 막는 것에만 열중했던 가디언들과는 달리 카제로스는 페트라니아에서 넘어온 '태초부터 존재한 자'들의\", metadata={'source': './files/chapter_one.txt'}),\n",
       " Document(page_content=\"열중했던 가디언들과는 달리 카제로스는 페트라니아에서 넘어온 '태초부터 존재한 자'들의 존재를 숨기고 있었다. 그리고 악마군단 이 가디언과 전투를 지속하는 동안 카제로스는 태초부터 존재했던 자들과 함께 아크라시아 대륙에 '붉은 달'을 만들어냈다. 아크라시아의 하늘에 두 개의 달이 떠올랐다. 자고라스 산 밑 평야에 결집한 악마들은 붉은 달이 뜨자 더욱\", metadata={'source': './files/chapter_one.txt'}),\n",
       " Document(page_content='두 개의 달이 떠올랐다. 자고라스 산 밑 평야에 결집한 악마들은 붉은 달이 뜨자 더욱 난폭해졌다.', metadata={'source': './files/chapter_one.txt'}),\n",
       " Document(page_content='붉은 달은 카제로스가 가진 심연의 불꽃을 더욱 강하게 만들었고, 가디언들은 수세에 몰렸다. 본디 혼돈의 힘에 더 가까웠던 바르칸은 심연 의 불꽃을 사용하는 카제로스의 힘에 매료되어 악마군단의 편에 서기로 결심한다. 바르칸과 그를 따르던 일부 가디언들이 에버그레이스를 배신하자 상황은 급격히 악화된다. 바르칸이 막아 섰던 어둠 군단장 카멘이 카제로스를 도와', metadata={'source': './files/chapter_one.txt'}),\n",
       " Document(page_content='배신하자 상황은 급격히 악화된다. 바르칸이 막아 섰던 어둠 군단장 카멘이 카제로스를 도와 에버그레이스를 공격하기 시작했던 것이다. 거대한 힘을 가지고 있던 에버그레이스였으나 카제로스와 카멘의 협공을 이겨내지 못했고, 결국 큰 부상을 입게 되었다. 기세를 몰아 악마 군단은 아크라시아 정복을 눈앞에 두고 있었다. 하지만 절체절명의 순간, 아크라시아 대륙의', metadata={'source': './files/chapter_one.txt'}),\n",
       " Document(page_content='군단은 아크라시아 정복을 눈앞에 두고 있었다. 하지만 절체절명의 순간, 아크라시아 대륙의 마지막 희망이 빛나기 시작했다. 루테란이라 는 인간 기사가 전장에 나타난 것이다.', metadata={'source': './files/chapter_one.txt'}),\n",
       " Document(page_content=\"5.2. 에스더와 악마군단장의 격돌[편집]\\n\\n루테란이 등장했을 때는 가디언 바르칸의 배신으로 인해 전세가 역전된 상황이었다. 로스트아크 루테란(도시)\\n\\n훗날 루테란이 세운 기사의 도시 '루테란'\", metadata={'source': './files/chapter_one.txt'}),\n",
       " Document(page_content='아크라시아가 절망적인 상황에 놓일 무렵 루테란과 에스더들이 등장했다. 루테란을 필두로 카단, 아제나, 시엔, 갈라투르, 샨디, 니나브가 전장에 도착했다. 훗날 찬란한 별이라는 뜻의 영웅, ‘에스더’라 불리게 된 이들은 갈라투르가 만든 무기와 방어구를 차고 전쟁에 뛰어 들었 다. 에버그레이스의 가디언들과 대륙의 종족들도 이들을 도와 총력전을 준비했다. 더는', metadata={'source': './files/chapter_one.txt'}),\n",
       " Document(page_content='들었 다. 에버그레이스의 가디언들과 대륙의 종족들도 이들을 도와 총력전을 준비했다. 더는 물러설 수 없는 최후의 격전이 이제 막 시작되려 하고 있었다.', metadata={'source': './files/chapter_one.txt'}),\n",
       " Document(page_content='아크라시아의 종족들은 악마들을 상대로 물러서지 않았다. 루테란과 에스더는 이 치열한 전장을 지휘했다. 가디언들이 태초부터 존재한 자들을 막아내는 동안, 에스더들은 군단장을 상대로 호각의 전투를 벌였다. 사슬전쟁에서 가장 치열한 전투를 벌인 것은 카단과 카멘이었 다. 격돌한 두 힘은 지각변동을 일으킬 정도로 거대해 아크라시아의 종족들도, 페트라니아의', metadata={'source': './files/chapter_one.txt'}),\n",
       " Document(page_content='다. 격돌한 두 힘은 지각변동을 일으킬 정도로 거대해 아크라시아의 종족들도, 페트라니아의 악마들도 둘의 대결에 끼어들 수 없었다.', metadata={'source': './files/chapter_one.txt'}),\n",
       " Document(page_content='수많은 악마들을 소멸시키던 아제나의 앞에 몽환군단장 아브렐슈드가 등장했다. 두 명의 강력한 마법이 서로 부딪히자 아크라시아 대륙 곳곳에 거대한 폭발이 일어났다. 그 폭발로 인해 주변은 잿더미가 되어 버렸다. 차분하게 대응하는 아브렐슈드와, 반대로 강한 분노를 표출 하며 악마들을 가루로 만들어버린 아제나의 모습은 누가 악마인지 잊게 만들 정도였다.', metadata={'source': './files/chapter_one.txt'}),\n",
       " Document(page_content='루테란은 에버그레이스를 도와 카제로스에 맞섰지만 역부족이었다. 갈라투르가 만들어 준 최강의 무기인 패자의 검은 카제로스의 일격에 부러져 버렸고, 도울 틈을 보던 카단은 카멘을 상대하기에도 벅찬 상황이었다. 에버그레이스는 루테란의 앞으로 나서며, 전장에서 이탈하 라고 말했다. 이후 에버그레이스는 가디언 ‘미스틱’과의 교신을 통해 자신의 둥지에 숨겨놓은 일곱', metadata={'source': './files/chapter_one.txt'}),\n",
       " Document(page_content='이후 에버그레이스는 가디언 ‘미스틱’과의 교신을 통해 자신의 둥지에 숨겨놓은 일곱 개의 아크를 가져올 것을 명했다. 스스 로의 몸을 안개로 바꿀 수 있었던 미스틱은 전장에서 빠져나가 에스더들이 악마군단장들과 치열한 격전을 벌이는 동안 일곱 개의 아크를 운반했다.', metadata={'source': './files/chapter_one.txt'}),\n",
       " Document(page_content='갈라투르와 마수군단장 발탄의 싸움 또한 치열하게 진행되고 있었다. 하지만 오랜 싸움으로 체력이 고갈된 갈라투르가 위기에 몰리기 시 작했다. 더 이상 버틸 힘이 없는 갈라투르가 발탄에게 최후의 일격을 당하려는 순간 전장에서 이탈했던 루테란이 발탄의 앞을 막아 섰다. 그는 카제로스와 싸우다 부러진 패자의 검으로 발탄에게 맞섰다. 패자의 검은 갈라투르가 만든', metadata={'source': './files/chapter_one.txt'}),\n",
       " Document(page_content=\"카제로스와 싸우다 부러진 패자의 검으로 발탄에게 맞섰다. 패자의 검은 갈라투르가 만든 것으로 사용자의 의지를 통해 진정한 힘을 발휘하는 검이었고 그 검을 가리켜 '투지의 검'이라고 부르기도 했다. 루테란은 부러진 패자의 검에 의지를 담아 투기의 날을 만들어 마수 군단장 발탄에게 큰 상처를 남긴다.\", metadata={'source': './files/chapter_one.txt'}),\n",
       " Document(page_content=\"로스트아크 미스틱\\n\\n위기의 순간 7개의 아크를 가지고 전장에 복귀한 가디언 '미스틱'\", metadata={'source': './files/chapter_one.txt'}),\n",
       " Document(page_content='하지만 지친 것은 갈라투르만이 아니었다. 가디언들과 협력해 비아키스를 궁지에 몰아넣었던 니나브, 교활한 쿠크세이튼을 상대로 흔들림 없이 대적한 샨디, 질병의 힘을 가진 일리아칸을 상대로 물러서지 않고 맞선 시엔까지. 모두 선전했지만 전투가 길어지자 힘의 균형은 급격 히 무너지기 시작했다. 전투를 이끌던 에버그레이스도 더 이상 상처 입은 몸으로 버티기엔', metadata={'source': './files/chapter_one.txt'}),\n",
       " Document(page_content='히 무너지기 시작했다. 전투를 이끌던 에버그레이스도 더 이상 상처 입은 몸으로 버티기엔 역부족이었다. 모두가 절망에 빠지기 직전, 에스 더들을 구한 것은 아크를 가지고 돌아온 가디언 미스틱이었다.', metadata={'source': './files/chapter_one.txt'}),\n",
       " Document(page_content='5.3. 막을 내린 사슬 전쟁[편집]\\n\\n가디언 미스틱은 에버그레이스가 숨겨두었던 아크를 모두 루테란에게 전달했다.\\n\\n루테란은 전달받은 7개의 아크의 힘을 개방하고 태초의 빛 아크의 힘은 카제로스에 대항할 무기가 되어 에스더들에게 전해졌다. [10]', metadata={'source': './files/chapter_one.txt'}),\n",
       " Document(page_content='루테란이 발동시킨 아크의 힘을 얻은 에스더들은 혼돈의 존재들을 밀어붙이기 시작했다. 에스더들의 위세에 악마들이 주춤한 사이, 가디 언들이 가세했고 그들의 도움을 받은 에스더들은 아크의 힘으로 카제로스를 봉인하기 시작했다. 여러 갈래로 나눠진 빛들이 거대하고 성 스러운 기둥으로 변하며 신의 창처럼 지상으로 내려와 꽂혔다. 이 기둥들이 결계를 만들어 악마들을', metadata={'source': './files/chapter_one.txt'}),\n",
       " Document(page_content='기둥으로 변하며 신의 창처럼 지상으로 내려와 꽂혔다. 이 기둥들이 결계를 만들어 악마들을 소멸시켰고 카제로스를 옥죄기 시작 했다. 그리고 결계 안의 모든 악마들을 소멸시켰다.', metadata={'source': './files/chapter_one.txt'}),\n",
       " Document(page_content='태초의 빛으로부터 생성된 루페온의 긴 사슬들로 인해 카제로스의 육체가 봉인되기 시작하자, 아크라시아와 페트라니아 두 세계에 공명하 고 있었던 카오스게이트 또한 서서히 닫히기 시작했다. 봉인을 막을 수 없었던 카제로스는 영혼을 분리하여 태초부터 존재한 자들, 악마군 단장들과 함께 페트라니아로 돌아갈 수 밖에 없었고, 에스더들은 마침내 카제로스의 육체를', metadata={'source': './files/chapter_one.txt'}),\n",
       " Document(page_content='단장들과 함께 페트라니아로 돌아갈 수 밖에 없었고, 에스더들은 마침내 카제로스의 육체를 봉인해내는데 성공한다. 이후 에스더들은 봉 인한 카제로스의 육체를 아무도 접근할 수 없는 안타레스 산의 심장부에 가두어 두기로 한다. 아크라시아에 열렸던 모든 카오스게이트가 닫히자 붉은 달은 빛을 잃어가기 시작했다.', metadata={'source': './files/chapter_one.txt'}),\n",
       " Document(page_content='로스트아크 봉인된카제로스\\n\\n카제로스 육체의 봉인과 함께 막을 내린 <사슬 전쟁>', metadata={'source': './files/chapter_one.txt'}),\n",
       " Document(page_content='이후, 일곱 개의 아크는 다시 빛을 잃고 지상으로 떨어졌다. 루테란은 이 일곱 개의 아크를 에스더들에게 나누어 주며, 시련을 통과하는 자 만이 아크를 모을 수 있도록 전 세계에 아크를 나눠 숨기자고 제안했다. 탐욕에 물든 자가 아크를 차지하지 않게 하기 위해서였다. 에스더 들은 루테란의 의견에 찬성했고, 전쟁이 끝난 후 대륙 곳곳에 아크를 숨겼다.', metadata={'source': './files/chapter_one.txt'}),\n",
       " Document(page_content='로스트아크 일곱개의아크\\n\\n중간계 곳곳에 다시 흩어진 일곱 조각의 아크[11]\\n\\n그렇게 사슬전쟁은 막을 내렸다. 하지만, 이는 카제로스와의 첫 번째 조우였을 뿐이었다. 쿠르잔의 들끓는 용암 속에서도 카제로스의 육신 은 소멸하지 않았고, 페트라니아에 돌아간 카제로스의 영혼은 봉인이 풀려나는 날만을 기다리고 있었다.', metadata={'source': './files/chapter_one.txt'}),\n",
       " Document(page_content='5.4. 잠든 가디언들, 새로운 시작[편집]\\n\\n사슬전쟁이 끝난 후, 아크라시아는 많은 변화를 맞이하게 되었다.', metadata={'source': './files/chapter_one.txt'}),\n",
       " Document(page_content='가디언들은 에버그레이스를 따르는 자들과 바르칸을 따르는 자들로 나뉘어졌는데, 바르칸을 따르는 자들은 차원의 균열이 닫힐 때 악마들 을 따라 페트라니아로 향했다. 에버그레이스는 파괴된 대륙을 복구시키는 것은 이곳 종족들의 몫이라는 말을 남긴 채, 가디언의 숙명에 따 라 아크라시아 대륙 어딘가로 사라졌다. 이에, 에버그레이스를 따르던 가디언들도 긴 잠에', metadata={'source': './files/chapter_one.txt'}),\n",
       " Document(page_content='라 아크라시아 대륙 어딘가로 사라졌다. 이에, 에버그레이스를 따르던 가디언들도 긴 잠에 들었다. 가디언들이 물러가던 시기, 가디언 ‘루’만은 세상에 남아 인간들 곁에서 그들이 다시 일어서는 것을 지켜보겠다고 에버그레이스에게 간청했다. 에버그레이스는 루의 뜻을 존 중하여 그가 인간들 곁에 머무는 것을 허락했다.', metadata={'source': './files/chapter_one.txt'}),\n",
       " Document(page_content=\"한편, 인간들은 악마들과의 전쟁을 종식시킨 가디언들을 재앙이 아닌 '신의 성물'로 기록했고 일곱 명의 영웅들을 '에스더'라 칭송하며 그들 의 업적을 기렸다. 각 종족들은 대륙을 정비하기 시작했고 그 과정에서 새로운 국가들이 건국되기 시작했다.\\n\\n@. 개척의 500년[편집]\\n\\n6.1. 풍류의 정원, 애니츠[편집]\", metadata={'source': './files/chapter_one.txt'}),\n",
       " Document(page_content='@. 개척의 500년[편집]\\n\\n6.1. 풍류의 정원, 애니츠[편집]\\n\\n사슬전쟁 이후, 에스더 시엔은 자신을 따르던 사람들과 함께 아크라시아의 동쪽으로 향했다.', metadata={'source': './files/chapter_one.txt'}),\n",
       " Document(page_content='긴 여정 끝에 벚꽃이 만개한 아름답고 풍요로운 땅을 발견한 사람들. 하지만 그곳엔 사슬전쟁으로 다친 몸을 회복중인 가디언 루가 있었 다. 전쟁에서 루와 만난 적이 있었던 시엔은 그를 찾아가 자신을 포함한 사람들이 그곳에 정착해도 되는지를 물었다. 처음에 루는, 페트라 니아의 악마들로 인해 오염된 자신의 몸이 사람들을 해칠 것을 걱정해 떠나라고 했다.', metadata={'source': './files/chapter_one.txt'}),\n",
       " Document(page_content='니아의 악마들로 인해 오염된 자신의 몸이 사람들을 해칠 것을 걱정해 떠나라고 했다. 하지만 다시 한 번 시엔이 찾아가자 한 가지 조건을 걸고 정착을 허락했다. 그것은 바로, 에스더 시엔에게 인정 받은 자가 아니면 인간을 자신의 성역에 들이지 말라는 것이었다. 시엔은 조건 을 받아들였다. 이후, 풍요의 대지에 정착한 사람들은 대륙을 ‘애니츠’라 명명하고', metadata={'source': './files/chapter_one.txt'}),\n",
       " Document(page_content='조건 을 받아들였다. 이후, 풍요의 대지에 정착한 사람들은 대륙을 ‘애니츠’라 명명하고 자신들만의 독특한 문화를 발전시켜 나갔다. 로스트아크 중간계지도(사슬전쟁...', metadata={'source': './files/chapter_one.txt'}),\n",
       " Document(page_content='동쪽에 새로 생긴 나라 <애니츠>', metadata={'source': './files/chapter_one.txt'}),\n",
       " Document(page_content='사슬전쟁으로 악마들에게 입은 상처가 컸던 가디언 루는 스며든 어둠을 견뎌내며 서서히 몸을 회복해 갔다. 그러던 어느 날, 에스더 시엔이 자신의 몸 속에 있던 힘을 제어하지 못하는 상황이 발생했다. 시엔이 힘에 먹힐 위험에 처하게 되자 루는 자신이 나서 사태를 진정시키려 했다. 하지만 힘을 사용함과 동시에 억제되어 있던 어둠이 상처를 통해 분출되었고, 이는', metadata={'source': './files/chapter_one.txt'}),\n",
       " Document(page_content='했다. 하지만 힘을 사용함과 동시에 억제되어 있던 어둠이 상처를 통해 분출되었고, 이는 애니츠 곳곳에 스며들었다. 땅에 스며든 어둠의 영향으로 애니츠 대륙의 사람들은 서로 다투기 시작했다. 다툼은 전쟁을 만들었고, 전쟁은 희생을 낳았다. 전장에 흐른 피는 알 수 없는 틈 의 경계까지 흘러갔고, 얼마 지나지 않아 페트라니아로 돌아가지 못한 악마들이 피', metadata={'source': './files/chapter_one.txt'}),\n",
       " Document(page_content='없는 틈 의 경계까지 흘러갔고, 얼마 지나지 않아 페트라니아로 돌아가지 못한 악마들이 피 냄새를 맡고 몰려들기 시작했다.', metadata={'source': './files/chapter_one.txt'}),\n",
       " Document(page_content='로스트아크 애니츠1\\n\\n로스트아크 애니츠2\\n\\n격투가 클래스의 시작 마을이기도 한 동방 대륙 <애니츠>', metadata={'source': './files/chapter_one.txt'}),\n",
       " Document(page_content='시엔은 애니츠의 무투가들과 함께 대륙을 뒤덮은 악마들을 하나, 둘 처리해 나갔다. 수 개월 간의 격전 끝에 악마들이 모두 사라지자 애니 츠 대륙엔 다시 평화가 찾아왔다. 스스로의 불안정함을 경계한 시엔은 자신과 함께 싸웠던 무투가들에게 애니츠를 맡긴 뒤, 루가 있는 거울 계곡으로 자취를 감췄다. 시엔의 뜻을 받든 적운과 연이삭이라는 무투가는 ‘대사부', metadata={'source': './files/chapter_one.txt'}),\n",
       " Document(page_content='거울 계곡으로 자취를 감췄다. 시엔의 뜻을 받든 적운과 연이삭이라는 무투가는 ‘대사부 시험’을 통해, 모두의 의견에 귀를 기울여 줄 지혜로운 자를 구해 정치를 맡겼다. 이후 사백 년 동안 애니츠는 천혜의 자연환경, 풍부한 자원을 바탕으로 문화와 무역을 발전시켜 현재의 모습으로 발전했다.', metadata={'source': './files/chapter_one.txt'}),\n",
       " Document(page_content='6.2. 데런 학살과 페이튼[편집]\\n\\n사슬전쟁이 아크라시아 대륙에 남긴 것은 파괴된 문명과 악마들에 대한 공포심만이 아니었다.', metadata={'source': './files/chapter_one.txt'}),\n",
       " Document(page_content='전쟁이 끝나고 어느 정도 시간이 흐른 뒤에 악마와 인간이 반으로 섞인 종족이 생겨났다. 그들의 육체는 흡사 악마와 같았고 악마와 비슷한 힘을 지니게 되었는데 사슬전쟁으로 인해 악마에 대한 공포가 남아있던 아크라시아의 종족들은 이러한 자들에게 강한 적대심을 드러냈다. 가장 큰 반감을 보인 것은 대주교의 국가 세이크리아였다.\\n\\n로스트아크 폭발한붉은달', metadata={'source': './files/chapter_one.txt'}),\n",
       " Document(page_content='로스트아크 폭발한붉은달\\n\\n데런은 붉은 달이 부서지면서 생긴 가루에 노출된 인간이 변화한 종족이라는 설이 유력하다.', metadata={'source': './files/chapter_one.txt'}),\n",
       " Document(page_content=\"세이크리아는 악마의 씨앗을 아크라시아에서 축출해야 한다며 '신의 뜻'이라는 명목아래 대규모 학살을 감행했다. 악마의 모습을 가진 것 외에는 어떠한 문제도 일으키지 않았던 종족들에게 말이다. 타국은 이를 방관했고, 이들은 악마의 힘을 가지고도 저항하지 않았는데, 겨우 살아남아 도망친 이들은 대륙을 떠돌 수밖에 없었다. 그들은 스스로를 고대어로 ‘버려진\", metadata={'source': './files/chapter_one.txt'}),\n",
       " Document(page_content='살아남아 도망친 이들은 대륙을 떠돌 수밖에 없었다. 그들은 스스로를 고대어로 ‘버려진 것’이라는 뜻의 데런이라 칭하고, 살아남기 위해 저주받은 땅 페이튼으로 향한다. 사슬전쟁의 상처만이 남은 버려진 땅 페이튼. 그곳에서 유일하게 생명이 자라는 곳에 정착한 데런들은 최 소한의 자원으로 생명을 연명해갔다. 살아있을지언정 그들 앞에 놓인 선택지는 많지 않았다.', metadata={'source': './files/chapter_one.txt'}),\n",
       " Document(page_content='소한의 자원으로 생명을 연명해갔다. 살아있을지언정 그들 앞에 놓인 선택지는 많지 않았다. 자멸하거나, 살해당하는 것. 그것도 아니면 스 스로 생존하는 것이 전부였다. 삶과 죽음 앞에서 생존을 선택할 수 밖에 없었던 데런들은, 수련을 통해 악마의 힘을 제어하려 노력했다. 수 백 년간의 시행착오 끝에 스스로에게 내재된 악마성은 숨길 수 있게 되면서 평소에는', metadata={'source': './files/chapter_one.txt'}),\n",
       " Document(page_content=\"수 백 년간의 시행착오 끝에 스스로에게 내재된 악마성은 숨길 수 있게 되면서 평소에는 인간의 모습을 하고 살아갈 수 있었다. 스스로를 통제 하지 못하게 되면 악마화가 진행되었지만 페이튼의 데런들은 그 힘마저도 언젠가 악마들과의 전쟁이 시작되면 필요해 질 날이 올 것으로 믿었고, 그 힘은 '어떤 의미'를 가지고 신들이 자신들에게 부여한 것이라고 굳게\", metadata={'source': './files/chapter_one.txt'}),\n",
       " Document(page_content=\"것으로 믿었고, 그 힘은 '어떤 의미'를 가지고 신들이 자신들에게 부여한 것이라고 굳게 믿었다.\", metadata={'source': './files/chapter_one.txt'}),\n",
       " Document(page_content=\"로스트아크 아만의눈물 사제 '아만'도 데런 종족이다.\\n\\n하지만 데런들 중 일부는 자신들을 악마로 몰아간 세이크리아를 저주했고 악마의 힘 또한 숨기려 하지 않았다. 악마의 힘을 극대화하려는 그들의 시도는 빈번히 다른 데런들과 충돌했다. 이념적 갈등은 점점 더 깊어졌고, 데런은 결국 두 세력으로 분화했다.\", metadata={'source': './files/chapter_one.txt'}),\n",
       " Document(page_content='이후, 분화된 데런들은 각자의 이유로 카제로스의 부활을 기다렸다. 어떤 데런들은 세상에 복수할 더욱 강한 힘을 얻기 위해서, 또 다른 데 런들은 이 모든 일의 원흉인 카제로스를 자신들의 손으로 처단하기 위해서.....\\n\\n6.3. 분열된 로헨델과 베른의 탄생[편집]', metadata={'source': './files/chapter_one.txt'}),\n",
       " Document(page_content='6.3. 분열된 로헨델과 베른의 탄생[편집]\\n\\n사슬전쟁 시기, 실린들이 가진 마법의 힘을 경계했던 몽환군단장 아브렐슈드는 감시가 소홀한 틈을 타 로헨델에 잠입했다.', metadata={'source': './files/chapter_one.txt'}),\n",
       " Document(page_content='몽환군단장 아브렐슈드는 실린들의 힘을 약화시키기 위해 아제나를 섬기는 제나일의 실린들에게 접근했다. 제나일로 침투한 아브렐슈드 는 마법에 대한 열망을 이용해 실린들을 조종하기 시작했다. 환혹된 실린들은 거대한 마법을 도시 내에서 폭발시켜 버렸고, 아제나가 다급 히 도착했을 때 이미 제나일은 붕괴되어 폐허만이 남아있을 뿐이었다. 전쟁이 끝난 후, 환혹에서', metadata={'source': './files/chapter_one.txt'}),\n",
       " Document(page_content='때 이미 제나일은 붕괴되어 폐허만이 남아있을 뿐이었다. 전쟁이 끝난 후, 환혹에서 깨어난 제나일의 실린들은 실린여왕에게 용서를 구하지만 아제나는 제나일을 붕괴시킨 그들을 이름없는 땅으로 추방하기로 결정한다. 마법의 두려움을 알게 된 실린들이 제나일의 실린들을 배척할까 염려해서였다. 아제나의 뜻을 알고 있었던 이난나는 조용히 그들의 이주를 돕는다.', metadata={'source': './files/chapter_one.txt'}),\n",
       " Document(page_content='로스트아크 베른1\\n\\n로스트아크 베른2\\n\\n조화와 창조, 발전의 땅 <베른>', metadata={'source': './files/chapter_one.txt'}),\n",
       " Document(page_content='로스트아크 베른2\\n\\n조화와 창조, 발전의 땅 <베른>\\n\\n아제나는 떠나간 제나일의 실린들이 새로이 정착하게 될 땅의 이름을 ‘베른’이라 지어주었다. 베른으로 건너간 실린들은 제나일을 이끌었 던 ‘에아달린’을 여왕으로 옹립했다. 여왕이 된 에아달린은 소통과 화합을 위해 이 땅에 살고 있던 다른 종족들. 오크, 트롤, 고블린 들을 찾 아가 손을 내밀었다.', metadata={'source': './files/chapter_one.txt'}),\n",
       " Document(page_content='결국 현재까지도 세 종족과의 화합은 이루어지지 못했지만 에아달린은 조화와 창조, 발전을 중시하는 제나일의 가르침을 잊지 않고 실천 해 나갔다. 그것이 진보된 성향의 실린들과 함께 베른을 건국한 이념이었기 때문이다. 그렇게 베른으로 이주한 실린들은 다양한 종족과 그 들의 문화양식을 받아들여 세계의 중심 세력으로 자리 잡을 수 있었다.', metadata={'source': './files/chapter_one.txt'}),\n",
       " Document(page_content='6.4. 케나인의 탄생[편집]\\n\\n사슬전쟁 이후, 세이크리아는 새로운 대주교 체제하에 문명을 발전시켜 나가기 시작했다.', metadata={'source': './files/chapter_one.txt'}),\n",
       " Document(page_content='대주교 ‘다리우스’는 아크에 눈이 멀어 포튼쿨 전쟁을 일으킨 테르메르 가문을 세이크리아에서 파문했고, 그들의 칼과 방패 역할을 했던 성 기사단도 해체시켰다. 이 급진적인 개혁은 세이크리아를 오랜 세월 동안 지켜온 새벽의 사제와 상아탑에서 의학과 마법, 과학을 연구하던 학자들에게까지 영향을 미쳤다. 다리우스는 학자들의 이러한 연구가 주신 루페온의 의지에', metadata={'source': './files/chapter_one.txt'}),\n",
       " Document(page_content='학자들에게까지 영향을 미쳤다. 다리우스는 학자들의 이러한 연구가 주신 루페온의 의지에 반하는 것이라고 주장했다. 그는 상아탑을 이 단으로 규정하고 탄압하기 시작한다. 그러나 상아탑 학자들은 연구에 대한 뜻을 굽히지 않았고, 결국 세이크리아 대륙으로부터 추방되기 에 이른다. 추방당한 학자들은 자신들의 연구를 완성시킬 환경을 찾아 세계를 떠돌던 중 붉은', metadata={'source': './files/chapter_one.txt'}),\n",
       " Document(page_content='이른다. 추방당한 학자들은 자신들의 연구를 완성시킬 환경을 찾아 세계를 떠돌던 중 붉은 사막을 발견하게 된다. 아무것도 자라지 않 는 메마른 사막. 그러나 그 안에 막대한 양의 자원이 내재되어 있다는 것을 알게 된 이들은, 대륙의 이름을 아르데타인으로 명명하고 그 위 에 수도 토트리치를 세워 국가를 건설한다.', metadata={'source': './files/chapter_one.txt'}),\n",
       " Document(page_content='로스트아크 아르데타인1\\n\\n로스트아크 아르데타인2 기계 문명 <아르데타인>', metadata={'source': './files/chapter_one.txt'}),\n",
       " Document(page_content='하지만 메마른 땅 위에서 국가를 발전시켜 가는 길은 순탄치 않았다. 여러 길을 모색하던 아르데타인의 사람들은, 척박한 땅을 개간하기 위 해 만들었던 기계를 점차 인간의 신체를 대신하는 용도로까지 고려하게 되었다. 뼈대를 대체하는 것에서 시작한 신체 실험은 결국 종의 성 질을 바꾸는 경지에까지 도달하게 되었고, 마침내 신이 주신 붉은 피가 아닌 스스로 만든', metadata={'source': './files/chapter_one.txt'}),\n",
       " Document(page_content='질을 바꾸는 경지에까지 도달하게 되었고, 마침내 신이 주신 붉은 피가 아닌 스스로 만든 푸른 피가 흐르는 종족으로 진화하게 되었다. 이 들은 진화된 자신들을 새로운 종족으로 분류하여 ‘케나인’이라 명명했다. 그리고 대도시 슈테른을 건설, 수도를 옮기고 더 큰 발전과 진화 의 방향을 모색하기 시작했다.', metadata={'source': './files/chapter_one.txt'}),\n",
       " Document(page_content='6.5. 아크라시움과 혼돈의 조각[편집]\\n\\n아크가 남긴 또 하나의 유산, 아크라시움. 아크가 남긴 빛이 분산되면서 대륙 곳곳에 반짝이는 빛의 가루들이 흩뿌려졌다.', metadata={'source': './files/chapter_one.txt'}),\n",
       " Document(page_content=\"빛이 분산되면서 흩뿌려진 가루들은 지상에 내려와 '아크라시움'이라 불리는 신비한 광물이 되었다. 더불어 붉은 달이 소멸되면서 생성된 '혼돈의 조각'도 아크라시아 대륙 일부로 흩어졌다. 아크와 붉은 달의 파편들은 이후 세상을 크게 변화시킨다.\\n\\n로스트아크 아크라시움\\n\\n중간계 문명에 큰 영향을 끼친 광물 '아크라시움'\", metadata={'source': './files/chapter_one.txt'}),\n",
       " Document(page_content='아크라시움의 발견으로 인해 인류는 비약적인 발전을 이루게 되었다. 초기 아크라시움은 전사들의 무기와 방어구를 강화하는 용도에 그쳤 으나, 이후 기술의 발달로 욘의 ‘고대 용광로’, 아르데타인의 이동수단 ‘블리츠’와 같이 여러 용도에 활용되었다. 하지만 유한한 자원이었던 아크라시움의 가치는 시간이 지날수록 급격히 상승했고 결국 전쟁을 대비하기 위한 무기와', metadata={'source': './files/chapter_one.txt'}),\n",
       " Document(page_content='아크라시움의 가치는 시간이 지날수록 급격히 상승했고 결국 전쟁을 대비하기 위한 무기와 방어구 제작에 비율이 높아지면서 아크라시움 으로 제작된 물건들은 특수한 계층에게만 돌아가게 되었다. 이는 계층간의 힘의 격차를 더욱 극명하게 갈라놓았으며 대륙간의 힘의 균형 을 조금씩 변화시키는 계기가 되었다. 아크라시움이 가장 많이 생산되는 지역은 욘이었다. 욘은', metadata={'source': './files/chapter_one.txt'}),\n",
       " Document(page_content='조금씩 변화시키는 계기가 되었다. 아크라시움이 가장 많이 생산되는 지역은 욘이었다. 욘은 로헨델과 베른간의 균형 잡힌 무역을 통해 서 부를 축적했으며 베른은 단기간에 나라의 위상을 끌어올릴 수가 있게 되었다. 게다가 수많은 아크라시움을 욘으로부터 대량으로 구매 한 베른은 이를 무기나 방어구로 가공하여 주변 국가와의 무역 수단으로 활용하기도 했다. 그렇게', metadata={'source': './files/chapter_one.txt'}),\n",
       " Document(page_content='이를 무기나 방어구로 가공하여 주변 국가와의 무역 수단으로 활용하기도 했다. 그렇게 아크라시움은 대륙에서 가장 중요한 물 질이 되었다.', metadata={'source': './files/chapter_one.txt'}),\n",
       " Document(page_content='혼돈의 조각은 아크라시움 만큼 널리 알려져 있지 않고 발견하기도 힘든 물질이었다. 혼돈의 조각에는 작지만 태초의 혼돈이 가지고 있던 에너지가 있어 이를 감당하지 못하게 되면 파편의 소유자를 미치게 하거나 파멸하게 만든다고 전해졌다.\\n\\n6.6. 루테란, 영광의 시대와 몰락[편집]', metadata={'source': './files/chapter_one.txt'}),\n",
       " Document(page_content='6.6. 루테란, 영광의 시대와 몰락[편집]\\n\\n대악마 카제로스를 봉인한 뒤, 에스더 루테란은 마지막 전투가 벌어졌던 격전의 평야에서 종전을 선언한다.\\n\\n로스트아크 루테란(도시)2 명예로운 기사의 나라 <루테란>', metadata={'source': './files/chapter_one.txt'}),\n",
       " Document(page_content='이후, 루테란은 자신의 나라로 돌아와 나라를 보살폈다. 루테란은 아르테미스의 연방국가들과 우호 조약을 체결하고 신생국인 베른, 아르 데타인을 포함해 교류가 적었던 욘, 로헨델과도 평화적인 관계를 맺었다. 사슬전쟁 당시 에스더라는 이름으로 여러 종족들을 통합했던 루 테란 왕의 이러한 행보는, 아크라시아 전역에 영향을 미쳤다. 루테란 왕의 서거 이후, 국가', metadata={'source': './files/chapter_one.txt'}),\n",
       " Document(page_content='왕의 이러한 행보는, 아크라시아 전역에 영향을 미쳤다. 루테란 왕의 서거 이후, 국가 루테란은 사백 년 동안 영광의 시대를 맞이하게 된다.', metadata={'source': './files/chapter_one.txt'}),\n",
       " Document(page_content=\"로스트아크 실리안\\n\\n전설적인 인간 기사 '루테란'의 후손, 실리안 왕자\", metadata={'source': './files/chapter_one.txt'}),\n",
       " Document(page_content='그러나 오랜 시간이 흐른 뒤 국가 루테란은 조금씩 흔들리기 시작했다. 부유한 귀족들이 왕의 권위를 위협하게 된 것이다. 라이오넬 왕에 이르러 격화된 이 갈등의 중심에는 동부의 공작 슈헤리트가 있었다. 유약한 동생이 왕의 자리에 오른 것에 불만을 가졌던 슈헤리트는 동생 을 독살하고, 그의 아들 실리안을 대신해 섭정의 자리에 오른다. 이후, 성인이 된', metadata={'source': './files/chapter_one.txt'}),\n",
       " Document(page_content='동생 을 독살하고, 그의 아들 실리안을 대신해 섭정의 자리에 오른다. 이후, 성인이 된 실리안이 왕의 자격을 증명하지 못하는 것을 빌미로 유폐 시킨 뒤 암살을 시도한다. 도망친 실리안은 자신을 따르는 귀족들과 함께 대항군을 결성, 섭정 슈헤리트에 대항하기에 이른다.', metadata={'source': './files/chapter_one.txt'}),\n",
       " Document(page_content='7. 의지를 계승하는 자[편집]\\n\\n7.1. 잊혀진 아크, 다가온 재앙[편집]\\n\\n사슬전쟁 이후, 대륙의 국가들은 빠르게 발전하며 전쟁의 상처를 치유해가기 시작했다.', metadata={'source': './files/chapter_one.txt'}),\n",
       " Document(page_content='새로운 대주교 아래 세이크리아는 종교의 성지이자 대륙의 중심으로서의 권위를 회복해갔다. 아름다운 음악이 울려 퍼지는 플레체에서는 예술이 발전하였고, 여인국 파푸니카에서는 탐스러운 과실이 여물고 축제가 끊이지 않았다. 또한, 우마르족은 아크라시움을 바탕으로 무 기와 방어구를 제작해 부를 축적했다. 이렇듯 번성하기 시작한 아크라시아의 종족들은 그 어느 때보다', metadata={'source': './files/chapter_one.txt'}),\n",
       " Document(page_content='제작해 부를 축적했다. 이렇듯 번성하기 시작한 아크라시아의 종족들은 그 어느 때보다 풍요한 시대를 영위해 나가고 있었 다. 오백 년간 이어진 긴 평화로 인해 아크라시아의 종족들에게서 악마들과의 전쟁은 잊혀져갔고 아크의 존재 역시 완전히 잊혀졌다.', metadata={'source': './files/chapter_one.txt'}),\n",
       " Document(page_content='아크라시아의 종족들이 잊은 것은 비단 전쟁뿐만이 아니었다. 사람들은 아크를 동화책에서나 나오는 이야기라고 생각했으며 그렇게 태초 의 힘인 아크의 존재는 아크라시아의 종족들에게서 점차 지워져 갔다. 하지만 오랜 세월을 거치며 카제로스의 육체가 봉인되어 있는 쿠르 잔의 화산이 다시 분화하기 시작했고, 육체를 봉인했던 루페온의 사슬들도 조금씩 느슨해지기', metadata={'source': './files/chapter_one.txt'}),\n",
       " Document(page_content='잔의 화산이 다시 분화하기 시작했고, 육체를 봉인했던 루페온의 사슬들도 조금씩 느슨해지기 시작했다. 페트라니아에 자리한 영혼과 공 명하기 시작한 그의 육체로 인해, 다시 아크라시아에 크고 작은 카오스게이트가 열리기 시작했다. 하지만 오래된 평화로 인해 아크라시아 의 종족들은 다가오는 재앙을 눈치채지 못했다.', metadata={'source': './files/chapter_one.txt'}),\n",
       " Document(page_content='황혼이 지는 어느 저녁, 해무리 언덕 광장에서 한 음유시인은 과거를 노래했다. 토토이크라는 거인이 난쟁이를 만들었다는 내용이었다. 이 를 들은 사람들은 허무맹랑한 이야기라며 노인을 조롱했다. 노인은 개의치 않은 듯 일어나 사람들에게 말했다.\\n\\n\"세상엔 믿지 못할 전설들이 많지 않은가? 그 옛날 악마를 물리쳤던 힘. 아크처럼 말이지...\"', metadata={'source': './files/chapter_one.txt'}),\n",
       " Document(page_content='그렇게 아크는 종족들의 기억에서 사라져 갔다. 사람들은 모두 그 존재를 잊어버렸다. 요정의 숲에 사는 아이들도, 기계국가를 건설한 공학 자들도, 풍류의 정원으로 떠난 신선들도, 영광의 시대를 열었던 기사들마저도 아크를 잊어버렸다.', metadata={'source': './files/chapter_one.txt'})]"
      ]
     },
     "execution_count": 31,
     "metadata": {},
     "output_type": "execute_result"
    }
   ],
   "source": [
    "from langchain.text_splitter import RecursiveCharacterTextSplitter\n",
    "\n",
    "splitter = RecursiveCharacterTextSplitter(\n",
    "    chunk_size=200,\n",
    "    chunk_overlap=50,  # 문단을 분할할 때 앞 조각 일부를 가져옴\n",
    ")\n",
    "\n",
    "loader = UnstructuredFileLoader(\"./files/chapter_one.txt\")\n",
    "\n",
    "loader.load_and_split(text_splitter=splitter)\n"
   ]
  },
  {
   "cell_type": "code",
   "execution_count": 34,
   "metadata": {},
   "outputs": [
    {
     "name": "stderr",
     "output_type": "stream",
     "text": [
      "Created a chunk of size 645, which is longer than the specified 600\n",
      "Created a chunk of size 650, which is longer than the specified 600\n"
     ]
    },
    {
     "data": {
      "text/plain": [
       "[Document(page_content='태초의 세상은 혼돈이었다. 하지만 규칙이 만들어지면서, 혼돈이었던 세상은 질서의 세계와 무질서의 세계로 갈라진다.\\n질서의 신 루페온은 불완전함 속에 자리잡은 자신의 세계에 여러 가지 규칙들을 만들어내기 시작했다. 루페온은 대우주 오르페우스를 창 조하고 공간을 메울 별을 만든 뒤, 절대 꺼지지 않을 태초의 빛 아크를 이용해 태양을 띄웠다. 그러나 무한한 태양과는 달리 별은 유한하여 생성되고 소멸되길 반복했다. 질서는 생명을 창조하였으나 죽음이란 그림자 또한 만들어 버린 것이다. 불완전한 질서의 세계를 관망하던 혼돈의 신 이그하람은 무한한 생명을 가진 아크에 흥미를 가지기 시작했다. 소멸하지 않는 아크야말로 혼돈의 결정체라 생각했던 이그하 람의 시선은 아주 오랜 시간을 거쳐 서서히 탐욕으로 변하게 되었다.\\n로스트아크 태초의 빛 <아크> 태초의 빛 <아크>', metadata={'source': './files/chapter_one.txt'}),\n",
       " Document(page_content='로스트아크 태초의 빛 <아크> 태초의 빛 <아크>\\n한편, 질서의 신 루페온은 대우주 오르페우스에 별과 행성을 창조해냈다. 셀 수도 없이 많은 탄생과 죽음이 반복된 끝에 응축된 생명의 힘 은 스스로 생명을 창조할 수 있는 별 ‘아크라시아(Arkrasia)’[1]를 탄생시켰다. 루페온은 대우주 오르페우스에서 유일하게 창조의 힘을 가 지고 태어난 별 아크라시아를 관리하기 위해 신을 만들었다. 루페온에 의해 탄생한 일곱 신들은 아크라시아에 수많은 생명의 원천을 흩뿌 린 뒤, 태어난 생명들의 순환 고리를 만들어 내었다. 이로 인해 대우주 오르페우스의 질서에 따라 아크라시아에도 삶과 죽음이 공존하게 되 었다.\\n로스트아크 아크라시아&페트라니...\\n아크라시아와 페트라니아', metadata={'source': './files/chapter_one.txt'}),\n",
       " Document(page_content='로스트아크 아크라시아&페트라니...\\n아크라시아와 페트라니아\\n같은 시기, 혼돈의 세계에도 하나의 질서가 만들어졌다. 질서의 세계에서 무한한 생명의 힘 아크가 탄생했던 것처럼, 혼돈의 세계에서도 질 서를 가진 어둠의 생명이 탄생했다. 이 어둠의 생명은 혼돈의 신 이그하람의 의지와는 달리 스스로를 분열시켜 어둠의 생명을 창조했고, 어 둠의 별 페트라니아를 만들어내기에 이른다. 이렇게 만들어진 두 세계는 각자의 방식으로 변화해 나갔다. 혼돈에서 탄생한 힘은 아크라시 아의 응축된 힘, 아크와 공명하기 시작했다. 그러나 섞일 수 없었던 두 힘은 서서히 차원간의 균열을 만들어 가고 있었다.\\n2.2. 일곱 신과 종족의 탄생[편집]\\n아크라시아가 태동한 초기, 최고신 루페온과 일곱 신들은 별에서 살아갈 여러 종족들을 만들어 내었다.\\n로스트아크 초기 중간계\\n여러 대륙으로 갈라진 중간계', metadata={'source': './files/chapter_one.txt'}),\n",
       " Document(page_content='아크라시아가 태동한 초기, 최고신 루페온과 일곱 신들은 별에서 살아갈 여러 종족들을 만들어 내었다.\\n로스트아크 초기 중간계\\n여러 대륙으로 갈라진 중간계\\n루페온이 만든 일곱 신 중 조화의 신 기에나가 생명의 원천인 바다를 창조한 이후, 하나의 대륙은 여러 개로 쪼개져 각기 다른 모습을 지니 게 되었다. 초기에 루페온은 각 대륙에 자리잡은 아크라시아의 종족들을 위해 아크의 힘을 나누어 주었고, 종족들은 빠르게 발전해 나갔다. 그러나 아크의 힘으로 인해 아크라시아의 종족들은 교만해졌으며, 타락하여 신의 질서에 대항하기에 이른다. 이에 분노한 루페온은 종족 들로부터 아크의 힘을 다시 빼앗아 일곱 개의 조각으로 분리해 신들에게 나누어 주었다. 그리고 일곱 신에게 새로운 종족들을 창조할 것을 명했다.', metadata={'source': './files/chapter_one.txt'}),\n",
       " Document(page_content='루페온의 명을 받은 일곱 신들은 아크라시아에 새로운 종족들을 창조했다. 명예의 신 프로키온은 루페온과 가장 닮아 있는 종족 라제니스 를 탄생시켰고, 지혜의 신 크라테르는 마법을 자유자재로 다루는 종족 실린을 만들었다. 또한 생명의 신 알데바란은 다양한 형태로 분화 가 능한 정령들을, 대지의 신 아크투르스는 문명을 창조해 나갈 수 있는 능력을 지닌 우마르 종족과 거인족을 탄생시켰다. 불의 신 안타레스는 강력한 전투력과 지략을 지닌 할족을, 시리우스는 빙결의 종족 타베르를 만들었다. 조화의 신 기에나는 대지의 모든 생명들과 소통이 가능 한 요즈족, 그리고 바다 속에서도 살아갈 수 있는 포시타족을 만들었고, 마지막으로 시리우스와 힘을 합쳐 스스로 성장해 나가는 힘을 가진 ‘인간’을 만들었다.\\n로스트아크 일곱종족\\n일곱 신들이 창조한 종족들[2][3]', metadata={'source': './files/chapter_one.txt'}),\n",
       " Document(page_content='로스트아크 일곱종족\\n일곱 신들이 창조한 종족들[2][3]\\n일곱 신들이 태초에 만들어낸 종족 중 라제니스, 할, 실린은 특히 많은 능력을 부여 받은 종족이었다. 이들 중 라제니스는 하늘을 날 수 있 는 유일한 종족이었기 때문에 세상을 관찰하며 다스리는 임무를 맡았다. 할은 지략과 전투 능력이 뛰어난 종족이었으며, 실린은 마법이라 는 신비한 힘을 다룰 수 있는 지혜로운 종족이었다. 힘의 균형을 이룬 이 세 종족을 중심으로 아크라시아의 수많은 종족들은 함께 발전해 나갔다.\\n로스트아크 아크를탐낸죄\\n아크를 탐낸 죄로 벌을 받은 종족들', metadata={'source': './files/chapter_one.txt'}),\n",
       " Document(page_content=\"로스트아크 아크를탐낸죄\\n아크를 탐낸 죄로 벌을 받은 종족들\\n하지만 힘의 균형은 할에 의해 곧 깨어져 버리고 말았다. 할이 불의 신 안타레스를 속여 아크의 힘을 갖게 된 것이다. [4] 실린과 라제니스가 힘을 합쳐 할을 막아내려 했지만, 아크의 힘을 가진 할을 막아내기에는 역부족이었다. 이를 저지하기 위해 라제니스 종족은, 신계로 숨어 들어가 프로키온의 아크를 훔쳐 할에 대항했다. 아크의 힘 덕분에 실린과 라제니스는 전쟁에서 승리했지만 최고신 루페온의 노여움을 사 게 되었다. 안타레스는 할에게 아크를 넘겨준 죄로 신계에서 추방되었고, 아크를 제대로 관리하지 못한 프로키온은 언어를 빼앗겼다. 전쟁 의 원흉이었던 할은 신을 기만한 죄로 소멸의 형벌을 받았다. [5] 마지막으로 프로키온의 아크를 훔친 라제니스 종족은 날개를 퇴화시켜 더 이상 날 수 없게 만들었다. 그리고 신들이 사는 세계 밑에 '엘가시아'라는 대륙을 만들어, 천 년에 한 번 거대한 날개를 펼 수 있는 자가 나타 나면 차원의 틈 '트리시온'[6] 에서 아크라시아의 미래를 내다보도록 했다. 그것은 라제니스를 아꼈던 루페온의 신뢰이자 벌이었다.\\n2.3. 최초의 전쟁 그리고 가디언의 탄생[편집]\", metadata={'source': './files/chapter_one.txt'}),\n",
       " Document(page_content=\"2.3. 최초의 전쟁 그리고 가디언의 탄생[편집]\\n대륙에서 일어난 전쟁으로 아크의 힘이 증폭되면서 그 동안 공명해 오던 두 세계의 힘이 어그러졌고, 차원에 거대한 균열이 발생했다. 로스트아크 균열\\n균열이 일어난 두 세계\\n오랜 시간 아크의 힘을 탐냈던 이그하람은 이 때를 놓치지 않았다. 그는 페트라니아에서 자라난 어둠의 생명체, 그리고 ‘태초부터 존재한 자들’과 함께 질서의 세계 아크라시아를 침공했다. 신들과 아크라시아의 종족들은 이들에 맞서 싸웠다. 하지만 전쟁의 여파는 전혀 예상치 못한 결과를 불러들였다. 태초의 힘이 부딪히자 두 세계의 균열이 더욱 커지면서 대우주 오르페우스가 페트라니아를 집어 삼키기 시작한 것이다. 모든 세계가 무(無)로 돌아가며 혼돈마저 잠식하기 시작하자 이그하람은 전쟁을 중단했다. 균열을 막기 위해 아크라시아의 일곱 신들은 각자의 아크를 루페온에게 바쳤고, 루페온은 아크의 힘을 개방했다. 이 태초의 힘은 이그하람이 가진 혼돈과 결합하여 ‘가디언’을 만들어냈다. 이렇게 탄생한 최초의 가디언 '에버그레이스'는 아크의 빛과 혼돈의 어둠이 결합되어 절대적 힘을 지니고 탄생한 생명체였다. 로스트아크 에버그레이스\", metadata={'source': './files/chapter_one.txt'}),\n",
       " Document(page_content='가디언들은 빠르게 균열의 팽창을 막아 나갔다. 최초의 가디언인 ‘에버그레이스’는 자신의 힘을 나누어 더 많은 가디언들을 탄생시켰고, 가 디언들의 힘을 결집시켜 균열을 닫는데 성공했다. 이 사건 이후, 이그하람의 군단은 혼돈의 세계로 돌아갔으며 임무를 다한 가디언들은 긴 잠에 들었다. 차원간의 거대한 전쟁이 끝나고 아크라시아의 여명은 비로소 막을 내리게 되었다.\\n로스트아크 가디언들\\n별의 수호자 <가디언>들\\n질서와 혼돈이 만들어낸 차원간의 첫 전쟁 이후 루페온은 아크라시아에 신들이 개입되는 것을 원치 않았고, 아크를 가진 일곱 신들은 아크 라시아 대륙을 떠나 신계를 만들어 그들을 지켜보았다. 이후 그 어떤 종족도 신들의 권위에 대항하지 않았고, 다시 질서가 찾아온 아크라시 아는 신들의 축복과 함께 더욱 더 풍요롭게 발전해 나갔다. 그렇게 위대했던 아크의 힘은 잊혀지는 듯 했다.\\n3. 어둠의 왕좌[편집]\\n3.1. 이그하람의 죽음[편집]\\n질서와 혼돈이 만들어낸 차원간의 거대한 전쟁 이후, 더 이상의 균열은 발생하지 않았다.', metadata={'source': './files/chapter_one.txt'}),\n",
       " Document(page_content='3. 어둠의 왕좌[편집]\\n3.1. 이그하람의 죽음[편집]\\n질서와 혼돈이 만들어낸 차원간의 거대한 전쟁 이후, 더 이상의 균열은 발생하지 않았다.\\n풍요와 번영의 시기를 맞이한 아크라시아와는 달리, 페트라니아는 암흑과 혼란의 시기를 보냈다. 혼돈의 힘을 흡수해 탄생한 페트라니아 의 생명체들은 아무런 규칙도, 제약도 없이 다양한 형태로 진화해 나갔다. 그들은 생존을 위해 서로를 공격하기 시작했고, 페트라니아는 끔 찍한 파괴의 전장이 되어가고 있었다. 하지만 이 혼란은 심연으로부터 등장한 카제로스에 의해 사그라들기 시작한다. 스스로를 심연의 군 주라 칭한 카제로스는 악마들을 창조하며 순식간에 혼돈의 세계를 평정했다. 이그하람은 혼돈의 세계에서 질서를 만들기 시작한 카제로스 로 인해 자신이 가지고 있던 혼돈의 힘이 점차 소멸되는 것을 느꼈다. 이에, 이그하람은 태초부터 존재한 자들과 함께 카제로스가 있는 ‘심 연의 공간’으로 향했다.', metadata={'source': './files/chapter_one.txt'}),\n",
       " Document(page_content='이그하람은 카제로스와 그가 만들어낸 악마들을 다시 혼돈으로 되돌리기 위해 ‘태초의 어둠’을 사용했다. 그러나 태초부터 존재한 자들은 이그하람을 배신했고, 카제로스 편에 서서 이그하람에 맞서기 시작했다. 심연의 세계에 익숙했던 그들은 마침내 혼돈의 진정한 주인이었 던 이그하람을 소멸시키는데 성공한다. 그렇게 심연의 불꽃을 다루는 카제로스는 어둠의 주인이 되었다. 혼돈의 세계에 질서를 만든 그는, 페트라니아에 문명을 만들어가기 시작했다.\\n로스트아크 이그하람의죽음\\n이그하람의 죽음과 함께 흩어진 두 개의 혼돈\\n죽음의 순간, 이그하람에게서 빠져 나온 두 개의 혼돈이 페트라니아 어딘가로 날아갔다. 혼돈의 세계를 지배하게 된 것에 만족한 카제로스 는 이그하람의 조각이 남아있다는 사실을 눈치채지 못했다. 이그하람의 조각은 두 개로 나뉘어져 하나는 검은 산 바위자락으로 떨어지고 또 하나는 태초의 혼돈 깊숙한 곳으로 떨어졌다.\\n3.2. 붉은 달[편집]\\n이그하람의 소멸 이후, 카제로스는 태초부터 존재한 자들과 함께 혼돈의 세계를 지배했다.', metadata={'source': './files/chapter_one.txt'}),\n",
       " Document(page_content=\"3.2. 붉은 달[편집]\\n이그하람의 소멸 이후, 카제로스는 태초부터 존재한 자들과 함께 혼돈의 세계를 지배했다.\\n또한, 어둠의 생명체들을 페트라니아에서 쫓아버리고 자신이 창조한 악마들이 그곳을 지배하도록 만들었다. 이그하람의 지배 시기부터 존 재했던 어둠의 생명체들은 하나 둘씩 사라졌고, 그렇게 혼돈의 세계 페트라니아에는 질서가 생겨나기 시작했다. 카제로스는 태초부터 존 재한 자들을 어둠의 신으로 임명하고 페트라니아에 문명을 만들도록 명령했다. 태초부터 존재한 자들은 혼돈의 힘을 바탕으로 암흑의 별, 심연의 바다, 검은 불꽃, 그리고 붉은 달을 만들어 내었다. 붉은 달은 태초부터 존재한 자들이 태양을 모방해 만들다가 실패한 힘의 결정체 였다. 하지만 태초부터 존재한 자들은 물론, 카제로스 조차도 무한한 에너지원인 '태양'을 만들어낼 수는 없었다. 붉은 달은 카제로스가 다 루는 심연의 불꽃을 더욱 강하게 만들어 주었지만, 그 힘은 영원하지 못했다. 아크의 힘으로 만들어진 태양과 달리 붉은 달은 조금씩 그 빛 을 잃어가고 있었다.\\n로스트아크 붉은달 페트라니아를 비추는 붉은 달\", metadata={'source': './files/chapter_one.txt'}),\n",
       " Document(page_content='로스트아크 붉은달 페트라니아를 비추는 붉은 달\\n본디 카제로스는 심연에서 태어난 존재였다. 그는 어둠에 침식된 심연을 증오하여 대우주 오르페우스와 페트라니아, 두 차원을 하나로 통 합하기를 원했지만 오르페우스로 넘어가는 차원의 균열을 만들어낼 방법을 알지 못했다. 혼돈의 생명체가 모두 페트라니아에서 소멸되어 가던 어느 날, 그곳에 남아있던 마지막 생존자가 카제로스를 찾아왔다. 그는 카제로스에게 “붉은 달이 꺼질 때, 차원이 뒤틀릴 것이다.”라는 예언을 남기고 사라졌다. 이후, 페트라니아를 완전히 지배하는데 성공한 카제로스는 그가 들려주었던 예언대로 붉은 달이 검게 물들기를 기다렸다. 시간이 지날수록 결코 가질 수 없는 태양에 대한 갈망, 아크에 대한 카제로스의 탐욕은 점차 커지고 있었다.\\n그리고 카제로스의 악마군단이 지배하게 된 페트라니아에서 혼돈의 생명체는 모두 소멸했다.\\n3.3. 군단의 탄생[편집]\\n카제로스는 혼돈에서 태어난 새로운 종족들을 오랜 시간 동안 관찰해 두각을 나타내는 악마들을 군단장으로 임명했다. 로스트아크 6인의악마군단장\\n카제로스를 섬기는 6인의 악마군단장', metadata={'source': './files/chapter_one.txt'}),\n",
       " Document(page_content='카제로스는 혼돈에서 태어난 새로운 종족들을 오랜 시간 동안 관찰해 두각을 나타내는 악마들을 군단장으로 임명했다. 로스트아크 6인의악마군단장\\n카제로스를 섬기는 6인의 악마군단장\\n카제로스가 가장 먼저 만들어낸 것은 몽환군단이었다. 그는 가장 냉정하고 잔인한 페트라니아 제일의 지략가이자 강대한 마법의 힘을 지 닌 ‘아브렐슈드’를 몽환군단장으로 임명했다. 아브렐슈드는 카제로스의 명령에 따라 악마들을 움직여 전 페트라니아를 뒤흔들었던 인물이 었다.\\n로스트아크 아브렐슈드\\n몽환군단장 아브렐슈드\\n질병의 힘을 가진 악마들을 통치하는 질병군단장의 자리는 ‘일리아칸’에게로 돌아갔다. 일리아칸은 불완전한 몸을 가지고 태어나 다른 악 마들이 가진 살덩이와 피를 흡수해 계속해서 생명을 유지하고 힘을 강화해가는 악마였다. 죽음과 생명의 경계에 있었던 그는 모든 것을 부 패시킬 수 있는 권능을 얻었고, 스스로 질병의 생명체들을 만들어내는 창조주이자 부패의 군주가 되었다.\\n로스트아크 일리아칸\\n질병군단장 일리아칸', metadata={'source': './files/chapter_one.txt'}),\n",
       " Document(page_content='로스트아크 일리아칸\\n질병군단장 일리아칸\\n한편, 페트라니아의 중심부에서는 오랫동안 마수들간의 치열한 전쟁이 벌어지고 있었다. 그 모든 마수들을 물리치고 지배한 것은 바로 ‘발 탄’이라는 이름의 악마였다. 검은 산을 일격에 무너뜨릴 수 있는 막강한 힘을 가진 발탄의 능력을 높이 산 카제로스는 그를 마수들을 이끄 는 군단장으로 임명했다.\\n로스트아크 발탄\\n마수군단장 발탄\\n욕망군단장으로는 몽마들의 여왕으로 군림했던 에키드나가 임명되었다. 그녀는 악마들의 마음을 빼앗아 원하는 것을 얻어내는 욕망의 군 주였다. 그러나 군단장의 일원이 된 에키드나는 자신의 자리에 만족하지 않았고, 카제로스가 가장 아끼는 악마 아브렐슈드의 위치를 탐내 기에 이른다. 그녀는 자신의 수하 비아키스를 이용해 아브렐슈드와 카제로스 사이를 이간질하려 했다. 그러나 비아키스는 오히려 이 계획 을 아브렐슈드에게 밀고한 뒤 에키드나를 암살한다. 이후 아브렐슈드는 공석이 된 욕망군단장 자리에 비아키스를 추천했고, 비아키스는 새로운 욕망군단장으로 임명된다. 하지만 비아키스 역시 자신의 욕망과 질투로 인해 아브렐슈드와 대립하게 된다.\\n로스트아크 비아키스 욕망군단장 비아키스', metadata={'source': './files/chapter_one.txt'}),\n",
       " Document(page_content='로스트아크 비아키스 욕망군단장 비아키스\\n쿠크세이튼은 페트라니아에서 아무런 두각을 나타내지 못했던 악마였다. 하지만 어느 날, 쿠크세이튼은 카제로스를 찾아가 다섯 번째 군 단장의 자리를 요구했다. 페트라니아의 지배자 앞에서도 쉴 새 없이 떠들어 대는 쿠크세이튼을 본 카제로스는 그를 다섯 번째 군단장으로 임명했다. 광기군단을 이끌게 된 쿠크세이튼은 다른 군단장들과는 달리 대량의 하급 악마들을 자신의 수하로 두었다. 그의 군단에 들어간 하급 악마들은 군단장에 대한 맹목적인 믿음을 바탕으로 광기의 힘을 얻게 되었고, 이후 광기군단은 그 어떤 악마도 무시할 수 없는 강력한 군단으로 성장해 나갔다. [7]\\n로스트아크 쿠크세이튼 광기군단장 쿠크세이튼', metadata={'source': './files/chapter_one.txt'}),\n",
       " Document(page_content=\"로스트아크 쿠크세이튼 광기군단장 쿠크세이튼\\n한편, 페트라니아 깊숙한 곳에서 나타나 홀로 대륙의 절반을 평정했던 어둠의 검사가 있었다. 태초부터 존재한 자들은 그에게서 수상한 기 운이 느껴진다며 카제로스에게 보고 했으나, 카제로스는 검사 ‘카멘’의 힘에 매료되어 그를 어둠군단장으로 임명하기에 이른다. 카멘은 다 른 군단장들과는 다르게 소수 정예로 군단을 구성했다. 하지만 그렇게 만들어진 악마의 기사들은 카멘의 통솔력을 바탕으로 카제로스의 군단 중에서도 가장 강력한 군단이 되었다.\\n로스트아크 카멘 어둠군단장 카멘\\n카멘을 마지막으로 마침내 여섯 개의 군단이 모두 완성되었다. 카제로스는 예언자가 이야기했던 차원의 균열이 열릴 때가 다가오고 있음 을 직감했다. 검게 물들기 시작한 붉은 달이 그 빛을 거의 잃어가고 있었기 때문이다.\\n4. 깨어난 가디언[편집]\\n4.1. 대주교의 국가 '세이크리아'의 타락[편집]\\n세이크리아에는 성기사단과 비밀조직 새벽의 사제들이 존재했다.\\n대외적으로는 성기사단의 활약을 내세웠지만, 사실 세이크리아의 가장 강력한 힘은 소수로 구성된 비밀 조직 '새벽의 사제'들이었다. 로스트아크 세이크리아\\n신성제국 <세이크리아>\", metadata={'source': './files/chapter_one.txt'}),\n",
       " Document(page_content=\"대외적으로는 성기사단의 활약을 내세웠지만, 사실 세이크리아의 가장 강력한 힘은 소수로 구성된 비밀 조직 '새벽의 사제'들이었다. 로스트아크 세이크리아\\n신성제국 <세이크리아>\\n아크라시아 대륙에서 가장 번영한 종족 인간은 빛의 신 루페온을 섬겼다. 그들은 성지 세이크리아를 만들고 ‘신의 대리인’이라는 위명 아래 다른 대륙들의 인간들을 통치해 왔다. 종교를 강요해 타 종족과 분쟁을 일으키던 세이크리아의 사제들은 신을 증명하고 자신들의 정의를 실현시키기 위해 아크라시아에서 사라져버린 태초의 힘 ‘아크’에 관심을 갖게 된다.\\n세이크리아의 대주교 테르메르 2세는 오랫동안 성지 라사모아에 있는 신전에 아크로 추정되는 고대의 결정체를 보관하고 있었다. 그 신비 한 힘을 탐닉하던 테르메르 2세는 더 큰 힘을 갈망하게 되었고, 마침내 세이크리아의 성기사단을 파견해 아크의 행적을 조사하기에 이른 다.\\n로스트아크 중간계\\n일곱 아크가 뿔뿔이 흩어진 중간계 대륙들\", metadata={'source': './files/chapter_one.txt'}),\n",
       " Document(page_content='로스트아크 중간계\\n일곱 아크가 뿔뿔이 흩어진 중간계 대륙들\\n테르메르 2세는 죽을 때까지 그의 오랜 숙원이었던 나머지 아크의 단서를 찾아내지 못했다. 하지만 그의 후계자 테르메르 3세는 그의 아 버지보다 훨씬 교활하고 탐욕스러운 인물이었다. 아크를 위해서라면 기사단의 희생도, 다른 대륙의 파괴도 거리낄 것이 없었다. 테르메르 3세는 수많은 성기사들을 희생시켰고 마침내 여섯 대륙에 아크가 숨겨져 있다는 것을 알아냈고, 신의 뜻이라는 미명아래, 아르테미스 연방 의 왕과 슈샤이어 대륙의 지도자로부터 평화적으로 아크를 인도 받았다. 또한 루페온을 섬기던 해저 종족 포시타의 도시 ‘포르파지’에서 바 다 깊숙이 잠겨 있던 아크를 찾아 내었다.', metadata={'source': './files/chapter_one.txt'}),\n",
       " Document(page_content='나머지 세 개의 아크는 로헨델에 자리한 여왕의 정원, 쿠르잔의 안타레스 산꼭대기, 그리고 거인 도메메크의 몸 속에 보관되어 있었다. 아 크의 힘에 눈이 먼 테르메르 3세는 거인 도메메크를 파괴하여 그의 몸 속에 있는 아크를 입수했고, 안타레스 산꼭대기의 아크를 얻기 위해 수많은 성기사단을 희생시켰다. 아크가 사라지자 용암을 분출시키기 시작한 안타레스 산은 쿠르잔의 모든 생명을 녹여버렸다. 이후 쿠르 잔은 그 어떤 생명도 살 수 없는 저주의 땅이 되어 버렸다.\\n로스트아크 아제나\\n로헨델의 여왕 아제나와 그녀의 몸에 공존하는 이난나[8]\\n테르메르 3세의 야욕은 곧 실현될 것 같았지만 로헨델에서 아크를 얻는 일은 그의 생각만큼 쉽지 않았다. 신이 만든 가장 강한 세 종족 중 하나로, 지혜의 신 크라테르로부터 막강한 마법의 힘을 부여 받은 실린들은 이난나, 아제나 두 여왕의 통치아래 폐쇄적이나 강대한 국가를 형성하고 있었기 때문이다.', metadata={'source': './files/chapter_one.txt'}),\n",
       " Document(page_content='실린 역사상 가장 두각을 나타내었던 쌍둥이 자매 이난나, 아제나는 로헨델의 마력핵이 붕괴되는 순간 자신들을 희생해 위기를 막아냈다. 이 사건으로 동생 이난나의 육체가 소멸되자 신목 엘조윈은 이난나의 영혼을 아제나의 육체에 전승시켜 하나의 몸에 두 명의 인격이 공존 할 수 있게 했다. 엘조윈으로부터 불멸의 힘을 얻게 된 실린여왕은 다른 종족들과의 교류를 차단한 뒤 실린과 정령들을 위한 나라를 만들어 다스렸다.\\n로스트아크 로헨델\\n실린 종족의 마법 강국 <로헨델>에 뿌려진 불화의 씨앗', metadata={'source': './files/chapter_one.txt'}),\n",
       " Document(page_content='로스트아크 로헨델\\n실린 종족의 마법 강국 <로헨델>에 뿌려진 불화의 씨앗\\n테르메르 3세는 로헨델과 전쟁을 일으키면 세이크리아도 온전치 못할 것이라는 사실을 알고 있었다. 이때, 세이크리아의 사제들이 한가지 묘책을 떠올렸다. 실린여왕 아제나와 거인 도메메크의 친분을 이용하기로 한 것이다. 테르메르 3세는 생명을 다한 도메메크가 세이크리아 근방에서 죽음을 맞이했으며 그 심장을 오랜 친구였던 실린여왕에게 인도한다는 명목으로 로헨델에 칙사를 파견했다. 그리고 거인 도메메 크를 파괴하고 입수했던 심장을 아제나에게 전달한다. 아제나는 친구의 심장을 가져와 준 세이크리아의 칙사들에게 호의를 베풀며 도메메 크의 영혼을 기리는 의식을 치르기까지 며칠간 여왕의 정원에서 머무는 것을 허락했다. 영혼 의식이 있던 날, 세이크리아의 비밀조직 ‘새벽 의 사제’들은 여왕의 정원에 잠입해 아크를 훔치는 데 성공한다. 하지만 예기치 못한 문제가 발생했다. 아크를 훔치던 중 발각된 새벽의 사 제들이 일곱 명의 실린들을 살해하고 만 것이다. 그 누구도 이것이 거대한 전쟁의 방아쇠가 되리라고는 생각하지 못했다.\\n4.2. 전쟁의 시작[편집]', metadata={'source': './files/chapter_one.txt'}),\n",
       " Document(page_content='4.2. 전쟁의 시작[편집]\\n아크를 지키고 있던 실린들이 살해당하고 거인 도메메크의 죽음마저 세이크리아의 소행이었다는 사실을 알게 된 아제나는 분노했다.\\n육체에 함께 공존하고 있던 이난나의 만류조차 통하지 않았던 아제나는 세이크리아에 전쟁을 선포하기에 이른다. 거인족, 우마르족과 정 령들이 로헨델의 편에 섰고, 세이크리아 역시 대주교를 따르는 전 대륙의 왕에게 로헨델과의 전쟁에 참여할 것을 요구했다. 대주교의 세력 권에 있었던 아르테미스, 기옌, 포르파지는 세이크리아를 지원했고, 중립을 유지하던 슈샤이어는 ‘꺼지지 않는 불꽃’을 주겠다는 제안에 설 득 당해 뒤늦게 합류하게 된다.\\n로스트아크 슈샤이어1\\n로스트아크 슈샤이어2\\n혹한의 땅에 위치한 워리어의 본산 <슈샤이어>', metadata={'source': './files/chapter_one.txt'}),\n",
       " Document(page_content='로스트아크 슈샤이어1\\n로스트아크 슈샤이어2\\n혹한의 땅에 위치한 워리어의 본산 <슈샤이어>\\n슈샤이어 대륙은 이그하람과의 전쟁이 시작된 때 불의 악마들을 처치하기 위해 빙결의 신 시리우스가 악마들과 함께 대지를 얼려버리면서 영원히 얼어붙은 땅이 되어버렸다. 그런 이유로 혹독한 환경에서 살아가야 하는 그들에게 있어 ‘꺼지지 않는 불꽃’은 거부할 수 없는 제안 이었다. 슈샤이어의 참전 결정으로 세이크리아는 로헨델에 충분히 맞설 연합군을 구축, 지체하지 않고 로헨델로 출격했다. 그리하여 오랜 시간 평화를 유지해온 아크라시아의 대륙에서 유래 없는 대 전쟁이 발발했다. 이것은 포튼쿨[9] 전쟁이라고 명명된, 아무것도 얻은 것이 없 는 공허하고 비극적인 전쟁의 시작이었다.\\n세이크리아는 막강하고 거대한 병력을 움직였으나 실린이 지닌 마법의 힘은 그들의 예상을 훨씬 뛰어넘는 것이었다. 최전방에 선 실린여 왕 아제나의 지휘 아래, 세이크리아의 연합군은 하나, 둘 괴멸되어 갔다. 아크라시아 대륙에 불의 비가 쏟아지더니 거대한 해일과 함께 회 색 폭풍이 불어 닥쳤다. 실린들의 마법은 세이크리아 연합을 산산조각 내버렸다.', metadata={'source': './files/chapter_one.txt'}),\n",
       " Document(page_content='소수 정예로 구성된 실린의 군사들도 거대한 세력들에 밀리지 않았다. 로헨델을 돕던 거인, 우마르, 정령들의 힘도 엄청나게 강력하여 세이 크리아를 압박했다. 로헨델과 그 연합의 예상을 훨씬 뛰어넘는 힘에 테르메르 3세는 당황할 수밖에 없었고, 아크의 힘을 개방하는 것만이 이 전쟁에서 연합군이 승리하는 유일한 길이라 믿었다.\\n4.3. 깨어난 가디언[편집]\\n아크라시아에서 벌어진 전쟁은 시간이 지나갈수록 더 많은 종족과 세력을 끌어들였다.\\n대륙이 파괴되고 분노한 바다가 거인들의 섬을 집어 삼켰다. 수많은 종족들이 희생되었으며, 흘러간 피로 인해 세계수가 시들어 갔다. 하지 만 아크에 눈이 멀어버린 세이크리아는 전쟁을 멈추지 않았다. 대지의 울부짖음 끝에 쿠르잔에서 용암이 분출되었고, 흘러나온 용암과 재 로 뒤덮인 아크라시아는 마치 혼돈의 땅 페트라니아를 보는 것 같았다. 루페온이 창조한 생명의 별 아크라시아는 다시 한 번 전쟁으로 인해 파멸의 위기에 몰리고 있었다.\\n로스트아크 깨어난가디언 다시 깨어난 가디언들', metadata={'source': './files/chapter_one.txt'}),\n",
       " Document(page_content='길어진 포튼쿨 전쟁으로 아크라시아의 생명이 위태로워지자 최초의 균열을 막기 위해 만들어졌던 혼돈과 빛의 생명체 가디언들이 깨어났 다. 가장 먼저 눈을 뜬 것은 가디언들의 수장 에버그레이스였다. 그를 필두로 가디언들이 하나, 둘 잠에서 깨어나기 시작했다. 가디언들의 목표는 명확했다. 생명의 별 아크라시아를 파괴하는 자를 벌하는 것이었다. 비록 그 대상이 신과 악마라고 할지라도 가디언들의 사명은 별 을 지켜내는 것이었다. 가디언들은 그들이 가진 사명을 다하기 위해 별을 파괴하는 모든 이들을 공격했다. 이로 인해 포튼쿨 전쟁은 새로 운 국면을 맞이하게 된다. 세이크리아를 침공한 에버그레이스는 수도 라사모아를 파괴하고 테르메르 3세를 죽인 뒤 루페온 신전에 있던 아크를 가져갔다. 이후 에버그레이스는 아르테미스 대륙 동쪽 바다 어딘가에 더 이상 인간들이 아크에 접근하지 못하도록 자신의 둥지를 만들어 아크를 보관했다. 수도는 물론 대주교 테르메르 3세를 잃은 세이크리아, 그리고 가디언으로부터 신목 엘조윈을 공격받은 로헨델은 결국 종전을 선택할 수밖에 없었다. 모든 것이 이대로 끝난 것처럼 보였지만 이는 가장 치열한 전쟁의 서막에 불과했다. 포튼쿨 전쟁과 잠 에서 깨어난 가디언들의 움직임으로 인해 아크라시아에 차원의 균열이 생겨나기 시작했던 것이다.', metadata={'source': './files/chapter_one.txt'}),\n",
       " Document(page_content='4.4. 가디언 슬레이어의 등장[편집]\\n세이크리아와 로헨델은 종전을 선택했지만 가디언은 침공을 멈추지 않았다. 로스트아크 베히모스\\n카단에게 죽임을 당한 베히모스\\n종전 이후, 에버그레이스는 아크라시아 종족들의 심판을 두고 고민에 빠졌다. 수 많은 가디언들은 별을 수호하겠다는 본능에 의해서 움직 였지만 가디언 바르칸과 가디언 루는 달랐다. 이들은 에버그레이스가 창조한 가디언 중 유일하게 스스로의 의지를 가지고 행동할 수 있는 가디언이었으며, 언어를 구사할 수 있는 지혜를 가진 가디언이었다. 의지를 가진 세 가디언은 약간의 의견차이를 보였다. 가디언 루는 종족 들을 믿고 가디언들이 다시 잠들어야 한다고 주장했지만 가디언 바르칸은 이미 탐욕스러워진 종족들을 소멸시켜 아크라시아를 정화시켜 야 한다고 주장한다. 바르칸과 루의 주장 사이에서 고심하던 에버그레이스는 한 번 더 종족들에게 기회를 주기로 결심한다. 바르칸도 가디 언의 신인 에버그레이스의 의견을 존중했으며 종족들을 벌하고 있는 모든 가디언들을 불러들여 다시 한 번 잠들 준비를 시작한다. 하지만 이 과정에서 문제가 발생했다.\\n로스트아크 카단\\n최초의 가디언 슬레이어 카단', metadata={'source': './files/chapter_one.txt'}),\n",
       " Document(page_content='로스트아크 카단\\n최초의 가디언 슬레이어 카단\\n바르칸 휘하의 가디언 베히모스가 고작 한 명의 인간에게 죽임을 당한 것이다. 이것은 가디언이 아크라시아의 종족에게 살해당한 첫 번째 사건이었다. 분노한 바르칸에게 에버그레이스는 평정을 요구했으나 바르칸은 처음으로 그의 명령에 불응한다. 바르칸은 복수를 위해 ‘가 디언 슬레이어’라 불리게 된 남자를 찾아갔다. 바르칸은 화염을 내뿜으며 그를 소멸시키려 했지만 예상 외의 일이 벌어지고 말았다. 남자는 바르칸과 호각으로 전투를 벌였고, 열흘이 지나도록 싸움은 끝날 기미가 보이지 않았다. 그때였다. 지각 변동이 일어나고 하늘에 검은 구름 이 드리워지더니 차원에 균열이 생겨나기 시작했다. 균열로부터 페트라니아의 악마들이 쏟아져 나오기 시작한 것을 본 바르칸과 가디언 슬레이어는 전투를 중단했다. 아크라시아에 위기가 찾아온 것을 느낀 바르칸은 에버그레이스에게로 향하기 전, 자신과 싸웠던 남자에게\\n이름을 물었다. “카단.” 남자는 혼잣말을 하듯 자신의 이름을 읊조리고는 대륙을 떠났다.\\n5. 사슬 전쟁[편집]\\n5.1. 사슬 전쟁의 발발[편집]', metadata={'source': './files/chapter_one.txt'}),\n",
       " Document(page_content='이름을 물었다. “카단.” 남자는 혼잣말을 하듯 자신의 이름을 읊조리고는 대륙을 떠났다.\\n5. 사슬 전쟁[편집]\\n5.1. 사슬 전쟁의 발발[편집]\\n사슬 전쟁. 긴 사슬처럼... 오랜 기간, 꼬리에 꼬리를 물고 발생한 이 참혹한 전쟁을 사람들은 그렇게 불렀다.\\n차원의 균열이 열리자 어둠군단의 악마들이 가장 먼저 쏟아져 나왔다. 어둠군단장 카멘은 엄청난 속도로 어둠군단을 지휘하며 순식간에 아크라시아를 파괴해 나가기 시작했다. 아크라시아로 건너온 카제로스는 한참 동안 대우주 오르페우스에 떠 있는 태양을 바라보았다. 그 가 갈망했던 거대한 태초의 힘이 그곳에 있었다. 아르테미스 대륙 동부에 도착한 카제로스는 악마 군단을 결집시키고 전 세계로 군단을 내 보내기 시작했다. 각 대륙의 종족들은 악마들의 힘에 속수무책으로 당할 수 밖에 없었다.\\n로스트아크 사슬전쟁\\n악마와 중간계 종족 사이에 벌어진 <사슬 전쟁>', metadata={'source': './files/chapter_one.txt'}),\n",
       " Document(page_content=\"로스트아크 사슬전쟁\\n악마와 중간계 종족 사이에 벌어진 <사슬 전쟁>\\n인간들은 신에게 기도했다. 종족들 모두가 신을 찾으며 울부짖었다. 하지만 하늘을 두드리는 비명소리를 신은 외면했다. 그 어느 곳에서도 신들은 나타나지 않았다. 모든 희망이 잿빛으로 변하고 아르테미스의 대륙에 멸망의 그림자가 드리워질 때쯤 뜻밖에도 재앙이라 불리던 가디언이 나타나 악마군단과 격돌했다. 에버그레이스가 카제로스의 진격을 저지했고 바르칸이 어둠군단장 카멘을 막아 섰다. 다른 악마군 단들도 별의 수호자인 가디언의 습격에 기세가 꺾이고 말았다. 그야말로 팽팽한 대결이 오랜 시간 동안 지속되었다. 하지만 악마들을 막는 것에만 열중했던 가디언들과는 달리 카제로스는 페트라니아에서 넘어온 '태초부터 존재한 자'들의 존재를 숨기고 있었다. 그리고 악마군단 이 가디언과 전투를 지속하는 동안 카제로스는 태초부터 존재했던 자들과 함께 아크라시아 대륙에 '붉은 달'을 만들어냈다. 아크라시아의 하늘에 두 개의 달이 떠올랐다. 자고라스 산 밑 평야에 결집한 악마들은 붉은 달이 뜨자 더욱 난폭해졌다.\", metadata={'source': './files/chapter_one.txt'}),\n",
       " Document(page_content=\"붉은 달은 카제로스가 가진 심연의 불꽃을 더욱 강하게 만들었고, 가디언들은 수세에 몰렸다. 본디 혼돈의 힘에 더 가까웠던 바르칸은 심연 의 불꽃을 사용하는 카제로스의 힘에 매료되어 악마군단의 편에 서기로 결심한다. 바르칸과 그를 따르던 일부 가디언들이 에버그레이스를 배신하자 상황은 급격히 악화된다. 바르칸이 막아 섰던 어둠 군단장 카멘이 카제로스를 도와 에버그레이스를 공격하기 시작했던 것이다. 거대한 힘을 가지고 있던 에버그레이스였으나 카제로스와 카멘의 협공을 이겨내지 못했고, 결국 큰 부상을 입게 되었다. 기세를 몰아 악마 군단은 아크라시아 정복을 눈앞에 두고 있었다. 하지만 절체절명의 순간, 아크라시아 대륙의 마지막 희망이 빛나기 시작했다. 루테란이라 는 인간 기사가 전장에 나타난 것이다.\\n5.2. 에스더와 악마군단장의 격돌[편집]\\n루테란이 등장했을 때는 가디언 바르칸의 배신으로 인해 전세가 역전된 상황이었다. 로스트아크 루테란(도시)\\n훗날 루테란이 세운 기사의 도시 '루테란'\", metadata={'source': './files/chapter_one.txt'}),\n",
       " Document(page_content=\"루테란이 등장했을 때는 가디언 바르칸의 배신으로 인해 전세가 역전된 상황이었다. 로스트아크 루테란(도시)\\n훗날 루테란이 세운 기사의 도시 '루테란'\\n아크라시아가 절망적인 상황에 놓일 무렵 루테란과 에스더들이 등장했다. 루테란을 필두로 카단, 아제나, 시엔, 갈라투르, 샨디, 니나브가 전장에 도착했다. 훗날 찬란한 별이라는 뜻의 영웅, ‘에스더’라 불리게 된 이들은 갈라투르가 만든 무기와 방어구를 차고 전쟁에 뛰어 들었 다. 에버그레이스의 가디언들과 대륙의 종족들도 이들을 도와 총력전을 준비했다. 더는 물러설 수 없는 최후의 격전이 이제 막 시작되려 하고 있었다.\\n아크라시아의 종족들은 악마들을 상대로 물러서지 않았다. 루테란과 에스더는 이 치열한 전장을 지휘했다. 가디언들이 태초부터 존재한 자들을 막아내는 동안, 에스더들은 군단장을 상대로 호각의 전투를 벌였다. 사슬전쟁에서 가장 치열한 전투를 벌인 것은 카단과 카멘이었 다. 격돌한 두 힘은 지각변동을 일으킬 정도로 거대해 아크라시아의 종족들도, 페트라니아의 악마들도 둘의 대결에 끼어들 수 없었다.\", metadata={'source': './files/chapter_one.txt'}),\n",
       " Document(page_content='수많은 악마들을 소멸시키던 아제나의 앞에 몽환군단장 아브렐슈드가 등장했다. 두 명의 강력한 마법이 서로 부딪히자 아크라시아 대륙 곳곳에 거대한 폭발이 일어났다. 그 폭발로 인해 주변은 잿더미가 되어 버렸다. 차분하게 대응하는 아브렐슈드와, 반대로 강한 분노를 표출 하며 악마들을 가루로 만들어버린 아제나의 모습은 누가 악마인지 잊게 만들 정도였다.\\n루테란은 에버그레이스를 도와 카제로스에 맞섰지만 역부족이었다. 갈라투르가 만들어 준 최강의 무기인 패자의 검은 카제로스의 일격에 부러져 버렸고, 도울 틈을 보던 카단은 카멘을 상대하기에도 벅찬 상황이었다. 에버그레이스는 루테란의 앞으로 나서며, 전장에서 이탈하 라고 말했다. 이후 에버그레이스는 가디언 ‘미스틱’과의 교신을 통해 자신의 둥지에 숨겨놓은 일곱 개의 아크를 가져올 것을 명했다. 스스 로의 몸을 안개로 바꿀 수 있었던 미스틱은 전장에서 빠져나가 에스더들이 악마군단장들과 치열한 격전을 벌이는 동안 일곱 개의 아크를 운반했다.', metadata={'source': './files/chapter_one.txt'}),\n",
       " Document(page_content=\"갈라투르와 마수군단장 발탄의 싸움 또한 치열하게 진행되고 있었다. 하지만 오랜 싸움으로 체력이 고갈된 갈라투르가 위기에 몰리기 시 작했다. 더 이상 버틸 힘이 없는 갈라투르가 발탄에게 최후의 일격을 당하려는 순간 전장에서 이탈했던 루테란이 발탄의 앞을 막아 섰다. 그는 카제로스와 싸우다 부러진 패자의 검으로 발탄에게 맞섰다. 패자의 검은 갈라투르가 만든 것으로 사용자의 의지를 통해 진정한 힘을 발휘하는 검이었고 그 검을 가리켜 '투지의 검'이라고 부르기도 했다. 루테란은 부러진 패자의 검에 의지를 담아 투기의 날을 만들어 마수 군단장 발탄에게 큰 상처를 남긴다.\\n로스트아크 미스틱\\n위기의 순간 7개의 아크를 가지고 전장에 복귀한 가디언 '미스틱'\", metadata={'source': './files/chapter_one.txt'}),\n",
       " Document(page_content=\"로스트아크 미스틱\\n위기의 순간 7개의 아크를 가지고 전장에 복귀한 가디언 '미스틱'\\n하지만 지친 것은 갈라투르만이 아니었다. 가디언들과 협력해 비아키스를 궁지에 몰아넣었던 니나브, 교활한 쿠크세이튼을 상대로 흔들림 없이 대적한 샨디, 질병의 힘을 가진 일리아칸을 상대로 물러서지 않고 맞선 시엔까지. 모두 선전했지만 전투가 길어지자 힘의 균형은 급격 히 무너지기 시작했다. 전투를 이끌던 에버그레이스도 더 이상 상처 입은 몸으로 버티기엔 역부족이었다. 모두가 절망에 빠지기 직전, 에스 더들을 구한 것은 아크를 가지고 돌아온 가디언 미스틱이었다.\\n5.3. 막을 내린 사슬 전쟁[편집]\\n가디언 미스틱은 에버그레이스가 숨겨두었던 아크를 모두 루테란에게 전달했다.\\n루테란은 전달받은 7개의 아크의 힘을 개방하고 태초의 빛 아크의 힘은 카제로스에 대항할 무기가 되어 에스더들에게 전해졌다. [10]\", metadata={'source': './files/chapter_one.txt'}),\n",
       " Document(page_content='루테란은 전달받은 7개의 아크의 힘을 개방하고 태초의 빛 아크의 힘은 카제로스에 대항할 무기가 되어 에스더들에게 전해졌다. [10]\\n루테란이 발동시킨 아크의 힘을 얻은 에스더들은 혼돈의 존재들을 밀어붙이기 시작했다. 에스더들의 위세에 악마들이 주춤한 사이, 가디 언들이 가세했고 그들의 도움을 받은 에스더들은 아크의 힘으로 카제로스를 봉인하기 시작했다. 여러 갈래로 나눠진 빛들이 거대하고 성 스러운 기둥으로 변하며 신의 창처럼 지상으로 내려와 꽂혔다. 이 기둥들이 결계를 만들어 악마들을 소멸시켰고 카제로스를 옥죄기 시작 했다. 그리고 결계 안의 모든 악마들을 소멸시켰다.', metadata={'source': './files/chapter_one.txt'}),\n",
       " Document(page_content='태초의 빛으로부터 생성된 루페온의 긴 사슬들로 인해 카제로스의 육체가 봉인되기 시작하자, 아크라시아와 페트라니아 두 세계에 공명하 고 있었던 카오스게이트 또한 서서히 닫히기 시작했다. 봉인을 막을 수 없었던 카제로스는 영혼을 분리하여 태초부터 존재한 자들, 악마군 단장들과 함께 페트라니아로 돌아갈 수 밖에 없었고, 에스더들은 마침내 카제로스의 육체를 봉인해내는데 성공한다. 이후 에스더들은 봉 인한 카제로스의 육체를 아무도 접근할 수 없는 안타레스 산의 심장부에 가두어 두기로 한다. 아크라시아에 열렸던 모든 카오스게이트가 닫히자 붉은 달은 빛을 잃어가기 시작했다.\\n로스트아크 봉인된카제로스\\n카제로스 육체의 봉인과 함께 막을 내린 <사슬 전쟁>\\n이후, 일곱 개의 아크는 다시 빛을 잃고 지상으로 떨어졌다. 루테란은 이 일곱 개의 아크를 에스더들에게 나누어 주며, 시련을 통과하는 자 만이 아크를 모을 수 있도록 전 세계에 아크를 나눠 숨기자고 제안했다. 탐욕에 물든 자가 아크를 차지하지 않게 하기 위해서였다. 에스더 들은 루테란의 의견에 찬성했고, 전쟁이 끝난 후 대륙 곳곳에 아크를 숨겼다.\\n로스트아크 일곱개의아크\\n중간계 곳곳에 다시 흩어진 일곱 조각의 아크[11]', metadata={'source': './files/chapter_one.txt'}),\n",
       " Document(page_content='로스트아크 일곱개의아크\\n중간계 곳곳에 다시 흩어진 일곱 조각의 아크[11]\\n그렇게 사슬전쟁은 막을 내렸다. 하지만, 이는 카제로스와의 첫 번째 조우였을 뿐이었다. 쿠르잔의 들끓는 용암 속에서도 카제로스의 육신 은 소멸하지 않았고, 페트라니아에 돌아간 카제로스의 영혼은 봉인이 풀려나는 날만을 기다리고 있었다.\\n5.4. 잠든 가디언들, 새로운 시작[편집]\\n사슬전쟁이 끝난 후, 아크라시아는 많은 변화를 맞이하게 되었다.\\n가디언들은 에버그레이스를 따르는 자들과 바르칸을 따르는 자들로 나뉘어졌는데, 바르칸을 따르는 자들은 차원의 균열이 닫힐 때 악마들 을 따라 페트라니아로 향했다. 에버그레이스는 파괴된 대륙을 복구시키는 것은 이곳 종족들의 몫이라는 말을 남긴 채, 가디언의 숙명에 따 라 아크라시아 대륙 어딘가로 사라졌다. 이에, 에버그레이스를 따르던 가디언들도 긴 잠에 들었다. 가디언들이 물러가던 시기, 가디언 ‘루’만은 세상에 남아 인간들 곁에서 그들이 다시 일어서는 것을 지켜보겠다고 에버그레이스에게 간청했다. 에버그레이스는 루의 뜻을 존 중하여 그가 인간들 곁에 머무는 것을 허락했다.', metadata={'source': './files/chapter_one.txt'}),\n",
       " Document(page_content=\"한편, 인간들은 악마들과의 전쟁을 종식시킨 가디언들을 재앙이 아닌 '신의 성물'로 기록했고 일곱 명의 영웅들을 '에스더'라 칭송하며 그들 의 업적을 기렸다. 각 종족들은 대륙을 정비하기 시작했고 그 과정에서 새로운 국가들이 건국되기 시작했다.\\n@. 개척의 500년[편집]\\n6.1. 풍류의 정원, 애니츠[편집]\\n사슬전쟁 이후, 에스더 시엔은 자신을 따르던 사람들과 함께 아크라시아의 동쪽으로 향했다.\", metadata={'source': './files/chapter_one.txt'}),\n",
       " Document(page_content='@. 개척의 500년[편집]\\n6.1. 풍류의 정원, 애니츠[편집]\\n사슬전쟁 이후, 에스더 시엔은 자신을 따르던 사람들과 함께 아크라시아의 동쪽으로 향했다.\\n긴 여정 끝에 벚꽃이 만개한 아름답고 풍요로운 땅을 발견한 사람들. 하지만 그곳엔 사슬전쟁으로 다친 몸을 회복중인 가디언 루가 있었 다. 전쟁에서 루와 만난 적이 있었던 시엔은 그를 찾아가 자신을 포함한 사람들이 그곳에 정착해도 되는지를 물었다. 처음에 루는, 페트라 니아의 악마들로 인해 오염된 자신의 몸이 사람들을 해칠 것을 걱정해 떠나라고 했다. 하지만 다시 한 번 시엔이 찾아가자 한 가지 조건을 걸고 정착을 허락했다. 그것은 바로, 에스더 시엔에게 인정 받은 자가 아니면 인간을 자신의 성역에 들이지 말라는 것이었다. 시엔은 조건 을 받아들였다. 이후, 풍요의 대지에 정착한 사람들은 대륙을 ‘애니츠’라 명명하고 자신들만의 독특한 문화를 발전시켜 나갔다. 로스트아크 중간계지도(사슬전쟁...\\n동쪽에 새로 생긴 나라 <애니츠>', metadata={'source': './files/chapter_one.txt'}),\n",
       " Document(page_content='동쪽에 새로 생긴 나라 <애니츠>\\n사슬전쟁으로 악마들에게 입은 상처가 컸던 가디언 루는 스며든 어둠을 견뎌내며 서서히 몸을 회복해 갔다. 그러던 어느 날, 에스더 시엔이 자신의 몸 속에 있던 힘을 제어하지 못하는 상황이 발생했다. 시엔이 힘에 먹힐 위험에 처하게 되자 루는 자신이 나서 사태를 진정시키려 했다. 하지만 힘을 사용함과 동시에 억제되어 있던 어둠이 상처를 통해 분출되었고, 이는 애니츠 곳곳에 스며들었다. 땅에 스며든 어둠의 영향으로 애니츠 대륙의 사람들은 서로 다투기 시작했다. 다툼은 전쟁을 만들었고, 전쟁은 희생을 낳았다. 전장에 흐른 피는 알 수 없는 틈 의 경계까지 흘러갔고, 얼마 지나지 않아 페트라니아로 돌아가지 못한 악마들이 피 냄새를 맡고 몰려들기 시작했다.\\n로스트아크 애니츠1\\n로스트아크 애니츠2\\n격투가 클래스의 시작 마을이기도 한 동방 대륙 <애니츠>', metadata={'source': './files/chapter_one.txt'}),\n",
       " Document(page_content='로스트아크 애니츠1\\n로스트아크 애니츠2\\n격투가 클래스의 시작 마을이기도 한 동방 대륙 <애니츠>\\n시엔은 애니츠의 무투가들과 함께 대륙을 뒤덮은 악마들을 하나, 둘 처리해 나갔다. 수 개월 간의 격전 끝에 악마들이 모두 사라지자 애니 츠 대륙엔 다시 평화가 찾아왔다. 스스로의 불안정함을 경계한 시엔은 자신과 함께 싸웠던 무투가들에게 애니츠를 맡긴 뒤, 루가 있는 거울 계곡으로 자취를 감췄다. 시엔의 뜻을 받든 적운과 연이삭이라는 무투가는 ‘대사부 시험’을 통해, 모두의 의견에 귀를 기울여 줄 지혜로운 자를 구해 정치를 맡겼다. 이후 사백 년 동안 애니츠는 천혜의 자연환경, 풍부한 자원을 바탕으로 문화와 무역을 발전시켜 현재의 모습으로 발전했다.\\n6.2. 데런 학살과 페이튼[편집]\\n사슬전쟁이 아크라시아 대륙에 남긴 것은 파괴된 문명과 악마들에 대한 공포심만이 아니었다.', metadata={'source': './files/chapter_one.txt'}),\n",
       " Document(page_content='6.2. 데런 학살과 페이튼[편집]\\n사슬전쟁이 아크라시아 대륙에 남긴 것은 파괴된 문명과 악마들에 대한 공포심만이 아니었다.\\n전쟁이 끝나고 어느 정도 시간이 흐른 뒤에 악마와 인간이 반으로 섞인 종족이 생겨났다. 그들의 육체는 흡사 악마와 같았고 악마와 비슷한 힘을 지니게 되었는데 사슬전쟁으로 인해 악마에 대한 공포가 남아있던 아크라시아의 종족들은 이러한 자들에게 강한 적대심을 드러냈다. 가장 큰 반감을 보인 것은 대주교의 국가 세이크리아였다.\\n로스트아크 폭발한붉은달\\n데런은 붉은 달이 부서지면서 생긴 가루에 노출된 인간이 변화한 종족이라는 설이 유력하다.', metadata={'source': './files/chapter_one.txt'}),\n",
       " Document(page_content=\"세이크리아는 악마의 씨앗을 아크라시아에서 축출해야 한다며 '신의 뜻'이라는 명목아래 대규모 학살을 감행했다. 악마의 모습을 가진 것 외에는 어떠한 문제도 일으키지 않았던 종족들에게 말이다. 타국은 이를 방관했고, 이들은 악마의 힘을 가지고도 저항하지 않았는데, 겨우 살아남아 도망친 이들은 대륙을 떠돌 수밖에 없었다. 그들은 스스로를 고대어로 ‘버려진 것’이라는 뜻의 데런이라 칭하고, 살아남기 위해 저주받은 땅 페이튼으로 향한다. 사슬전쟁의 상처만이 남은 버려진 땅 페이튼. 그곳에서 유일하게 생명이 자라는 곳에 정착한 데런들은 최 소한의 자원으로 생명을 연명해갔다. 살아있을지언정 그들 앞에 놓인 선택지는 많지 않았다. 자멸하거나, 살해당하는 것. 그것도 아니면 스 스로 생존하는 것이 전부였다. 삶과 죽음 앞에서 생존을 선택할 수 밖에 없었던 데런들은, 수련을 통해 악마의 힘을 제어하려 노력했다. 수 백 년간의 시행착오 끝에 스스로에게 내재된 악마성은 숨길 수 있게 되면서 평소에는 인간의 모습을 하고 살아갈 수 있었다. 스스로를 통제 하지 못하게 되면 악마화가 진행되었지만 페이튼의 데런들은 그 힘마저도 언젠가 악마들과의 전쟁이 시작되면 필요해 질 날이 올 것으로 믿었고, 그 힘은 '어떤 의미'를 가지고 신들이 자신들에게 부여한 것이라고 굳게 믿었다.\", metadata={'source': './files/chapter_one.txt'}),\n",
       " Document(page_content=\"로스트아크 아만의눈물 사제 '아만'도 데런 종족이다.\\n하지만 데런들 중 일부는 자신들을 악마로 몰아간 세이크리아를 저주했고 악마의 힘 또한 숨기려 하지 않았다. 악마의 힘을 극대화하려는 그들의 시도는 빈번히 다른 데런들과 충돌했다. 이념적 갈등은 점점 더 깊어졌고, 데런은 결국 두 세력으로 분화했다.\\n이후, 분화된 데런들은 각자의 이유로 카제로스의 부활을 기다렸다. 어떤 데런들은 세상에 복수할 더욱 강한 힘을 얻기 위해서, 또 다른 데 런들은 이 모든 일의 원흉인 카제로스를 자신들의 손으로 처단하기 위해서.....\\n6.3. 분열된 로헨델과 베른의 탄생[편집]\\n사슬전쟁 시기, 실린들이 가진 마법의 힘을 경계했던 몽환군단장 아브렐슈드는 감시가 소홀한 틈을 타 로헨델에 잠입했다.\", metadata={'source': './files/chapter_one.txt'}),\n",
       " Document(page_content='6.3. 분열된 로헨델과 베른의 탄생[편집]\\n사슬전쟁 시기, 실린들이 가진 마법의 힘을 경계했던 몽환군단장 아브렐슈드는 감시가 소홀한 틈을 타 로헨델에 잠입했다.\\n몽환군단장 아브렐슈드는 실린들의 힘을 약화시키기 위해 아제나를 섬기는 제나일의 실린들에게 접근했다. 제나일로 침투한 아브렐슈드 는 마법에 대한 열망을 이용해 실린들을 조종하기 시작했다. 환혹된 실린들은 거대한 마법을 도시 내에서 폭발시켜 버렸고, 아제나가 다급 히 도착했을 때 이미 제나일은 붕괴되어 폐허만이 남아있을 뿐이었다. 전쟁이 끝난 후, 환혹에서 깨어난 제나일의 실린들은 실린여왕에게 용서를 구하지만 아제나는 제나일을 붕괴시킨 그들을 이름없는 땅으로 추방하기로 결정한다. 마법의 두려움을 알게 된 실린들이 제나일의 실린들을 배척할까 염려해서였다. 아제나의 뜻을 알고 있었던 이난나는 조용히 그들의 이주를 돕는다.\\n로스트아크 베른1\\n로스트아크 베른2\\n조화와 창조, 발전의 땅 <베른>', metadata={'source': './files/chapter_one.txt'}),\n",
       " Document(page_content='로스트아크 베른1\\n로스트아크 베른2\\n조화와 창조, 발전의 땅 <베른>\\n아제나는 떠나간 제나일의 실린들이 새로이 정착하게 될 땅의 이름을 ‘베른’이라 지어주었다. 베른으로 건너간 실린들은 제나일을 이끌었 던 ‘에아달린’을 여왕으로 옹립했다. 여왕이 된 에아달린은 소통과 화합을 위해 이 땅에 살고 있던 다른 종족들. 오크, 트롤, 고블린 들을 찾 아가 손을 내밀었다.\\n결국 현재까지도 세 종족과의 화합은 이루어지지 못했지만 에아달린은 조화와 창조, 발전을 중시하는 제나일의 가르침을 잊지 않고 실천 해 나갔다. 그것이 진보된 성향의 실린들과 함께 베른을 건국한 이념이었기 때문이다. 그렇게 베른으로 이주한 실린들은 다양한 종족과 그 들의 문화양식을 받아들여 세계의 중심 세력으로 자리 잡을 수 있었다.\\n6.4. 케나인의 탄생[편집]\\n사슬전쟁 이후, 세이크리아는 새로운 대주교 체제하에 문명을 발전시켜 나가기 시작했다.', metadata={'source': './files/chapter_one.txt'}),\n",
       " Document(page_content='6.4. 케나인의 탄생[편집]\\n사슬전쟁 이후, 세이크리아는 새로운 대주교 체제하에 문명을 발전시켜 나가기 시작했다.\\n대주교 ‘다리우스’는 아크에 눈이 멀어 포튼쿨 전쟁을 일으킨 테르메르 가문을 세이크리아에서 파문했고, 그들의 칼과 방패 역할을 했던 성 기사단도 해체시켰다. 이 급진적인 개혁은 세이크리아를 오랜 세월 동안 지켜온 새벽의 사제와 상아탑에서 의학과 마법, 과학을 연구하던 학자들에게까지 영향을 미쳤다. 다리우스는 학자들의 이러한 연구가 주신 루페온의 의지에 반하는 것이라고 주장했다. 그는 상아탑을 이 단으로 규정하고 탄압하기 시작한다. 그러나 상아탑 학자들은 연구에 대한 뜻을 굽히지 않았고, 결국 세이크리아 대륙으로부터 추방되기 에 이른다. 추방당한 학자들은 자신들의 연구를 완성시킬 환경을 찾아 세계를 떠돌던 중 붉은 사막을 발견하게 된다. 아무것도 자라지 않 는 메마른 사막. 그러나 그 안에 막대한 양의 자원이 내재되어 있다는 것을 알게 된 이들은, 대륙의 이름을 아르데타인으로 명명하고 그 위 에 수도 토트리치를 세워 국가를 건설한다.\\n로스트아크 아르데타인1\\n로스트아크 아르데타인2 기계 문명 <아르데타인>', metadata={'source': './files/chapter_one.txt'}),\n",
       " Document(page_content=\"로스트아크 아르데타인1\\n로스트아크 아르데타인2 기계 문명 <아르데타인>\\n하지만 메마른 땅 위에서 국가를 발전시켜 가는 길은 순탄치 않았다. 여러 길을 모색하던 아르데타인의 사람들은, 척박한 땅을 개간하기 위 해 만들었던 기계를 점차 인간의 신체를 대신하는 용도로까지 고려하게 되었다. 뼈대를 대체하는 것에서 시작한 신체 실험은 결국 종의 성 질을 바꾸는 경지에까지 도달하게 되었고, 마침내 신이 주신 붉은 피가 아닌 스스로 만든 푸른 피가 흐르는 종족으로 진화하게 되었다. 이 들은 진화된 자신들을 새로운 종족으로 분류하여 ‘케나인’이라 명명했다. 그리고 대도시 슈테른을 건설, 수도를 옮기고 더 큰 발전과 진화 의 방향을 모색하기 시작했다.\\n6.5. 아크라시움과 혼돈의 조각[편집]\\n아크가 남긴 또 하나의 유산, 아크라시움. 아크가 남긴 빛이 분산되면서 대륙 곳곳에 반짝이는 빛의 가루들이 흩뿌려졌다.\\n빛이 분산되면서 흩뿌려진 가루들은 지상에 내려와 '아크라시움'이라 불리는 신비한 광물이 되었다. 더불어 붉은 달이 소멸되면서 생성된 '혼돈의 조각'도 아크라시아 대륙 일부로 흩어졌다. 아크와 붉은 달의 파편들은 이후 세상을 크게 변화시킨다.\\n로스트아크 아크라시움\", metadata={'source': './files/chapter_one.txt'}),\n",
       " Document(page_content=\"로스트아크 아크라시움\\n중간계 문명에 큰 영향을 끼친 광물 '아크라시움'\\n아크라시움의 발견으로 인해 인류는 비약적인 발전을 이루게 되었다. 초기 아크라시움은 전사들의 무기와 방어구를 강화하는 용도에 그쳤 으나, 이후 기술의 발달로 욘의 ‘고대 용광로’, 아르데타인의 이동수단 ‘블리츠’와 같이 여러 용도에 활용되었다. 하지만 유한한 자원이었던 아크라시움의 가치는 시간이 지날수록 급격히 상승했고 결국 전쟁을 대비하기 위한 무기와 방어구 제작에 비율이 높아지면서 아크라시움 으로 제작된 물건들은 특수한 계층에게만 돌아가게 되었다. 이는 계층간의 힘의 격차를 더욱 극명하게 갈라놓았으며 대륙간의 힘의 균형 을 조금씩 변화시키는 계기가 되었다. 아크라시움이 가장 많이 생산되는 지역은 욘이었다. 욘은 로헨델과 베른간의 균형 잡힌 무역을 통해 서 부를 축적했으며 베른은 단기간에 나라의 위상을 끌어올릴 수가 있게 되었다. 게다가 수많은 아크라시움을 욘으로부터 대량으로 구매 한 베른은 이를 무기나 방어구로 가공하여 주변 국가와의 무역 수단으로 활용하기도 했다. 그렇게 아크라시움은 대륙에서 가장 중요한 물 질이 되었다.\", metadata={'source': './files/chapter_one.txt'}),\n",
       " Document(page_content=\"혼돈의 조각은 아크라시움 만큼 널리 알려져 있지 않고 발견하기도 힘든 물질이었다. 혼돈의 조각에는 작지만 태초의 혼돈이 가지고 있던 에너지가 있어 이를 감당하지 못하게 되면 파편의 소유자를 미치게 하거나 파멸하게 만든다고 전해졌다.\\n6.6. 루테란, 영광의 시대와 몰락[편집]\\n대악마 카제로스를 봉인한 뒤, 에스더 루테란은 마지막 전투가 벌어졌던 격전의 평야에서 종전을 선언한다.\\n로스트아크 루테란(도시)2 명예로운 기사의 나라 <루테란>\\n이후, 루테란은 자신의 나라로 돌아와 나라를 보살폈다. 루테란은 아르테미스의 연방국가들과 우호 조약을 체결하고 신생국인 베른, 아르 데타인을 포함해 교류가 적었던 욘, 로헨델과도 평화적인 관계를 맺었다. 사슬전쟁 당시 에스더라는 이름으로 여러 종족들을 통합했던 루 테란 왕의 이러한 행보는, 아크라시아 전역에 영향을 미쳤다. 루테란 왕의 서거 이후, 국가 루테란은 사백 년 동안 영광의 시대를 맞이하게 된다.\\n로스트아크 실리안\\n전설적인 인간 기사 '루테란'의 후손, 실리안 왕자\", metadata={'source': './files/chapter_one.txt'}),\n",
       " Document(page_content=\"로스트아크 실리안\\n전설적인 인간 기사 '루테란'의 후손, 실리안 왕자\\n그러나 오랜 시간이 흐른 뒤 국가 루테란은 조금씩 흔들리기 시작했다. 부유한 귀족들이 왕의 권위를 위협하게 된 것이다. 라이오넬 왕에 이르러 격화된 이 갈등의 중심에는 동부의 공작 슈헤리트가 있었다. 유약한 동생이 왕의 자리에 오른 것에 불만을 가졌던 슈헤리트는 동생 을 독살하고, 그의 아들 실리안을 대신해 섭정의 자리에 오른다. 이후, 성인이 된 실리안이 왕의 자격을 증명하지 못하는 것을 빌미로 유폐 시킨 뒤 암살을 시도한다. 도망친 실리안은 자신을 따르는 귀족들과 함께 대항군을 결성, 섭정 슈헤리트에 대항하기에 이른다.\\n7. 의지를 계승하는 자[편집]\\n7.1. 잊혀진 아크, 다가온 재앙[편집]\\n사슬전쟁 이후, 대륙의 국가들은 빠르게 발전하며 전쟁의 상처를 치유해가기 시작했다.\", metadata={'source': './files/chapter_one.txt'}),\n",
       " Document(page_content='7. 의지를 계승하는 자[편집]\\n7.1. 잊혀진 아크, 다가온 재앙[편집]\\n사슬전쟁 이후, 대륙의 국가들은 빠르게 발전하며 전쟁의 상처를 치유해가기 시작했다.\\n새로운 대주교 아래 세이크리아는 종교의 성지이자 대륙의 중심으로서의 권위를 회복해갔다. 아름다운 음악이 울려 퍼지는 플레체에서는 예술이 발전하였고, 여인국 파푸니카에서는 탐스러운 과실이 여물고 축제가 끊이지 않았다. 또한, 우마르족은 아크라시움을 바탕으로 무 기와 방어구를 제작해 부를 축적했다. 이렇듯 번성하기 시작한 아크라시아의 종족들은 그 어느 때보다 풍요한 시대를 영위해 나가고 있었 다. 오백 년간 이어진 긴 평화로 인해 아크라시아의 종족들에게서 악마들과의 전쟁은 잊혀져갔고 아크의 존재 역시 완전히 잊혀졌다.', metadata={'source': './files/chapter_one.txt'}),\n",
       " Document(page_content='아크라시아의 종족들이 잊은 것은 비단 전쟁뿐만이 아니었다. 사람들은 아크를 동화책에서나 나오는 이야기라고 생각했으며 그렇게 태초 의 힘인 아크의 존재는 아크라시아의 종족들에게서 점차 지워져 갔다. 하지만 오랜 세월을 거치며 카제로스의 육체가 봉인되어 있는 쿠르 잔의 화산이 다시 분화하기 시작했고, 육체를 봉인했던 루페온의 사슬들도 조금씩 느슨해지기 시작했다. 페트라니아에 자리한 영혼과 공 명하기 시작한 그의 육체로 인해, 다시 아크라시아에 크고 작은 카오스게이트가 열리기 시작했다. 하지만 오래된 평화로 인해 아크라시아 의 종족들은 다가오는 재앙을 눈치채지 못했다.\\n황혼이 지는 어느 저녁, 해무리 언덕 광장에서 한 음유시인은 과거를 노래했다. 토토이크라는 거인이 난쟁이를 만들었다는 내용이었다. 이 를 들은 사람들은 허무맹랑한 이야기라며 노인을 조롱했다. 노인은 개의치 않은 듯 일어나 사람들에게 말했다.\\n\"세상엔 믿지 못할 전설들이 많지 않은가? 그 옛날 악마를 물리쳤던 힘. 아크처럼 말이지...\"', metadata={'source': './files/chapter_one.txt'}),\n",
       " Document(page_content='\"세상엔 믿지 못할 전설들이 많지 않은가? 그 옛날 악마를 물리쳤던 힘. 아크처럼 말이지...\"\\n그렇게 아크는 종족들의 기억에서 사라져 갔다. 사람들은 모두 그 존재를 잊어버렸다. 요정의 숲에 사는 아이들도, 기계국가를 건설한 공학 자들도, 풍류의 정원으로 떠난 신선들도, 영광의 시대를 열었던 기사들마저도 아크를 잊어버렸다.', metadata={'source': './files/chapter_one.txt'})]"
      ]
     },
     "execution_count": 34,
     "metadata": {},
     "output_type": "execute_result"
    }
   ],
   "source": [
    "from langchain.text_splitter import CharacterTextSplitter\n",
    "\n",
    "splitter = CharacterTextSplitter(\n",
    "    separator=\"\\n\",\n",
    "    chunk_size=600,\n",
    "    chunk_overlap=100,\n",
    ")\n",
    "\n",
    "loader = UnstructuredFileLoader(\"./files/chapter_one.txt\")\n",
    "\n",
    "loader.load_and_split(text_splitter=splitter)\n"
   ]
  },
  {
   "cell_type": "code",
   "execution_count": 38,
   "metadata": {},
   "outputs": [
    {
     "name": "stderr",
     "output_type": "stream",
     "text": [
      "Created a chunk of size 717, which is longer than the specified 600\n",
      "Created a chunk of size 640, which is longer than the specified 600\n",
      "Created a chunk of size 630, which is longer than the specified 600\n",
      "Created a chunk of size 646, which is longer than the specified 600\n",
      "Created a chunk of size 832, which is longer than the specified 600\n",
      "Created a chunk of size 1119, which is longer than the specified 600\n",
      "Created a chunk of size 1003, which is longer than the specified 600\n",
      "Created a chunk of size 840, which is longer than the specified 600\n",
      "Created a chunk of size 982, which is longer than the specified 600\n",
      "Created a chunk of size 800, which is longer than the specified 600\n",
      "Created a chunk of size 789, which is longer than the specified 600\n",
      "Created a chunk of size 673, which is longer than the specified 600\n",
      "Created a chunk of size 702, which is longer than the specified 600\n",
      "Created a chunk of size 1104, which is longer than the specified 600\n",
      "Created a chunk of size 696, which is longer than the specified 600\n",
      "Created a chunk of size 1411, which is longer than the specified 600\n",
      "Created a chunk of size 1009, which is longer than the specified 600\n",
      "Created a chunk of size 971, which is longer than the specified 600\n",
      "Created a chunk of size 1103, which is longer than the specified 600\n",
      "Created a chunk of size 862, which is longer than the specified 600\n",
      "Created a chunk of size 656, which is longer than the specified 600\n",
      "Created a chunk of size 691, which is longer than the specified 600\n",
      "Created a chunk of size 692, which is longer than the specified 600\n",
      "Created a chunk of size 711, which is longer than the specified 600\n",
      "Created a chunk of size 820, which is longer than the specified 600\n",
      "Created a chunk of size 779, which is longer than the specified 600\n",
      "Created a chunk of size 655, which is longer than the specified 600\n",
      "Created a chunk of size 1387, which is longer than the specified 600\n",
      "Created a chunk of size 761, which is longer than the specified 600\n",
      "Created a chunk of size 1014, which is longer than the specified 600\n",
      "Created a chunk of size 681, which is longer than the specified 600\n",
      "Created a chunk of size 1156, which is longer than the specified 600\n",
      "Created a chunk of size 622, which is longer than the specified 600\n",
      "Created a chunk of size 641, which is longer than the specified 600\n",
      "Created a chunk of size 701, which is longer than the specified 600\n"
     ]
    }
   ],
   "source": [
    "from langchain.chat_models import ChatOpenAI\n",
    "from langchain.document_loaders import UnstructuredFileLoader\n",
    "from langchain.text_splitter import CharacterTextSplitter\n",
    "from langchain.embeddings import OpenAIEmbeddings, CacheBackedEmbeddings\n",
    "from langchain.vectorstores import Chroma\n",
    "from langchain.storage import LocalFileStore\n",
    "\n",
    "cache_dir = LocalFileStore(\"./c.ache/\")\n",
    "\n",
    "splitter = CharacterTextSplitter.from_tiktoken_encoder(\n",
    "    separator=\"\\n\",\n",
    "    chunk_size=600,\n",
    "    chunk_overlap=100,\n",
    ")\n",
    "\n",
    "loader = UnstructuredFileLoader(\"./files/chapter_one.txt\")\n",
    "docs = loader.load_and_split(text_splitter=splitter)\n",
    "embeddings = OpenAIEmbeddings()\n",
    "\n",
    "vector_store = Chroma.from_documents(docs, embeddings)"
   ]
  },
  {
   "cell_type": "code",
   "execution_count": 44,
   "metadata": {},
   "outputs": [
    {
     "data": {
      "text/plain": [
       "[Document(page_content='카제로스를 섬기는 6인의 악마군단장\\n카제로스가 가장 먼저 만들어낸 것은 몽환군단이었다. 그는 가장 냉정하고 잔인한 페트라니아 제일의 지략가이자 강대한 마법의 힘을 지 닌 ‘아브렐슈드’를 몽환군단장으로 임명했다. 아브렐슈드는 카제로스의 명령에 따라 악마들을 움직여 전 페트라니아를 뒤흔들었던 인물이 었다.\\n로스트아크 아브렐슈드\\n몽환군단장 아브렐슈드', metadata={'source': './files/chapter_one.txt'}),\n",
       " Document(page_content='본디 카제로스는 심연에서 태어난 존재였다. 그는 어둠에 침식된 심연을 증오하여 대우주 오르페우스와 페트라니아, 두 차원을 하나로 통 합하기를 원했지만 오르페우스로 넘어가는 차원의 균열을 만들어낼 방법을 알지 못했다. 혼돈의 생명체가 모두 페트라니아에서 소멸되어 가던 어느 날, 그곳에 남아있던 마지막 생존자가 카제로스를 찾아왔다. 그는 카제로스에게 “붉은 달이 꺼질 때, 차원이 뒤틀릴 것이다.”라는 예언을 남기고 사라졌다. 이후, 페트라니아를 완전히 지배하는데 성공한 카제로스는 그가 들려주었던 예언대로 붉은 달이 검게 물들기를 기다렸다. 시간이 지날수록 결코 가질 수 없는 태양에 대한 갈망, 아크에 대한 카제로스의 탐욕은 점차 커지고 있었다.', metadata={'source': './files/chapter_one.txt'}),\n",
       " Document(page_content=\"로스트아크 카멘 어둠군단장 카멘\\n카멘을 마지막으로 마침내 여섯 개의 군단이 모두 완성되었다. 카제로스는 예언자가 이야기했던 차원의 균열이 열릴 때가 다가오고 있음 을 직감했다. 검게 물들기 시작한 붉은 달이 그 빛을 거의 잃어가고 있었기 때문이다.\\n4. 깨어난 가디언[편집]\\n4.1. 대주교의 국가 '세이크리아'의 타락[편집]\\n세이크리아에는 성기사단과 비밀조직 새벽의 사제들이 존재했다.\", metadata={'source': './files/chapter_one.txt'}),\n",
       " Document(page_content='이그하람은 카제로스와 그가 만들어낸 악마들을 다시 혼돈으로 되돌리기 위해 ‘태초의 어둠’을 사용했다. 그러나 태초부터 존재한 자들은 이그하람을 배신했고, 카제로스 편에 서서 이그하람에 맞서기 시작했다. 심연의 세계에 익숙했던 그들은 마침내 혼돈의 진정한 주인이었 던 이그하람을 소멸시키는데 성공한다. 그렇게 심연의 불꽃을 다루는 카제로스는 어둠의 주인이 되었다. 혼돈의 세계에 질서를 만든 그는, 페트라니아에 문명을 만들어가기 시작했다.\\n로스트아크 이그하람의죽음', metadata={'source': './files/chapter_one.txt'})]"
      ]
     },
     "execution_count": 44,
     "metadata": {},
     "output_type": "execute_result"
    }
   ],
   "source": [
    "result = vector_store.similarity_search(\"카제로스가 누구입니까?\")\n",
    "result"
   ]
  },
  {
   "cell_type": "code",
   "execution_count": 42,
   "metadata": {},
   "outputs": [
    {
     "data": {
      "text/plain": [
       "[Document(page_content='이름을 물었다. “카단.” 남자는 혼잣말을 하듯 자신의 이름을 읊조리고는 대륙을 떠났다.\\n5. 사슬 전쟁[편집]\\n5.1. 사슬 전쟁의 발발[편집]\\n사슬 전쟁. 긴 사슬처럼... 오랜 기간, 꼬리에 꼬리를 물고 발생한 이 참혹한 전쟁을 사람들은 그렇게 불렀다.', metadata={'source': './files/chapter_one.txt'}),\n",
       " Document(page_content=\"로스트아크 카멘 어둠군단장 카멘\\n카멘을 마지막으로 마침내 여섯 개의 군단이 모두 완성되었다. 카제로스는 예언자가 이야기했던 차원의 균열이 열릴 때가 다가오고 있음 을 직감했다. 검게 물들기 시작한 붉은 달이 그 빛을 거의 잃어가고 있었기 때문이다.\\n4. 깨어난 가디언[편집]\\n4.1. 대주교의 국가 '세이크리아'의 타락[편집]\\n세이크리아에는 성기사단과 비밀조직 새벽의 사제들이 존재했다.\", metadata={'source': './files/chapter_one.txt'}),\n",
       " Document(page_content='동쪽에 새로 생긴 나라 <애니츠>', metadata={'source': './files/chapter_one.txt'}),\n",
       " Document(page_content='붉은 달은 카제로스가 가진 심연의 불꽃을 더욱 강하게 만들었고, 가디언들은 수세에 몰렸다. 본디 혼돈의 힘에 더 가까웠던 바르칸은 심연 의 불꽃을 사용하는 카제로스의 힘에 매료되어 악마군단의 편에 서기로 결심한다. 바르칸과 그를 따르던 일부 가디언들이 에버그레이스를 배신하자 상황은 급격히 악화된다. 바르칸이 막아 섰던 어둠 군단장 카멘이 카제로스를 도와 에버그레이스를 공격하기 시작했던 것이다. 거대한 힘을 가지고 있던 에버그레이스였으나 카제로스와 카멘의 협공을 이겨내지 못했고, 결국 큰 부상을 입게 되었다. 기세를 몰아 악마 군단은 아크라시아 정복을 눈앞에 두고 있었다. 하지만 절체절명의 순간, 아크라시아 대륙의 마지막 희망이 빛나기 시작했다. 루테란이라 는 인간 기사가 전장에 나타난 것이다.', metadata={'source': './files/chapter_one.txt'})]"
      ]
     },
     "execution_count": 42,
     "metadata": {},
     "output_type": "execute_result"
    }
   ],
   "source": []
  },
  {
   "cell_type": "code",
   "execution_count": 1,
   "metadata": {},
   "outputs": [],
   "source": [
    "from langchain.vectorstores import Chroma"
   ]
  },
  {
   "cell_type": "code",
   "execution_count": null,
   "metadata": {},
   "outputs": [],
   "source": []
  }
 ],
 "metadata": {
  "kernelspec": {
   "display_name": "env",
   "language": "python",
   "name": "python3"
  },
  "language_info": {
   "codemirror_mode": {
    "name": "ipython",
    "version": 3
   },
   "file_extension": ".py",
   "mimetype": "text/x-python",
   "name": "python",
   "nbconvert_exporter": "python",
   "pygments_lexer": "ipython3",
   "version": "3.11.4"
  }
 },
 "nbformat": 4,
 "nbformat_minor": 2
}
