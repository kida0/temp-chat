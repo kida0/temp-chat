{
 "cells": [
  {
   "cell_type": "code",
   "execution_count": 1,
   "metadata": {},
   "outputs": [],
   "source": [
    "from langchain.chat_models import ChatOpenAI\n",
    "from langchain.prompts import PromptTemplate"
   ]
  },
  {
   "cell_type": "code",
   "execution_count": null,
   "metadata": {},
   "outputs": [],
   "source": [
    "llm = ChatOpenAI(\n",
    "    temperature=0.1,\n",
    ")\n",
    "\n",
    "prompt = PromptTemplate.from_template(\"Who is the weather in {city}\")\n",
    "chain = prompt | llm\n",
    "chain.invoke({\"city\": \"rome\"})"
   ]
  },
  {
   "cell_type": "markdown",
   "metadata": {},
   "source": [
    "위와 같이 실시간 정보(특정 지역의 날씨)는 받아올 수 없기 때문에, 함수에 해당 정보를 넘겨줘야 함"
   ]
  },
  {
   "cell_type": "code",
   "execution_count": 4,
   "metadata": {},
   "outputs": [],
   "source": [
    "def get_weather(lon, lat):\n",
    "    print(\"call an api...\")\n",
    "    \n",
    "function = {\n",
    "    \"name\": \"get_weather\",\n",
    "    \"description\": \"function that takes longitude and latitude to find the weather of a place\",\n",
    "    \"parameters\": {\n",
    "        \"type\": \"object\",\n",
    "        \"properties\": {\n",
    "                \"lon\": {\n",
    "                    \"type\": \"string\",\n",
    "                    \"description\": \"The longitude coordinate\"\n",
    "                },\n",
    "                \"lat\": {\n",
    "                    \"type\": \"string\",\n",
    "                    \"description\": \"The latitude coordinate\"\n",
    "                },\n",
    "        }\n",
    "    },\n",
    "    \"required\": [\"lon\", \"lat\"]\n",
    "}"
   ]
  },
  {
   "cell_type": "code",
   "execution_count": 11,
   "metadata": {},
   "outputs": [
    {
     "data": {
      "text/plain": [
       "'{\\n  \"lon\": \"12.4964\",\\n  \"lat\": \"41.9028\"\\n}'"
      ]
     },
     "execution_count": 11,
     "metadata": {},
     "output_type": "execute_result"
    }
   ],
   "source": [
    "llm = ChatOpenAI(\n",
    "    temperature=0.1,\n",
    ").bind(function_call=\"auto\", functions=[function])\n",
    "\n",
    "prompt = PromptTemplate.from_template(\"Who is the weather in {city}\")\n",
    "chain = prompt | llm\n",
    "response = chain.invoke({\"city\": \"rome\"})\n",
    "response = response.additional_kwargs[\"function_call\"][\"arguments\"]\n",
    "response"
   ]
  },
  {
   "cell_type": "code",
   "execution_count": 10,
   "metadata": {},
   "outputs": [
    {
     "name": "stdout",
     "output_type": "stream",
     "text": [
      "call an api...\n"
     ]
    }
   ],
   "source": [
    "import json\n",
    "\n",
    "r = json.loads(response)\n",
    "get_weather(r[\"lon\"], r[\"lat\"])"
   ]
  },
  {
   "cell_type": "code",
   "execution_count": 12,
   "metadata": {},
   "outputs": [],
   "source": [
    "function = {\n",
    "    \"name\": \"create_quiz\",\n",
    "    \"description\": \"function that takes a list of questions and answers and returns a quiz\",\n",
    "    \"parameters\": {\n",
    "        \"type\": \"object\",\n",
    "        \"properties\": {\n",
    "            \"questions\": {\n",
    "                \"type\": \"array\",\n",
    "                \"items\": {\n",
    "                    \"type\": \"object\",\n",
    "                    \"properties\": {\n",
    "                        \"question\": {\n",
    "                            \"type\": \"string\",\n",
    "                        },\n",
    "                        \"answers\": {\n",
    "                            \"type\": \"array\",\n",
    "                            \"items\": {\n",
    "                                \"type\": \"object\",\n",
    "                                \"properties\": {\n",
    "                                    \"answer\": {\n",
    "                                        \"type\": \"string\",\n",
    "                                    },\n",
    "                                    \"correct\": {\n",
    "                                        \"type\": \"boolean\",\n",
    "                                    },\n",
    "                                },\n",
    "                                \"required\": [\"answer\", \"correct\"],\n",
    "                            },\n",
    "                        },\n",
    "                    },\n",
    "                    \"required\": [\"question\", \"answers\"],\n",
    "                },\n",
    "            }\n",
    "        },\n",
    "        \"required\": [\"questions\"],\n",
    "    },\n",
    "}"
   ]
  },
  {
   "cell_type": "code",
   "execution_count": 13,
   "metadata": {},
   "outputs": [],
   "source": [
    "llm = ChatOpenAI(\n",
    "    temperature=0.1,\n",
    ").bind(\n",
    "    function_call={\n",
    "        \"name\": \"create_quiz\",\n",
    "    },\n",
    "    functions=[\n",
    "        function,\n",
    "    ],\n",
    ")"
   ]
  },
  {
   "cell_type": "code",
   "execution_count": 14,
   "metadata": {},
   "outputs": [
    {
     "data": {
      "text/plain": [
       "'{\\n  \"questions\": [\\n    {\\n      \"question\": \"What year was Rome founded?\",\\n      \"answers\": [\\n        {\\n          \"answer\": \"753 BC\",\\n          \"correct\": true\\n        },\\n        {\\n          \"answer\": \"476 AD\",\\n          \"correct\": false\\n        },\\n        {\\n          \"answer\": \"1492 AD\",\\n          \"correct\": false\\n        },\\n        {\\n          \"answer\": \"1066 AD\",\\n          \"correct\": false\\n        }\\n      ]\\n    },\\n    {\\n      \"question\": \"Who was the first emperor of Rome?\",\\n      \"answers\": [\\n        {\\n          \"answer\": \"Julius Caesar\",\\n          \"correct\": false\\n        },\\n        {\\n          \"answer\": \"Augustus\",\\n          \"correct\": true\\n        },\\n        {\\n          \"answer\": \"Nero\",\\n          \"correct\": false\\n        },\\n        {\\n          \"answer\": \"Constantine\",\\n          \"correct\": false\\n        }\\n      ]\\n    },\\n    {\\n      \"question\": \"What was the official language of the Roman Empire?\",\\n      \"answers\": [\\n        {\\n          \"answer\": \"Latin\",\\n          \"correct\": true\\n        },\\n        {\\n          \"answer\": \"Greek\",\\n          \"correct\": false\\n        },\\n        {\\n          \"answer\": \"Italian\",\\n          \"correct\": false\\n        },\\n        {\\n          \"answer\": \"Spanish\",\\n          \"correct\": false\\n        }\\n      ]\\n    },\\n    {\\n      \"question\": \"Who was the legendary founder of Rome?\",\\n      \"answers\": [\\n        {\\n          \"answer\": \"Romulus\",\\n          \"correct\": true\\n        },\\n        {\\n          \"answer\": \"Remus\",\\n          \"correct\": false\\n        },\\n        {\\n          \"answer\": \"Caesar\",\\n          \"correct\": false\\n        },\\n        {\\n          \"answer\": \"Hannibal\",\\n          \"correct\": false\\n        }\\n      ]\\n    },\\n    {\\n      \"question\": \"What was the name of the Roman gladiatorial arena?\",\\n      \"answers\": [\\n        {\\n          \"answer\": \"Colosseum\",\\n          \"correct\": true\\n        },\\n        {\\n          \"answer\": \"Pantheon\",\\n          \"correct\": false\\n        },\\n        {\\n          \"answer\": \"Forum\",\\n          \"correct\": false\\n        },\\n        {\\n          \"answer\": \"Circus Maximus\",\\n          \"correct\": false\\n        }\\n      ]\\n    }\\n  ]\\n}'"
      ]
     },
     "execution_count": 14,
     "metadata": {},
     "output_type": "execute_result"
    }
   ],
   "source": [
    "prompt = PromptTemplate.from_template(\"Make a quiz about {city}\")\n",
    "chain = prompt | llm\n",
    "response = chain.invoke({\"city\": \"rome\"})\n",
    "response = response.additional_kwargs[\"function_call\"][\"arguments\"]\n",
    "\n",
    "response"
   ]
  },
  {
   "cell_type": "code",
   "execution_count": 15,
   "metadata": {},
   "outputs": [
    {
     "data": {
      "text/plain": [
       "{'questions': [{'question': 'What year was Rome founded?',\n",
       "   'answers': [{'answer': '753 BC', 'correct': True},\n",
       "    {'answer': '476 AD', 'correct': False},\n",
       "    {'answer': '1492 AD', 'correct': False},\n",
       "    {'answer': '1066 AD', 'correct': False}]},\n",
       "  {'question': 'Who was the first emperor of Rome?',\n",
       "   'answers': [{'answer': 'Julius Caesar', 'correct': False},\n",
       "    {'answer': 'Augustus', 'correct': True},\n",
       "    {'answer': 'Nero', 'correct': False},\n",
       "    {'answer': 'Constantine', 'correct': False}]},\n",
       "  {'question': 'What was the official language of the Roman Empire?',\n",
       "   'answers': [{'answer': 'Latin', 'correct': True},\n",
       "    {'answer': 'Greek', 'correct': False},\n",
       "    {'answer': 'Italian', 'correct': False},\n",
       "    {'answer': 'Spanish', 'correct': False}]},\n",
       "  {'question': 'Who was the legendary founder of Rome?',\n",
       "   'answers': [{'answer': 'Romulus', 'correct': True},\n",
       "    {'answer': 'Remus', 'correct': False},\n",
       "    {'answer': 'Caesar', 'correct': False},\n",
       "    {'answer': 'Hannibal', 'correct': False}]},\n",
       "  {'question': 'What was the name of the Roman gladiatorial arena?',\n",
       "   'answers': [{'answer': 'Colosseum', 'correct': True},\n",
       "    {'answer': 'Pantheon', 'correct': False},\n",
       "    {'answer': 'Forum', 'correct': False},\n",
       "    {'answer': 'Circus Maximus', 'correct': False}]}]}"
      ]
     },
     "execution_count": 15,
     "metadata": {},
     "output_type": "execute_result"
    }
   ],
   "source": [
    "json.loads(response)"
   ]
  },
  {
   "cell_type": "code",
   "execution_count": null,
   "metadata": {},
   "outputs": [],
   "source": []
  }
 ],
 "metadata": {
  "kernelspec": {
   "display_name": "env",
   "language": "python",
   "name": "python3"
  },
  "language_info": {
   "codemirror_mode": {
    "name": "ipython",
    "version": 3
   },
   "file_extension": ".py",
   "mimetype": "text/x-python",
   "name": "python",
   "nbconvert_exporter": "python",
   "pygments_lexer": "ipython3",
   "version": "3.11.4"
  }
 },
 "nbformat": 4,
 "nbformat_minor": 2
}
